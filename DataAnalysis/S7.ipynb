{
 "cells": [
  {
   "cell_type": "markdown",
   "metadata": {},
   "source": [
    "**@author: James V. Talwar**\n",
    "\n",
    "# HLA Supertype Analysis: Supertype and Age of Diagnosis in SKCM TCGA Patients \n",
    "\n",
    "**About:** This notebook provides the code needed to generate **Supplementary Figure 7** from the paper [*Autoimmune Alleles at the Major Histocompatibility Locus Modify Melanoma Susceptibility*](https://www.biorxiv.org/content/10.1101/2021.08.12.456166v1.full). These analyses investigated the effect of HLA supertype (class I) on age of diagnosis in TCGA skin cutaneous melanoma (SKCM) cases. \n",
    "\n",
    "## 1. Import Packages; Load Data"
   ]
  },
  {
   "cell_type": "code",
   "execution_count": 1,
   "metadata": {},
   "outputs": [],
   "source": [
    "import pandas as pd\n",
    "import os\n",
    "from collections import defaultdict\n",
    "import numpy as np\n",
    "from scipy.stats import mannwhitneyu\n",
    "from statsmodels.stats.multitest import multipletests\n",
    "from statsmodels.stats.multitest import fdrcorrection\n",
    "import seaborn as sns\n",
    "from matplotlib import pyplot as plt\n",
    "\n",
    "plt.rcParams['pdf.fonttype'] = 42\n",
    "plt.rcParams['ps.fonttype'] = 42"
   ]
  },
  {
   "cell_type": "code",
   "execution_count": 2,
   "metadata": {},
   "outputs": [
    {
     "data": {
      "text/plain": [
       "{'HLA-B13:02',\n",
       " 'HLA-B27:05',\n",
       " 'HLA-B39:06',\n",
       " 'HLA-B51:01',\n",
       " 'HLA-B57:01',\n",
       " 'HLA-C06:02',\n",
       " 'HLA-C12:03'}"
      ]
     },
     "execution_count": 2,
     "metadata": {},
     "output_type": "execute_result"
    }
   ],
   "source": [
    "#get AI alleles\n",
    "autoimmuneAlleles = set(pd.read_csv(\"../Data/AutoimmuneAlleles.tsv\", sep = \"\\t\", header = None)[0].tolist())\n",
    "autoimmuneAlleles"
   ]
  },
  {
   "cell_type": "markdown",
   "metadata": {},
   "source": [
    "Load in TCGA summary dataframe (MHC-I genotypes, Age of Diagnosis, Sex, etc.):"
   ]
  },
  {
   "cell_type": "code",
   "execution_count": 3,
   "metadata": {},
   "outputs": [],
   "source": [
    "tcgaSummary = pd.read_csv(\"../GenotypeData/TCGA_Summary_With_BRAFV600E_Mutation_Status.tsv\", index_col = 0, sep = \"\\t\")\n",
    "\n",
    "#Ensure AI Allele Status is correct\n",
    "tcgaSummary[\"HasProtection\"] = [(len(set(row[\"A1\":\"C2\"]).intersection(autoimmuneAlleles)) > 0) for i,row in tcgaSummary.iterrows()]\n",
    "\n",
    "#Filter out individuals < 20 years old given increased likelihood of rare germline predisposing variants.\n",
    "tcgaSummary = tcgaSummary[tcgaSummary.Age >= 20]"
   ]
  },
  {
   "cell_type": "markdown",
   "metadata": {},
   "source": [
    "Load in HLA supertypes:"
   ]
  },
  {
   "cell_type": "code",
   "execution_count": 4,
   "metadata": {},
   "outputs": [],
   "source": [
    "path = '../Data/Class_I_Supertypes/'\n",
    "files = os.listdir(path)\n",
    "superTypes = defaultdict(set)\n",
    "for file in files:\n",
    "    temp = pd.read_csv(os.path.join(path, file), header = None)\n",
    "    superTypes[file] = set(temp.iloc[:, 0])"
   ]
  },
  {
   "cell_type": "markdown",
   "metadata": {},
   "source": [
    "## 2. Data Processing and Formatting:"
   ]
  },
  {
   "cell_type": "markdown",
   "metadata": {},
   "source": [
    "Map each SKCM TCGA individual to all potential supertypes they contain. *Note that since supertypes don't include HLA-C these supertype mappings focus on HLA-A and HLA-B.*"
   ]
  },
  {
   "cell_type": "code",
   "execution_count": 5,
   "metadata": {},
   "outputs": [],
   "source": [
    "superTypeMapping = defaultdict(lambda: defaultdict(bool))\n",
    "for i,row in tcgaSummary.iterrows():\n",
    "    mhcGenotype = set(row[\"A1\":\"B2\"]) \n",
    "    for sup, alleles in sorted(superTypes.items()):\n",
    "        superTypeMapping[i][sup] = len(mhcGenotype.intersection(alleles)) > 0"
   ]
  },
  {
   "cell_type": "markdown",
   "metadata": {},
   "source": [
    "Merge supertype information with TCGA summary dataframe:"
   ]
  },
  {
   "cell_type": "code",
   "execution_count": 6,
   "metadata": {},
   "outputs": [],
   "source": [
    "tcgaSummary = pd.concat([tcgaSummary, pd.DataFrame(superTypeMapping).T], axis = 1)"
   ]
  },
  {
   "cell_type": "markdown",
   "metadata": {},
   "source": [
    "Reformat summary dataframe in a compatible format for visualization/plotting:"
   ]
  },
  {
   "cell_type": "code",
   "execution_count": 7,
   "metadata": {},
   "outputs": [],
   "source": [
    "forPlottingViz = defaultdict(list)\n",
    "for col in sorted(superTypes):\n",
    "    for i,row in tcgaSummary.iterrows():\n",
    "        forPlottingViz[\"ID\"].append(i)\n",
    "        forPlottingViz[\"Age\"].append(row[\"Age\"])\n",
    "        forPlottingViz[\"Sex\"].append(row[\"Sex\"])\n",
    "        forPlottingViz[\"SuperType\"].append(col)\n",
    "        forPlottingViz[\"HasSuperType\"].append(row[col])\n",
    "seabornCompatibleDF = pd.DataFrame(forPlottingViz)"
   ]
  },
  {
   "cell_type": "markdown",
   "metadata": {},
   "source": [
    "## 3. Run Analyses and Generate Figure:"
   ]
  },
  {
   "cell_type": "markdown",
   "metadata": {},
   "source": [
    "Do any supertypes show significant age differences?"
   ]
  },
  {
   "cell_type": "code",
   "execution_count": 8,
   "metadata": {},
   "outputs": [],
   "source": [
    "uncorrectedSignificances = defaultdict(float)\n",
    "for col in sorted(superTypes):\n",
    "    _ , p = mannwhitneyu(tcgaSummary[tcgaSummary[col] == False].Age, tcgaSummary[tcgaSummary[col]].Age)\n",
    "    uncorrectedSignificances[col] = p"
   ]
  },
  {
   "cell_type": "markdown",
   "metadata": {},
   "source": [
    "Run MH correction:"
   ]
  },
  {
   "cell_type": "code",
   "execution_count": 9,
   "metadata": {},
   "outputs": [
    {
     "name": "stdout",
     "output_type": "stream",
     "text": [
      "Before MH-correction the MWU p values are as follows: [('B44', 0.015273046798791866), ('A02', 0.07951903397927812), ('unclassified', 0.17647837959409357), ('A01', 0.18967393860751514), ('B58', 0.2284133560503378), ('B07', 0.3389113564639759), ('B27', 0.3724317902154276), ('A01_A24', 0.3902244040668289), ('B62', 0.4059537432879638), ('A01_A03', 0.4687324538822203), ('A24', 0.47104779854612566), ('A03', 0.4740290664446913), ('B08', 0.48029091023837217)]\n"
     ]
    }
   ],
   "source": [
    "print(\"Before MH-correction the MWU p values are as follows: {}\".format(sorted(uncorrectedSignificances.items(), key = lambda x: x[1])))"
   ]
  },
  {
   "cell_type": "code",
   "execution_count": 10,
   "metadata": {},
   "outputs": [
    {
     "data": {
      "text/plain": [
       "(array([False, False, False, False, False, False, False, False, False,\n",
       "        False, False, False, False]),\n",
       " array([0.19854961, 0.48029091, 0.48029091, 0.48029091, 0.48029091,\n",
       "        0.48029091, 0.48029091, 0.48029091, 0.48029091, 0.48029091,\n",
       "        0.48029091, 0.48029091, 0.48029091]),\n",
       " 0.008071900880671112,\n",
       " 0.007692307692307693)"
      ]
     },
     "execution_count": 10,
     "metadata": {},
     "output_type": "execute_result"
    }
   ],
   "source": [
    "mhTesting = multipletests(pvals = [el[1] for el in sorted(uncorrectedSignificances.items(), key = lambda x: x[1])], alpha = 0.1, method = 'fdr_bh')\n",
    "mhTesting"
   ]
  },
  {
   "cell_type": "code",
   "execution_count": 11,
   "metadata": {},
   "outputs": [
    {
     "data": {
      "text/plain": [
       "{'B44': 0.19854960838429425,\n",
       " 'A02': 0.48029091023837217,\n",
       " 'unclassified': 0.48029091023837217,\n",
       " 'A01': 0.48029091023837217,\n",
       " 'B58': 0.48029091023837217,\n",
       " 'B07': 0.48029091023837217,\n",
       " 'B27': 0.48029091023837217,\n",
       " 'A01_A24': 0.48029091023837217,\n",
       " 'B62': 0.48029091023837217,\n",
       " 'A01_A03': 0.48029091023837217,\n",
       " 'A24': 0.48029091023837217,\n",
       " 'A03': 0.48029091023837217,\n",
       " 'B08': 0.48029091023837217}"
      ]
     },
     "execution_count": 11,
     "metadata": {},
     "output_type": "execute_result"
    }
   ],
   "source": [
    "correctedPVals = dict(zip([el[0] for el in sorted(uncorrectedSignificances.items(), key = lambda x: x[1])], mhTesting[1]))\n",
    "correctedPVals"
   ]
  },
  {
   "cell_type": "markdown",
   "metadata": {},
   "source": [
    "Generate figure:"
   ]
  },
  {
   "cell_type": "code",
   "execution_count": 12,
   "metadata": {},
   "outputs": [
    {
     "data": {
      "image/png": "[encoded data removed]",
      "text/plain": [
       "<Figure size 1800x936 with 1 Axes>"
      ]
     },
     "metadata": {},
     "output_type": "display_data"
    }
   ],
   "source": [
    "sns.set(font_scale = 1.1)\n",
    "supertypePalette = {False: \"maroon\", True:\"teal\"}\n",
    "fig, ax = plt.subplots(figsize=(25,13))\n",
    "sns.set(font_scale=1.13)\n",
    "sns.boxplot(data = seabornCompatibleDF, y = \"Age\", hue = \"HasSuperType\", x = \"SuperType\", palette = supertypePalette)\n",
    "plt.xticks(rotation = 45, fontsize = 17)\n",
    "plt.yticks(fontsize = 17)\n",
    "plt.ylim(15,95)\n",
    "\n",
    "plt.legend(title = \"Has Supertype\", loc = 4)\n",
    "plt.xlabel('HLA Supertype', fontsize = 21)\n",
    "plt.ylabel(\"Age at Diagnosis\", fontsize = 21)\n",
    "\n",
    "for i in range(len(ax.get_xticklabels())):\n",
    "    if ax.get_xticklabels()[i].get_text() == \"B44\":\n",
    "        ax.get_xticklabels()[i].set_color(\"red\")"
   ]
  },
  {
   "cell_type": "markdown",
   "metadata": {},
   "source": [
    "Age difference gap in B44 supertype:"
   ]
  },
  {
   "cell_type": "code",
   "execution_count": 13,
   "metadata": {},
   "outputs": [
    {
     "name": "stdout",
     "output_type": "stream",
     "text": [
      "B44 carrier median age: 57.0\n",
      "B44 non-carrier median age: 61.0\n"
     ]
    }
   ],
   "source": [
    "print(\"B44 carrier median age: {}\".format(np.median(tcgaSummary[tcgaSummary[\"B44\"]].Age)))\n",
    "print(\"B44 non-carrier median age: {}\".format(np.median(tcgaSummary[tcgaSummary[\"B44\"] == False].Age)))"
   ]
  }
 ],
 "metadata": {
  "kernelspec": {
   "display_name": "Python 3",
   "language": "python",
   "name": "python3"
  },
  "language_info": {
   "codemirror_mode": {
    "name": "ipython",
    "version": 3
   },
   "file_extension": ".py",
   "mimetype": "text/x-python",
   "name": "python",
   "nbconvert_exporter": "python",
   "pygments_lexer": "ipython3",
   "version": "3.7.3"
  }
 },
 "nbformat": 4,
 "nbformat_minor": 4
}
