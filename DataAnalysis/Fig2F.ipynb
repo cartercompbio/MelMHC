{
 "cells": [
  {
   "cell_type": "markdown",
   "metadata": {},
   "source": [
    "**@author: James V. Talwar**\n",
    "\n",
    "# Autoimmune SNPs: Effect on Age of Diagnosis in Discovery and Validation Cohorts\n",
    "\n",
    "**About:** This notebook provides the code needed to generate Figure 2 panel F (and relevant statistical anlyses) from the paper [*Autoimmune Alleles at the Major Histocompatibility Locus Modify Melanoma Susceptibility*](https://www.biorxiv.org/content/10.1101/2021.08.12.456166v1.full). These analyses investigated 30 autoimmune SNPs with age of diagnosis in both discovery and validation cohorts. These SNPs included four with established vitiligo-melanoma associations either as the joint lead risk SNP for both conditions (rs1126809, rs6059655) or in strong linkage disequilibrium with known cutaneous melanoma risk SNPs (rs72928038, rs251464), and one (rs9468925) that is associated with both psoriasis and vitiligo and falls in between HLA-C/HLA-B. The remaining 25 AI SNPs are broadly associated with autoimmunity (i.e., associated with at least three autoimmune conditions, and at least one of which surpassed a GWAS significance of $p = 10^{-7}$) and were previously investigated in the context of immune-checkpoint inhibitor success in melanoma by [Chat et al](https://link.springer.com/article/10.1007/s00262-019-02318-8).\n",
    "\n",
    "\n",
    "## 1. Import Packages; Load and Pre-Process Data"
   ]
  },
  {
   "cell_type": "code",
   "execution_count": 1,
   "metadata": {},
   "outputs": [],
   "source": [
    "import pandas as pd\n",
    "from collections import defaultdict\n",
    "from matplotlib import pyplot as plt\n",
    "from matplotlib.transforms import Affine2D\n",
    "import seaborn as sns\n",
    "import numpy as np\n",
    "import math\n",
    "from scipy import stats\n",
    "import statsmodels.formula.api as smf\n",
    "import tqdm\n",
    "from scipy import stats\n",
    "from statsmodels.stats.multitest import multipletests\n",
    "from statsmodels.stats.multitest import fdrcorrection\n",
    "\n",
    "plt.rcParams['pdf.fonttype'] = 42\n",
    "plt.rcParams['ps.fonttype'] = 42"
   ]
  },
  {
   "cell_type": "code",
   "execution_count": 2,
   "metadata": {},
   "outputs": [
    {
     "data": {
      "text/plain": [
       "{'HLA-B13:02',\n",
       " 'HLA-B27:05',\n",
       " 'HLA-B39:06',\n",
       " 'HLA-B51:01',\n",
       " 'HLA-B57:01',\n",
       " 'HLA-C06:02',\n",
       " 'HLA-C12:03'}"
      ]
     },
     "execution_count": 2,
     "metadata": {},
     "output_type": "execute_result"
    }
   ],
   "source": [
    "#get AI alleles\n",
    "autoimmuneAlleles = set(pd.read_csv(\"../Data/AutoimmuneAlleles.tsv\", sep = \"\\t\", header = None)[0].tolist())\n",
    "autoimmuneAlleles"
   ]
  },
  {
   "cell_type": "markdown",
   "metadata": {},
   "source": [
    "**TCGA:**"
   ]
  },
  {
   "cell_type": "markdown",
   "metadata": {},
   "source": [
    "Load in TCGA summary dataframe (MHC-I genotypes, Age of Diagnosis, Sex, etc.):"
   ]
  },
  {
   "cell_type": "code",
   "execution_count": 3,
   "metadata": {},
   "outputs": [],
   "source": [
    "tcgaSummary = pd.read_csv(\"../GenotypeData/TCGA_Summary_With_BRAFV600E_Mutation_Status.tsv\", index_col = 0, sep = \"\\t\")\n",
    "\n",
    "#Ensure AI Allele Status is correct\n",
    "tcgaSummary[\"HasProtection\"] = [(len(set(row[\"A1\":\"C2\"]).intersection(autoimmuneAlleles)) > 0) for i,row in tcgaSummary.iterrows()]\n",
    "\n",
    "#Filter out individuals < 20 years old given increased likelihood of rare germline predisposing variants.\n",
    "tcgaSummary = tcgaSummary[tcgaSummary.Age >= 20]"
   ]
  },
  {
   "cell_type": "markdown",
   "metadata": {},
   "source": [
    "Load in TCGA Chat/Kirchoff SNPs (25 AI-ICB SNPS) extracted via PLINK:"
   ]
  },
  {
   "cell_type": "code",
   "execution_count": 4,
   "metadata": {},
   "outputs": [],
   "source": [
    "kirchoffTCGA = pd.read_csv(\"../GenotypeData/AutoimmuneSNPGenotypes/TCGA/tcga.25.raw\", sep = \" \", index_col = 0)\n",
    "kirchoffTCGA = kirchoffTCGA[kirchoffTCGA.index.isin(tcgaSummary.index)] #filter down to the TCGA melanoma individuals \n",
    "tcgaSummary = tcgaSummary[tcgaSummary.index.isin(kirchoffTCGA.index)] #ensure consistency across DFs in terms of indexes (in case genotypes were unable to be extracted for any individuals)"
   ]
  },
  {
   "cell_type": "markdown",
   "metadata": {},
   "source": [
    "Load in 4 melanoma-vitiligo SNPs and 1 psoriasis-vitiligo SNP that falls in between HLA-C/HLA-B in TCGA:"
   ]
  },
  {
   "cell_type": "code",
   "execution_count": 5,
   "metadata": {},
   "outputs": [],
   "source": [
    "#There are 2 files as plink required running in both orientations to extract all 5 SNPs - first file\n",
    "oneWay = pd.read_csv(\"../GenotypeData/AutoimmuneSNPGenotypes/TCGA/TCGA_Vitiligo_SNPs.raw\", sep = \" \", index_col = 0)\n",
    "oneWay = oneWay[oneWay.index.isin(kirchoffTCGA.index)]\n",
    "\n",
    "#second file\n",
    "otherWay = pd.read_csv(\"../GenotypeData/AutoimmuneSNPGenotypes/TCGA/TCGA_Vitiligo_SNPs_OtherWay.raw\", sep = \" \", index_col = 0)\n",
    "otherWay = otherWay[otherWay.index.isin(kirchoffTCGA.index)]"
   ]
  },
  {
   "cell_type": "markdown",
   "metadata": {},
   "source": [
    "Filter down TCGA Summary and Chat/Kirchoff SNP DFs down to the same dimension as other AI SNP dataframes for consistency in analyses:"
   ]
  },
  {
   "cell_type": "code",
   "execution_count": 6,
   "metadata": {},
   "outputs": [],
   "source": [
    "kirchoffTCGA = kirchoffTCGA[kirchoffTCGA.index.isin(oneWay.index)]"
   ]
  },
  {
   "cell_type": "code",
   "execution_count": 7,
   "metadata": {},
   "outputs": [],
   "source": [
    "tcgaSummary = tcgaSummary[tcgaSummary.index.isin(oneWay.index)]"
   ]
  },
  {
   "cell_type": "markdown",
   "metadata": {},
   "source": [
    "*Sanity Check:* So indexes align across all TCGA SNP DFs?"
   ]
  },
  {
   "cell_type": "code",
   "execution_count": 8,
   "metadata": {},
   "outputs": [
    {
     "name": "stdout",
     "output_type": "stream",
     "text": [
      "Index Consistency? --> True\n"
     ]
    }
   ],
   "source": [
    "print(\"Index Consistency? --> {}\".format(set(tcgaSummary.index) == set(kirchoffTCGA.index) == set(oneWay.index) == set(otherWay.index)))"
   ]
  },
  {
   "cell_type": "markdown",
   "metadata": {},
   "source": [
    "Concatenate TCGA summary information and AI SNP genotypes in one dataframe: "
   ]
  },
  {
   "cell_type": "code",
   "execution_count": 9,
   "metadata": {},
   "outputs": [],
   "source": [
    "skipThese = {\"IID\", \"PAT\", \"MAT\", \"SEX\", \"PHENOTYPE\"}\n",
    "megaEvolution = pd.concat([tcgaSummary, kirchoffTCGA], axis = 1)\n",
    "megaEvolution = megaEvolution.drop(list(skipThese), axis = 1)\n",
    "\n",
    "megaEvolution = pd.concat([megaEvolution, oneWay], axis = 1)\n",
    "megaEvolution = megaEvolution.drop(list(skipThese), axis = 1)\n",
    "\n",
    "megaEvolution = pd.concat([megaEvolution, otherWay], axis = 1)\n",
    "megaEvolution = megaEvolution.drop(list(skipThese), axis = 1)"
   ]
  },
  {
   "cell_type": "markdown",
   "metadata": {},
   "source": [
    "**Validation**:\n",
    "\n",
    "Load in RSID to LOC mapping file so SNP indexing across datasets is consistent:"
   ]
  },
  {
   "cell_type": "code",
   "execution_count": 10,
   "metadata": {},
   "outputs": [
    {
     "name": "stderr",
     "output_type": "stream",
     "text": [
      "/cellar/users/jtalwar/.local/lib/python3.7/site-packages/IPython/core/interactiveshell.py:3343: DtypeWarning: Columns (0) have mixed types.Specify dtype option on import or set low_memory=False.\n",
      "  exec(code_obj, self.user_global_ns, self.user_ns)\n"
     ]
    },
    {
     "data": {
      "text/html": [
       "<div>\n",
       "<style scoped>\n",
       "    .dataframe tbody tr th:only-of-type {\n",
       "        vertical-align: middle;\n",
       "    }\n",
       "\n",
       "    .dataframe tbody tr th {\n",
       "        vertical-align: top;\n",
       "    }\n",
       "\n",
       "    .dataframe thead th {\n",
       "        text-align: right;\n",
       "    }\n",
       "</style>\n",
       "<table border=\"1\" class=\"dataframe\">\n",
       "  <thead>\n",
       "    <tr style=\"text-align: right;\">\n",
       "      <th></th>\n",
       "      <th>chr</th>\n",
       "      <th>start</th>\n",
       "      <th>end</th>\n",
       "      <th>maj</th>\n",
       "      <th>min</th>\n",
       "      <th>RSID</th>\n",
       "    </tr>\n",
       "  </thead>\n",
       "  <tbody>\n",
       "    <tr>\n",
       "      <th>0</th>\n",
       "      <td>1</td>\n",
       "      <td>10019</td>\n",
       "      <td>10020</td>\n",
       "      <td>TA</td>\n",
       "      <td>T</td>\n",
       "      <td>rs775809821</td>\n",
       "    </tr>\n",
       "    <tr>\n",
       "      <th>1</th>\n",
       "      <td>1</td>\n",
       "      <td>10020</td>\n",
       "      <td>10020</td>\n",
       "      <td>A</td>\n",
       "      <td>-</td>\n",
       "      <td>rs775809821</td>\n",
       "    </tr>\n",
       "    <tr>\n",
       "      <th>2</th>\n",
       "      <td>1</td>\n",
       "      <td>10055</td>\n",
       "      <td>10055</td>\n",
       "      <td>-</td>\n",
       "      <td>A</td>\n",
       "      <td>rs768019142</td>\n",
       "    </tr>\n",
       "    <tr>\n",
       "      <th>3</th>\n",
       "      <td>1</td>\n",
       "      <td>10055</td>\n",
       "      <td>10055</td>\n",
       "      <td>T</td>\n",
       "      <td>TA</td>\n",
       "      <td>rs768019142</td>\n",
       "    </tr>\n",
       "    <tr>\n",
       "      <th>4</th>\n",
       "      <td>1</td>\n",
       "      <td>10108</td>\n",
       "      <td>10108</td>\n",
       "      <td>C</td>\n",
       "      <td>T</td>\n",
       "      <td>rs62651026</td>\n",
       "    </tr>\n",
       "  </tbody>\n",
       "</table>\n",
       "</div>"
      ],
      "text/plain": [
       "  chr  start    end maj min         RSID\n",
       "0   1  10019  10020  TA   T  rs775809821\n",
       "1   1  10020  10020   A   -  rs775809821\n",
       "2   1  10055  10055   -   A  rs768019142\n",
       "3   1  10055  10055   T  TA  rs768019142\n",
       "4   1  10108  10108   C   T   rs62651026"
      ]
     },
     "execution_count": 10,
     "metadata": {},
     "output_type": "execute_result"
    }
   ],
   "source": [
    "mappingFile = pd.read_csv(\"../Data/hg19_avsnp147.txt\", sep = \"\\t\", header = None)\n",
    "mappingFile.columns = [\"chr\", \"start\", \"end\", \"maj\", \"min\", \"RSID\"]\n",
    "mappingFile.head()"
   ]
  },
  {
   "cell_type": "markdown",
   "metadata": {},
   "source": [
    "Load in the Chat/Kirchoff SNPs for validation set:"
   ]
  },
  {
   "cell_type": "code",
   "execution_count": 11,
   "metadata": {},
   "outputs": [],
   "source": [
    "ukbbKirchoff = pd.read_csv(\"../GenotypeData/AutoimmuneSNPGenotypes/UKBB/ukbb.25.raw\", sep = \"\\t\", index_col = 0)"
   ]
  },
  {
   "cell_type": "markdown",
   "metadata": {},
   "source": [
    "Load in summary validation (UKBB) dataframe (MHC-I genotypes, Age of Diagnosis, Sex, etc.):"
   ]
  },
  {
   "cell_type": "code",
   "execution_count": 12,
   "metadata": {},
   "outputs": [],
   "source": [
    "ukbbSummary = pd.read_csv(\"../GenotypeData/UKBB.tsv\", sep = \"\\t\", index_col =0)\n",
    "\n",
    "#Ensure AI MHC allele status is correct and all individuals are >= 20:\n",
    "ukbbSummary[\"HasProtection\"] = [(len(set(row[\"A1\":\"C2\"]).intersection(autoimmuneAlleles)) > 0) for i,row in ukbbSummary.iterrows()]\n",
    "ukbbSummary = ukbbSummary[ukbbSummary[\"Age at Diagnosis\"] >= 20]"
   ]
  },
  {
   "cell_type": "markdown",
   "metadata": {},
   "source": [
    "Ensure consistency between the indexes of the summary file and the AI SNP file (in case any individuals AI SNPs were unable to be extracted):"
   ]
  },
  {
   "cell_type": "code",
   "execution_count": 13,
   "metadata": {},
   "outputs": [],
   "source": [
    "ukbbKirchoff = ukbbKirchoff[ukbbKirchoff.index.isin(ukbbSummary.index)]\n",
    "ukbbSummary = ukbbSummary[ukbbSummary.index.isin(ukbbKirchoff.index)]"
   ]
  },
  {
   "cell_type": "markdown",
   "metadata": {},
   "source": [
    "Load in the other 5 AI SNPs (vitiligo-melanoma - 4; and psoriasis-vitiligo - 1):"
   ]
  },
  {
   "cell_type": "code",
   "execution_count": 14,
   "metadata": {},
   "outputs": [],
   "source": [
    "chr5 = pd.read_csv(\"../GenotypeData/AutoimmuneSNPGenotypes/UKBB/chr5.raw\", sep = \"\\t\", index_col = 0)\n",
    "chr5 = chr5[chr5.index.isin(set(ukbbKirchoff.index))]"
   ]
  },
  {
   "cell_type": "code",
   "execution_count": 15,
   "metadata": {},
   "outputs": [],
   "source": [
    "chr6 = pd.read_csv(\"../GenotypeData/AutoimmuneSNPGenotypes/UKBB/chr6.raw\", sep = \"\\t\", index_col = 0)\n",
    "chr6 = chr6[chr6.index.isin(set(ukbbKirchoff.index))]"
   ]
  },
  {
   "cell_type": "code",
   "execution_count": 16,
   "metadata": {},
   "outputs": [],
   "source": [
    "chr11 = pd.read_csv(\"../GenotypeData/AutoimmuneSNPGenotypes/UKBB/chr11.raw\", sep = \"\\t\", index_col = 0)\n",
    "chr11 = chr11[chr11.index.isin(set(ukbbKirchoff.index))]"
   ]
  },
  {
   "cell_type": "code",
   "execution_count": 17,
   "metadata": {},
   "outputs": [],
   "source": [
    "chr20 = pd.read_csv(\"../GenotypeData/AutoimmuneSNPGenotypes/UKBB/chr20.raw\", sep = \"\\t\", index_col = 0)\n",
    "chr20 = chr20[chr20.index.isin(set(ukbbKirchoff.index))]"
   ]
  },
  {
   "cell_type": "markdown",
   "metadata": {},
   "source": [
    "Merge these 5 AI SNPs partitioned across 4 chromosomes with the Chat/Kirchoff SNPs extracted from validation set:"
   ]
  },
  {
   "cell_type": "code",
   "execution_count": 18,
   "metadata": {},
   "outputs": [
    {
     "name": "stdout",
     "output_type": "stream",
     "text": [
      "AI SNP indexes in validation: Index(['rs2155219_T', 'rs1701704_G', 'rs3184504_C', 'rs653178_T',\n",
      "       'rs2872507_A', 'rs1893217_G', 'rs12720356_C', 'rs11209026_A',\n",
      "       'rs6679677_A', 'rs2476601_G', 'rs1801274_G', 'rs3024505_A',\n",
      "       'rs3024493_A', 'rs11203203_A', 'rs2111485_G', 'rs1990760_T',\n",
      "       'rs7574865_G', 'rs17388568_A', 'rs1295686_C', 'rs20541_G',\n",
      "       'rs2187668_T', '6:32663851_T', 'rs6920220_A', 'rs10488631_C',\n",
      "       'rs2736340_T', 'rs251464_G', 'rs9468925_G', 'rs72928038_G',\n",
      "       'rs1126809_G', 'rs6059655_A'],\n",
      "      dtype='object')\n"
     ]
    }
   ],
   "source": [
    "intermediate = pd.concat([ukbbKirchoff, chr5[[\"rs251464_G\"]]], axis = 1)\n",
    "intermediate = pd.concat([intermediate, chr6[[\"rs9468925_G\", \"rs72928038_G\"]]], axis = 1)\n",
    "intermediate = pd.concat([intermediate, chr11[[\"rs1126809_G\"]]], axis = 1)\n",
    "ukbbKirchoff = pd.concat([intermediate, chr20[[\"rs6059655_A\"]]], axis = 1)\n",
    "print(\"AI SNP indexes in validation: {}\".format(ukbbKirchoff.columns))"
   ]
  },
  {
   "cell_type": "markdown",
   "metadata": {},
   "source": [
    "Reorient the one SNP listed above not indexed by RSID (*6:32663851_T*) to RSID for consistency:"
   ]
  },
  {
   "cell_type": "code",
   "execution_count": 19,
   "metadata": {},
   "outputs": [
    {
     "name": "stdout",
     "output_type": "stream",
     "text": [
      "RSID ALL: AI SNP indexes in validation: Index(['rs2155219_T', 'rs1701704_G', 'rs3184504_C', 'rs653178_T',\n",
      "       'rs2872507_A', 'rs1893217_G', 'rs12720356_C', 'rs11209026_A',\n",
      "       'rs6679677_A', 'rs2476601_G', 'rs1801274_G', 'rs3024505_A',\n",
      "       'rs3024493_A', 'rs11203203_A', 'rs2111485_G', 'rs1990760_T',\n",
      "       'rs7574865_G', 'rs17388568_A', 'rs1295686_C', 'rs20541_G',\n",
      "       'rs2187668_T', 'rs6457617_T', 'rs6920220_A', 'rs10488631_C',\n",
      "       'rs2736340_T', 'rs251464_G', 'rs9468925_G', 'rs72928038_G',\n",
      "       'rs1126809_G', 'rs6059655_A'],\n",
      "      dtype='object')\n"
     ]
    }
   ],
   "source": [
    "annoyingOne = mappingFile[(mappingFile.chr == 6)&(mappingFile.start == 32663851)]\n",
    "ukbbKirchoff = ukbbKirchoff.rename(columns = {\"6:32663851_T\":list(annoyingOne.RSID)[0] + \"_\" + annoyingOne[\"min\"].item()}) #should be: rs6457617_T\n",
    "print(\"RSID ALL: AI SNP indexes in validation: {}\".format(ukbbKirchoff.columns))"
   ]
  },
  {
   "cell_type": "markdown",
   "metadata": {},
   "source": [
    "**Track down the autoimmune allele for each of these positions (if available) and re-index columns and genotypes accordingly:**"
   ]
  },
  {
   "cell_type": "code",
   "execution_count": 20,
   "metadata": {},
   "outputs": [],
   "source": [
    "aiSNPsToIndex = {\"rs2155219\":\"T\", \"rs1701704\":\"G\", \"rs3184504\":\"C\", \"rs653178\":\"T\", \"rs2872507\":\"A\", \"rs1893217\":\"G\", \n",
    "                 \"rs12720356\":\"C\",  \"rs11209026\":\"A\", \"rs6679677\":\"A\", \"rs2476601\":\"A\", \"rs1801274\":\"G\", \"rs3024505\":\"A\",\n",
    "                 \"rs3024493\":\"A\", \"rs11203203\":\"A\", \"rs2111485\":\"A\", \"rs1990760\":\"T\", \"rs7574865\":\"T\", \"rs17388568\":\"A\",\n",
    "                 \"rs1295686\": \"T\", \"rs20541\": \"A\", \"rs2187668\": \"T\", \"rs6457617\": \"C\", \"rs6920220\": \"A\", \"rs10488631\":\"C\",\n",
    "                 \"rs2736340\": \"T\", \"rs251464\": \"G\", \"rs9468925\":\"G\", \"rs72928038\": \"A\", \"rs1126809\": \"G\", \"rs6059655\":\"A\"}"
   ]
  },
  {
   "cell_type": "code",
   "execution_count": 21,
   "metadata": {},
   "outputs": [
    {
     "name": "stdout",
     "output_type": "stream",
     "text": [
      "Flipping RSID rs2476601 from G to A\n",
      "Flipping RSID rs2111485 from G to A\n",
      "Flipping RSID rs7574865 from G to T\n",
      "Flipping RSID rs1295686 from C to T\n",
      "Flipping RSID rs20541 from G to A\n",
      "Flipping RSID rs6457617 from T to C\n",
      "Flipping RSID rs72928038 from G to A\n",
      "In total 7 SNP references and counts were flipped\n"
     ]
    }
   ],
   "source": [
    "numberChanged = 0\n",
    "for col in ukbbKirchoff.columns:\n",
    "    rsid = col.split(\"_\")[0]\n",
    "    snp = col.split(\"_\")[1]\n",
    "    if aiSNPsToIndex[rsid] != snp:\n",
    "        print(\"Flipping RSID {} from {} to {}\".format(rsid, snp, aiSNPsToIndex[rsid]))\n",
    "        ukbbKirchoff[col] = 2 - ukbbKirchoff[col]\n",
    "        ukbbKirchoff.rename(columns={col: rsid + \"_\" + aiSNPsToIndex[rsid]}, inplace=True)\n",
    "        numberChanged += 1\n",
    "        \n",
    "print(\"In total {} SNP references and counts were flipped\".format(numberChanged))"
   ]
  },
  {
   "cell_type": "markdown",
   "metadata": {},
   "source": [
    "Merge validation summary dataframe with validation oriented AI SNP genotypes into one dataframe:"
   ]
  },
  {
   "cell_type": "code",
   "execution_count": 22,
   "metadata": {},
   "outputs": [],
   "source": [
    "ukbbMerged = pd.concat([ukbbSummary, ukbbKirchoff], axis = 1)"
   ]
  },
  {
   "cell_type": "markdown",
   "metadata": {},
   "source": [
    "## 2. TCGA - Orient AI SNP Genotypes with Validation:\n",
    "\n",
    "**Convert from CHR:LOC:Allele1:Allele2_CountedAllele to RSID_CountedAllele**"
   ]
  },
  {
   "cell_type": "code",
   "execution_count": 23,
   "metadata": {},
   "outputs": [
    {
     "name": "stdout",
     "output_type": "stream",
     "text": [
      "Current TCGA SNP indexing: ['1:67705958:A:G_A', '1:114303808:A:C_A', '1:114377568:A:G_A', '1:161479745:G:A_G', '1:206939904:A:G_A', '1:206943968:A:C_A', '2:163110536:A:G_A', '2:163124051:C:T_C', '2:191964633:T:G_T', '4:123329362:A:G_A', '5:131995843:T:C_T', '5:131995964:A:G_A', '6:32605884:T:C_T', '6:32663851:C:T_C', '6:138006504:A:G_A', '7:128594183:C:T_C', '8:11343973:T:C_T', '11:76299194:G:T_G', '12:56412487:G:T_G', '12:111884608:T:C_T', '12:112007756:C:T_C', '17:38040763:A:G_A', '18:12809340:G:A_G', '19:10469975:C:A_C', '21:43836186:A:G_A', '5:149196234:G:C_C', '6:31258837:G:A_A', '6:90976768:G:A_A', '11:89017961:G:A_A', '20:32665748:G:A_A']\n",
      "\n",
      "Current Validation SNP indexing: ['rs2155219_T', 'rs1701704_G', 'rs3184504_C', 'rs653178_T', 'rs2872507_A', 'rs1893217_G', 'rs12720356_C', 'rs11209026_A', 'rs6679677_A', 'rs2476601_A', 'rs1801274_G', 'rs3024505_A', 'rs3024493_A', 'rs11203203_A', 'rs2111485_A', 'rs1990760_T', 'rs7574865_T', 'rs17388568_A', 'rs1295686_T', 'rs20541_A', 'rs2187668_T', 'rs6457617_C', 'rs6920220_A', 'rs10488631_C', 'rs2736340_T', 'rs251464_G', 'rs9468925_G', 'rs72928038_A', 'rs1126809_G', 'rs6059655_A']\n"
     ]
    }
   ],
   "source": [
    "print(\"Current TCGA SNP indexing: {}\\n\".format([el for el in megaEvolution.columns.values if \":\" in el]))\n",
    "print(\"Current Validation SNP indexing: {}\".format([el for el in ukbbMerged.columns.values if \"_\" in el]))"
   ]
  },
  {
   "cell_type": "markdown",
   "metadata": {},
   "source": [
    "Filter the RSID to LOC mapping file down to the SNPs of interest to speed up look-ups for downstream analysis:"
   ]
  },
  {
   "cell_type": "code",
   "execution_count": 24,
   "metadata": {},
   "outputs": [],
   "source": [
    "relevantRSIDsForLookup = set()\n",
    "for el in ukbbKirchoff.columns:\n",
    "    relevantRSIDsForLookup.add(el.split(\"_\")[0])\n",
    "smallerFrameForLookUp = mappingFile[mappingFile.RSID.isin(relevantRSIDsForLookup)]"
   ]
  },
  {
   "cell_type": "markdown",
   "metadata": {},
   "source": [
    "Define lookup dictionaries for querying during TCGA SNP reorientation:"
   ]
  },
  {
   "cell_type": "code",
   "execution_count": 25,
   "metadata": {},
   "outputs": [],
   "source": [
    "rsidToAllele = defaultdict(str)\n",
    "for el in ukbbKirchoff.columns:\n",
    "    rsidToAllele[el.split(\"_\")[0]] = el.split(\"_\")[1]"
   ]
  },
  {
   "cell_type": "code",
   "execution_count": 26,
   "metadata": {},
   "outputs": [
    {
     "data": {
      "text/plain": [
       "defaultdict(str,\n",
       "            {'18:12809340': 'rs1893217',\n",
       "             '5:131995843': 'rs1295686',\n",
       "             '6:138006504': 'rs6920220',\n",
       "             '5:131995964': 'rs20541',\n",
       "             '8:11343973': 'rs2736340',\n",
       "             '7:128594183': 'rs10488631',\n",
       "             '6:90976768': 'rs72928038',\n",
       "             '6:32663851': 'rs6457617',\n",
       "             '20:32665748': 'rs6059655',\n",
       "             '2:163124051': 'rs1990760',\n",
       "             '6:32605884': 'rs2187668',\n",
       "             '1:206939904': 'rs3024505',\n",
       "             '1:67705958': 'rs11209026',\n",
       "             '1:114303808': 'rs6679677',\n",
       "             '11:89017961': 'rs1126809',\n",
       "             '5:149196234': 'rs251464',\n",
       "             '1:206943968': 'rs3024493',\n",
       "             '12:56412487': 'rs1701704',\n",
       "             '2:163110536': 'rs2111485',\n",
       "             '4:123329362': 'rs17388568',\n",
       "             '21:43836186': 'rs11203203',\n",
       "             '11:76299194': 'rs2155219',\n",
       "             '19:10469975': 'rs12720356',\n",
       "             '2:191964633': 'rs7574865',\n",
       "             '6:31258837': 'rs9468925',\n",
       "             '12:111884608': 'rs3184504',\n",
       "             '1:161479745': 'rs1801274',\n",
       "             '17:38040763': 'rs2872507',\n",
       "             '12:112007756': 'rs653178',\n",
       "             '1:114377568': 'rs2476601'})"
      ]
     },
     "execution_count": 26,
     "metadata": {},
     "output_type": "execute_result"
    }
   ],
   "source": [
    "locToRSID = defaultdict(str)\n",
    "for el in relevantRSIDsForLookup:\n",
    "    subFrame = smallerFrameForLookUp[smallerFrameForLookUp.RSID == el]\n",
    "    if subFrame.shape[0] != 1:\n",
    "        print(el)\n",
    "        raise(\"Dimension Error!\")\n",
    "    key = str(list(subFrame.chr)[0]) + \":\" + str(list(subFrame.start)[0])\n",
    "    locToRSID[key] = el\n",
    "locToRSID"
   ]
  },
  {
   "cell_type": "markdown",
   "metadata": {},
   "source": [
    "Identify which SNP counts need to be flipped in TCGA and develop a mapping (dict) from current CHR:LOC names to RSID:"
   ]
  },
  {
   "cell_type": "code",
   "execution_count": 27,
   "metadata": {},
   "outputs": [],
   "source": [
    "columnsThatNeedToBeFlipped = set() #set of columns that need to be set to 2 - count since allele disagreement between the 2\n",
    "bennisNamedNames = defaultdict(str) #maps the annoying chr:loc:SNP:SNP_SNPforCount to RSID_SNPforCount format\n",
    "for column in megaEvolution.columns:\n",
    "    if \":\" not in column: #don't need to reindex these columns\n",
    "        continue\n",
    "        \n",
    "    annoying = column.split(\":\")\n",
    "    keyForLookup = annoying[0] + \":\" + annoying[1]\n",
    "    alleleForComparison = annoying[-1].split(\"_\")[1] #apparently the last allele is the count - Meghatron has spoken!\n",
    "    \n",
    "    rsid = locToRSID[keyForLookup]\n",
    "    if alleleForComparison != rsidToAllele[rsid]:\n",
    "        subFrame = smallerFrameForLookUp[smallerFrameForLookUp.RSID == rsid]\n",
    "        majorAllele = str(list(subFrame.maj)[0])\n",
    "        minorAllele = str(list(subFrame[\"min\"])[0])\n",
    "        if (alleleForComparison != minorAllele) and (alleleForComparison != majorAllele):            \n",
    "            raise ValueError(\"Allele mismatch between TCGA and lookup frame alleles\")\n",
    "            \n",
    "        elif (rsidToAllele[rsid] != minorAllele) and (rsidToAllele[rsid] != majorAllele):\n",
    "            raise ValueError(\"Allele mismatch between UKBB and lookup frame alleles\")\n",
    "        \n",
    "        else:\n",
    "            columnsThatNeedToBeFlipped.add(rsid + \"_\" + rsidToAllele[rsid])\n",
    "    \n",
    "    \n",
    "    bennisNamedNames[column] = rsid + \"_\" + rsidToAllele[rsid]"
   ]
  },
  {
   "cell_type": "markdown",
   "metadata": {},
   "source": [
    "Rename columns:"
   ]
  },
  {
   "cell_type": "code",
   "execution_count": 28,
   "metadata": {},
   "outputs": [],
   "source": [
    "megaEvolution = megaEvolution.rename(columns=bennisNamedNames)"
   ]
  },
  {
   "cell_type": "markdown",
   "metadata": {},
   "source": [
    "Flip SNP counts that need to be flipped:"
   ]
  },
  {
   "cell_type": "code",
   "execution_count": 29,
   "metadata": {},
   "outputs": [
    {
     "name": "stdout",
     "output_type": "stream",
     "text": [
      "The following SNPs genotypes need to be reoriented: {'rs653178_T', 'rs1990760_T', 'rs9468925_G', 'rs1126809_G', 'rs251464_G', 'rs2155219_T', 'rs3184504_C'}\n"
     ]
    }
   ],
   "source": [
    "print(\"The following SNPs genotypes need to be reoriented: {}\".format(columnsThatNeedToBeFlipped))"
   ]
  },
  {
   "cell_type": "code",
   "execution_count": 30,
   "metadata": {},
   "outputs": [],
   "source": [
    "megaEvolution[list(columnsThatNeedToBeFlipped)] = 2 - megaEvolution.loc[:, columnsThatNeedToBeFlipped]"
   ]
  },
  {
   "cell_type": "markdown",
   "metadata": {},
   "source": [
    "## 3. Run Analyses and Generate Figure: "
   ]
  },
  {
   "cell_type": "markdown",
   "metadata": {},
   "source": [
    "**TCGA:** SNP effects on age of diagnosis\n",
    "\n",
    "Linear Model: $$Age Of Diagnosis \\sim AutoimmuneSNPGenotype $$"
   ]
  },
  {
   "cell_type": "code",
   "execution_count": 31,
   "metadata": {},
   "outputs": [],
   "source": [
    "snpEffectsOnAge = defaultdict(list) #Maps a SNP to a list of an OLS p_value, its OLS Coeffecient (BETA), and the error\n",
    "for snp in megaEvolution.columns:\n",
    "    if \"_\" not in snp:\n",
    "        continue\n",
    "        \n",
    "    stringManipulation = 'Age ~ Q(\"' + snp + '\")'\n",
    "    snpEffects = smf.ols(formula=stringManipulation, data=megaEvolution).fit()\n",
    "    annoying = snpEffects.summary().tables[1].as_html()\n",
    "    snpSummary = pd.read_html(annoying, header=0, index_col = 0)[0]\n",
    "    \n",
    "    inFormatToMakeSMFHappy = 'Q(\"' + snp + '\")'\n",
    "    snpEffectsOnAge[snp].append(snpSummary.loc[inFormatToMakeSMFHappy, \"P>|t|\"])\n",
    "    snpEffectsOnAge[snp].append(snpSummary.loc[inFormatToMakeSMFHappy, \"coef\"])\n",
    "    snpEffectsOnAge[snp].append(2*snpSummary.loc[inFormatToMakeSMFHappy, \"std err\"])"
   ]
  },
  {
   "cell_type": "code",
   "execution_count": 32,
   "metadata": {},
   "outputs": [
    {
     "data": {
      "text/plain": [
       "[('rs1126809_G', [0.088, 1.873, 2.194]),\n",
       " ('rs2155219_T', [0.097, 1.779, 2.14]),\n",
       " ('rs6679677_A', [0.102, 2.7752, 3.39]),\n",
       " ('rs2476601_A', [0.117, 2.6525, 3.38]),\n",
       " ('rs1701704_G', [0.147, 1.6061, 2.21]),\n",
       " ('rs10488631_C', [0.159, -2.4067, 3.414]),\n",
       " ('rs7574865_T', [0.178, 1.7835, 2.642]),\n",
       " ('rs17388568_A', [0.186, 1.5484, 2.338]),\n",
       " ('rs9468925_G', [0.208, 1.3657, 2.164]),\n",
       " ('rs6059655_A', [0.208, -2.1665, 3.438]),\n",
       " ('rs6920220_A', [0.269, -1.3729, 2.48]),\n",
       " ('rs12720356_C', [0.296, -1.9454, 3.72]),\n",
       " ('rs2187668_T', [0.298, 1.5473, 2.966]),\n",
       " ('rs72928038_A', [0.314, 1.5086, 2.992]),\n",
       " ('rs2872507_A', [0.435, -0.805, 2.062]),\n",
       " ('rs251464_G', [0.458, 0.9006, 2.426]),\n",
       " ('rs1893217_G', [0.504, -0.998, 2.984]),\n",
       " ('rs1801274_G', [0.529, -0.6483, 2.06]),\n",
       " ('rs20541_A', [0.568, -0.7488, 2.62]),\n",
       " ('rs1295686_T', [0.569, -0.746, 2.618]),\n",
       " ('rs3024505_A', [0.624, 0.7039, 2.87]),\n",
       " ('rs3024493_A', [0.649, 0.6525, 2.864]),\n",
       " ('rs653178_T', [0.664, 0.4555, 2.096]),\n",
       " ('rs1990760_T', [0.683, 0.439, 2.144]),\n",
       " ('rs11209026_A', [0.696, -0.9086, 4.656]),\n",
       " ('rs2736340_T', [0.725, -0.4385, 2.488]),\n",
       " ('rs3184504_C', [0.733, 0.3574, 2.098]),\n",
       " ('rs11203203_A', [0.939, 0.0849, 2.214]),\n",
       " ('rs6457617_C', [0.946, 0.0724, 2.12]),\n",
       " ('rs2111485_A', [0.985, -0.0197, 2.146])]"
      ]
     },
     "execution_count": 32,
     "metadata": {},
     "output_type": "execute_result"
    }
   ],
   "source": [
    "sorted(snpEffectsOnAge.items(), key = lambda x: x[1][0])"
   ]
  },
  {
   "cell_type": "markdown",
   "metadata": {},
   "source": [
    "**Validation:** SNP effects on age of diagnosis"
   ]
  },
  {
   "cell_type": "code",
   "execution_count": 33,
   "metadata": {},
   "outputs": [],
   "source": [
    "ukbbSNPsAndAge = defaultdict(list)\n",
    "for col in ukbbKirchoff.columns:\n",
    "    stringManipulation = 'Q(\"Age at Diagnosis\") ~ Q(\"' + col + '\")'\n",
    "    snpEffects = smf.ols(formula=stringManipulation, data=ukbbMerged).fit()\n",
    "    annoying = snpEffects.summary().tables[1].as_html()\n",
    "    snpSummary = pd.read_html(annoying, header=0, index_col = 0)[0]\n",
    "    \n",
    "    inFormatToMakeSMFHappy = 'Q(\"' + col + '\")'\n",
    "    ukbbSNPsAndAge[col].append(snpSummary.loc[inFormatToMakeSMFHappy, \"P>|t|\"])\n",
    "    ukbbSNPsAndAge[col].append(snpSummary.loc[inFormatToMakeSMFHappy, \"coef\"])\n",
    "    ukbbSNPsAndAge[col].append(2*snpSummary.loc[inFormatToMakeSMFHappy, \"std err\"])"
   ]
  },
  {
   "cell_type": "code",
   "execution_count": 34,
   "metadata": {},
   "outputs": [
    {
     "data": {
      "text/plain": [
       "[('rs1126809_G', [0.034, 2.1728, 2.04]),\n",
       " ('rs2872507_A', [0.069, 1.769, 1.936]),\n",
       " ('rs1990760_T', [0.097, 1.6127, 1.934]),\n",
       " ('rs1893217_G', [0.139, 1.764, 2.374]),\n",
       " ('rs6457617_C', [0.164, -1.3604, 1.95]),\n",
       " ('rs10488631_C', [0.193, -2.1371, 3.274]),\n",
       " ('rs6679677_A', [0.211, 2.0363, 3.244]),\n",
       " ('rs2476601_A', [0.211, 2.0363, 3.244]),\n",
       " ('rs2736340_T', [0.243, 1.3776, 2.356]),\n",
       " ('rs6920220_A', [0.26, 1.3141, 2.328]),\n",
       " ('rs1701704_G', [0.274, 1.1665, 2.128]),\n",
       " ('rs2111485_A', [0.322, -0.955, 1.926]),\n",
       " ('rs1801274_G', [0.435, 0.7309, 1.868]),\n",
       " ('rs12720356_C', [0.437, -1.3211, 3.39]),\n",
       " ('rs2187668_T', [0.491, -0.9911, 2.872]),\n",
       " ('rs6059655_A', [0.515, 1.1608, 3.558]),\n",
       " ('rs9468925_G', [0.523, -0.6296, 1.97]),\n",
       " ('rs11209026_A', [0.554, -1.1962, 4.038]),\n",
       " ('rs11203203_A', [0.587, -0.5339, 1.964]),\n",
       " ('rs3024505_A', [0.602, 0.6872, 2.63]),\n",
       " ('rs251464_G', [0.61, -0.5679, 2.226]),\n",
       " ('rs20541_A', [0.638, 0.6647, 2.82]),\n",
       " ('rs3184504_C', [0.64, -0.4326, 1.848]),\n",
       " ('rs653178_T', [0.64, -0.4326, 1.848]),\n",
       " ('rs3024493_A', [0.686, 0.5418, 2.68]),\n",
       " ('rs2155219_T', [0.698, 0.3939, 2.028]),\n",
       " ('rs72928038_A', [0.718, 0.4935, 2.732]),\n",
       " ('rs1295686_T', [0.793, 0.3698, 2.812]),\n",
       " ('rs17388568_A', [0.852, 0.2172, 2.324]),\n",
       " ('rs7574865_T', [0.975, -0.0357, 2.308])]"
      ]
     },
     "execution_count": 34,
     "metadata": {},
     "output_type": "execute_result"
    }
   ],
   "source": [
    "sorted(ukbbSNPsAndAge.items(), key = lambda x: x[1][0])"
   ]
  },
  {
   "cell_type": "markdown",
   "metadata": {},
   "source": [
    "Reformat regression results in dataframe for figure generation:"
   ]
  },
  {
   "cell_type": "code",
   "execution_count": 35,
   "metadata": {},
   "outputs": [
    {
     "data": {
      "text/html": [
       "<div>\n",
       "<style scoped>\n",
       "    .dataframe tbody tr th:only-of-type {\n",
       "        vertical-align: middle;\n",
       "    }\n",
       "\n",
       "    .dataframe tbody tr th {\n",
       "        vertical-align: top;\n",
       "    }\n",
       "\n",
       "    .dataframe thead th {\n",
       "        text-align: right;\n",
       "    }\n",
       "</style>\n",
       "<table border=\"1\" class=\"dataframe\">\n",
       "  <thead>\n",
       "    <tr style=\"text-align: right;\">\n",
       "      <th></th>\n",
       "      <th>p_TCGA</th>\n",
       "      <th>Beta_TCGA</th>\n",
       "      <th>TCGA_2_sigma</th>\n",
       "      <th>p_UKBB</th>\n",
       "      <th>Beta_UKBB</th>\n",
       "      <th>UKBB_2_Sigma</th>\n",
       "    </tr>\n",
       "  </thead>\n",
       "  <tbody>\n",
       "    <tr>\n",
       "      <th>rs10488631_C</th>\n",
       "      <td>0.159</td>\n",
       "      <td>-2.4067</td>\n",
       "      <td>3.414</td>\n",
       "      <td>0.193</td>\n",
       "      <td>-2.1371</td>\n",
       "      <td>3.274</td>\n",
       "    </tr>\n",
       "    <tr>\n",
       "      <th>rs6059655_A</th>\n",
       "      <td>0.208</td>\n",
       "      <td>-2.1665</td>\n",
       "      <td>3.438</td>\n",
       "      <td>0.515</td>\n",
       "      <td>1.1608</td>\n",
       "      <td>3.558</td>\n",
       "    </tr>\n",
       "    <tr>\n",
       "      <th>rs12720356_C</th>\n",
       "      <td>0.296</td>\n",
       "      <td>-1.9454</td>\n",
       "      <td>3.720</td>\n",
       "      <td>0.437</td>\n",
       "      <td>-1.3211</td>\n",
       "      <td>3.390</td>\n",
       "    </tr>\n",
       "    <tr>\n",
       "      <th>rs6920220_A</th>\n",
       "      <td>0.269</td>\n",
       "      <td>-1.3729</td>\n",
       "      <td>2.480</td>\n",
       "      <td>0.260</td>\n",
       "      <td>1.3141</td>\n",
       "      <td>2.328</td>\n",
       "    </tr>\n",
       "    <tr>\n",
       "      <th>rs1893217_G</th>\n",
       "      <td>0.504</td>\n",
       "      <td>-0.9980</td>\n",
       "      <td>2.984</td>\n",
       "      <td>0.139</td>\n",
       "      <td>1.7640</td>\n",
       "      <td>2.374</td>\n",
       "    </tr>\n",
       "  </tbody>\n",
       "</table>\n",
       "</div>"
      ],
      "text/plain": [
       "              p_TCGA  Beta_TCGA  TCGA_2_sigma  p_UKBB  Beta_UKBB  UKBB_2_Sigma\n",
       "rs10488631_C   0.159    -2.4067         3.414   0.193    -2.1371         3.274\n",
       "rs6059655_A    0.208    -2.1665         3.438   0.515     1.1608         3.558\n",
       "rs12720356_C   0.296    -1.9454         3.720   0.437    -1.3211         3.390\n",
       "rs6920220_A    0.269    -1.3729         2.480   0.260     1.3141         2.328\n",
       "rs1893217_G    0.504    -0.9980         2.984   0.139     1.7640         2.374"
      ]
     },
     "execution_count": 35,
     "metadata": {},
     "output_type": "execute_result"
    }
   ],
   "source": [
    "summaryDF = pd.DataFrame(snpEffectsOnAge).T\n",
    "summaryDF.columns = [\"p_TCGA\", \"Beta_TCGA\", \"TCGA_2_sigma\"]\n",
    "other = pd.DataFrame(ukbbSNPsAndAge).T\n",
    "other.columns = [\"p_UKBB\", \"Beta_UKBB\", \"UKBB_2_Sigma\"]\n",
    "summaryDF = pd.concat([summaryDF, other], axis = 1)\n",
    "summaryDF = summaryDF.sort_values(by = [\"Beta_TCGA\"], ascending = True)\n",
    "summaryDF.head()"
   ]
  },
  {
   "cell_type": "markdown",
   "metadata": {},
   "source": [
    "**Generate Figure 2F:**"
   ]
  },
  {
   "cell_type": "code",
   "execution_count": 36,
   "metadata": {},
   "outputs": [
    {
     "data": {
      "text/plain": [
       "<matplotlib.lines.Line2D at 0x1555198facf8>"
      ]
     },
     "execution_count": 36,
     "metadata": {},
     "output_type": "execute_result"
    },
    {
     "data": {
      "image/png": "[encoded data removed]",
      "text/plain": [
       "<Figure size 936x1656 with 1 Axes>"
      ]
     },
     "metadata": {},
     "output_type": "display_data"
    }
   ],
   "source": [
    "#define melanoma-vitiligo SNPs and psoriasis-vitiligo SNP (in between HLA-C/HLA-B) for visualization:\n",
    "melanomaAndVitiligoSNPs = {\"rs251464\",\"rs72928038\",\"rs1126809\",\"rs1129038\",\"rs6059655\"}\n",
    "hlaSNP = \"rs9468925\"\n",
    "\n",
    "#Generate figure\n",
    "sns.set(font_scale = 1.1)\n",
    "fig, ax = plt.subplots(figsize = (13, 23))\n",
    "\n",
    "transform1 = Affine2D().translate(0, 0.19) + ax.transData\n",
    "transform2 = Affine2D().translate(0, -0.19) + ax.transData \n",
    "\n",
    "plt.errorbar(summaryDF.Beta_TCGA, summaryDF.index, xerr=summaryDF.TCGA_2_sigma, fmt = 's', mfc = \"blue\",color='blue',\n",
    "             ecolor ='blue', elinewidth = 3, capsize = 11, markersize = 13, capthick = 2, alpha = 0.85, label = \"Discovery\", transform = transform1)\n",
    "plt.errorbar(summaryDF.Beta_UKBB, summaryDF.index, xerr = summaryDF.UKBB_2_Sigma, fmt = \"s\", mfc = \"white\", color = \"black\",\n",
    "             ecolor = \"black\", elinewidth = 3,capsize = 11, markersize = 13, capthick = 2, alpha = 0.85, label = \"Validation\", transform = transform2)\n",
    "\n",
    "plt.xlabel(\"Beta\")\n",
    "\n",
    "plt.draw() #Needed for y-tick labels to be populated...\n",
    "for i in range(len(ax.get_yticklabels())):\n",
    "    if ax.get_yticklabels()[i].get_text().split(\"_\")[0] in melanomaAndVitiligoSNPs:\n",
    "        ax.get_yticklabels()[i].set_color(\"red\")\n",
    "    elif ax.get_yticklabels()[i].get_text().split(\"_\")[0] == hlaSNP:\n",
    "        ax.get_yticklabels()[i].set_color(\"green\")\n",
    "\n",
    "handles, labels = ax.get_legend_handles_labels()\n",
    "handles = [h[0] for h in handles]\n",
    "ax.legend(handles, labels, loc = \"upper left\")\n",
    "plt.axvline(0, linestyle = \"--\", color = \"gray\")"
   ]
  },
  {
   "cell_type": "markdown",
   "metadata": {},
   "source": [
    "**Are any of these SNP effect significant in either or both cohorts after multiple hypothesis correction:**\n",
    "\n",
    "TCGA:"
   ]
  },
  {
   "cell_type": "code",
   "execution_count": 37,
   "metadata": {},
   "outputs": [
    {
     "data": {
      "text/plain": [
       "(array([False, False, False, False, False, False, False, False, False,\n",
       "        False, False, False, False, False, False, False, False, False,\n",
       "        False, False, False, False, False, False, False, False, False,\n",
       "        False, False, False]),\n",
       " array([0.624     , 0.624     , 0.67285714, 0.67285714, 0.81444444,\n",
       "        0.81444444, 0.81444444, 0.81444444, 0.81444444, 0.81444444,\n",
       "        0.81444444, 0.985     , 0.97862069, 0.97862069, 0.81444444,\n",
       "        0.81444444, 0.81444444, 0.81444444, 0.81444444, 0.81444444,\n",
       "        0.624     , 0.67285714, 0.67285714, 0.624     , 0.624     ,\n",
       "        0.624     , 0.624     , 0.624     , 0.624     , 0.624     ]),\n",
       " 0.0035058572695848556,\n",
       " 0.0033333333333333335)"
      ]
     },
     "execution_count": 37,
     "metadata": {},
     "output_type": "execute_result"
    }
   ],
   "source": [
    "tcgaSignificance = multipletests(pvals = summaryDF.p_TCGA, alpha = 0.1, method = \"fdr_bh\")\n",
    "tcgaSignificance "
   ]
  },
  {
   "cell_type": "markdown",
   "metadata": {},
   "source": [
    "UKBB:"
   ]
  },
  {
   "cell_type": "code",
   "execution_count": 38,
   "metadata": {},
   "outputs": [
    {
     "data": {
      "text/plain": [
       "(array([False, False, False, False, False, False, False, False, False,\n",
       "        False, False, False, False, False, False, False, False, False,\n",
       "        False, False, False, False, False, False, False, False, False,\n",
       "        False, False, False]),\n",
       " array([0.74727273, 0.79777778, 0.79777778, 0.74727273, 0.74727273,\n",
       "        0.79777778, 0.74727273, 0.79777778, 0.84964286, 0.79777778,\n",
       "        0.74727273, 0.79777778, 0.74727273, 0.79777778, 0.79777778,\n",
       "        0.74727273, 0.79777778, 0.79777778, 0.79777778, 0.79777778,\n",
       "        0.79777778, 0.79777778, 0.79777778, 0.88137931, 0.74727273,\n",
       "        0.79777778, 0.975     , 0.74727273, 0.74727273, 0.74727273]),\n",
       " 0.0035058572695848556,\n",
       " 0.0033333333333333335)"
      ]
     },
     "execution_count": 38,
     "metadata": {},
     "output_type": "execute_result"
    }
   ],
   "source": [
    "ukbbSignificance = multipletests(pvals = summaryDF.p_UKBB, alpha = 0.1, method = \"fdr_bh\")\n",
    "ukbbSignificance "
   ]
  },
  {
   "cell_type": "markdown",
   "metadata": {},
   "source": [
    "*After MH correction, neither cohort exhibited significant AI SNP effects with age of diagnosis (see above 2 cells)*"
   ]
  }
 ],
 "metadata": {
  "kernelspec": {
   "display_name": "Python 3",
   "language": "python",
   "name": "python3"
  },
  "language_info": {
   "codemirror_mode": {
    "name": "ipython",
    "version": 3
   },
   "file_extension": ".py",
   "mimetype": "text/x-python",
   "name": "python",
   "nbconvert_exporter": "python",
   "pygments_lexer": "ipython3",
   "version": "3.7.3"
  }
 },
 "nbformat": 4,
 "nbformat_minor": 4
}
