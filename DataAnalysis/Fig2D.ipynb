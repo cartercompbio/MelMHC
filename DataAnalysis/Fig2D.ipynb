{
 "cells": [
  {
   "cell_type": "markdown",
   "metadata": {},
   "source": [
    "**@author: James V. Talwar**\n",
    "\n",
    "# Discovery Set: Quantifying MHC-I AI and Melanoma PRS SNP Effects in the TCGA\n",
    "\n",
    "**About:** This notebook provides the code needed to generate Figure 2 panel D from the paper [*Autoimmune Alleles at the Major Histocompatibility Locus Modify Melanoma Susceptibility*](https://www.biorxiv.org/content/10.1101/2021.08.12.456166v1.full). These analyses quantified the effect size of AI MHC-I alleles in skin cutaneous melanoma (SKCM) cases in the TCGA. Melanoma PRS SNP effects were also generated and provide a context for AI MHC-I alleles effect in modulating melanoma risk.\n",
    "\n",
    "## 1. Import Packages; Load Data"
   ]
  },
  {
   "cell_type": "code",
   "execution_count": 1,
   "metadata": {},
   "outputs": [],
   "source": [
    "import pandas as pd \n",
    "import tqdm as tqdm\n",
    "import numpy as np\n",
    "import seaborn as sns\n",
    "import matplotlib.pyplot as plt \n",
    "from collections import defaultdict\n",
    "from scipy.stats import mannwhitneyu\n",
    "from statsmodels.stats.multitest import multipletests\n",
    "from statsmodels.stats.multitest import fdrcorrection\n",
    "\n",
    "plt.rcParams['pdf.fonttype'] = 42\n",
    "plt.rcParams['ps.fonttype'] = 42"
   ]
  },
  {
   "cell_type": "code",
   "execution_count": 2,
   "metadata": {},
   "outputs": [
    {
     "data": {
      "text/plain": [
       "{'HLA-B13:02',\n",
       " 'HLA-B27:05',\n",
       " 'HLA-B39:06',\n",
       " 'HLA-B51:01',\n",
       " 'HLA-B57:01',\n",
       " 'HLA-C06:02',\n",
       " 'HLA-C12:03'}"
      ]
     },
     "execution_count": 2,
     "metadata": {},
     "output_type": "execute_result"
    }
   ],
   "source": [
    "#get AI alleles\n",
    "autoimmuneAlleles = set(pd.read_csv(\"../Data/AutoimmuneAlleles.tsv\", sep = \"\\t\", header = None)[0].tolist())\n",
    "autoimmuneAlleles"
   ]
  },
  {
   "cell_type": "markdown",
   "metadata": {},
   "source": [
    "Load in protective and predisposing PRS SNP genotypes (as defined by the PRS by [Gu et al.](https://www.ncbi.nlm.nih.gov/pmc/articles/PMC6240742/)) in SKCM TCGA: "
   ]
  },
  {
   "cell_type": "code",
   "execution_count": 3,
   "metadata": {},
   "outputs": [],
   "source": [
    "predisposingTCGASNPs = pd.read_csv(\"../GenotypeData/TCGAPredisposingMelanomaSNPs.tsv\", sep = \"\\t\", index_col = 0)\n",
    "protectiveTCGASNPs = pd.read_csv(\"../GenotypeData/TCGAProtectiveMelanomaSNPs.tsv\", sep = \"\\t\", index_col = 0)"
   ]
  },
  {
   "cell_type": "markdown",
   "metadata": {},
   "source": [
    "Load in TCGA summary dataframe (MHC-I genotypes, Age of Diagnosis, Sex, etc.):"
   ]
  },
  {
   "cell_type": "code",
   "execution_count": 4,
   "metadata": {},
   "outputs": [],
   "source": [
    "tcgaSummary = pd.read_csv(\"../GenotypeData/TCGA_Summary_With_BRAFV600E_Mutation_Status.tsv\", index_col = 0, sep = \"\\t\")\n",
    "\n",
    "#Ensure AI Allele Status is correct\n",
    "tcgaSummary[\"HasProtection\"] = [(len(set(row[\"A1\":\"C2\"]).intersection(autoimmuneAlleles)) > 0) for i,row in tcgaSummary.iterrows()]\n",
    "\n",
    "#Filter out individuals < 20 years old given increased likelihood of rare germline predisposing variants.\n",
    "tcgaSummary = tcgaSummary[tcgaSummary.Age >= 20]"
   ]
  },
  {
   "cell_type": "markdown",
   "metadata": {},
   "source": [
    "Concatenate TCGA summary with SNP their genotypes:"
   ]
  },
  {
   "cell_type": "code",
   "execution_count": 5,
   "metadata": {},
   "outputs": [],
   "source": [
    "tcgaWithSNPs = tcgaSummary[tcgaSummary.index.isin(protectiveTCGASNPs.index)]\n",
    "tcgaWithSNPs = pd.merge(pd.merge(tcgaWithSNPs, protectiveTCGASNPs,left_index = True, right_index = True), predisposingTCGASNPs, left_index= True, right_index = True)"
   ]
  },
  {
   "cell_type": "markdown",
   "metadata": {},
   "source": [
    "Load in PRS SNP effect csv with the corrected SNP locations (many are off by 1 as reported in the Gu Melanoma PRS paper):"
   ]
  },
  {
   "cell_type": "code",
   "execution_count": 6,
   "metadata": {},
   "outputs": [
    {
     "data": {
      "text/html": [
       "<div>\n",
       "<style scoped>\n",
       "    .dataframe tbody tr th:only-of-type {\n",
       "        vertical-align: middle;\n",
       "    }\n",
       "\n",
       "    .dataframe tbody tr th {\n",
       "        vertical-align: top;\n",
       "    }\n",
       "\n",
       "    .dataframe thead th {\n",
       "        text-align: right;\n",
       "    }\n",
       "</style>\n",
       "<table border=\"1\" class=\"dataframe\">\n",
       "  <thead>\n",
       "    <tr style=\"text-align: right;\">\n",
       "      <th></th>\n",
       "      <th>Chr</th>\n",
       "      <th>Loc</th>\n",
       "      <th>Close genes in Genome Browser</th>\n",
       "      <th>Close genes reported in Law et al., 2015</th>\n",
       "      <th>Weight#</th>\n",
       "      <th>Ref allele for the weight</th>\n",
       "      <th>CorrectedLocs</th>\n",
       "    </tr>\n",
       "  </thead>\n",
       "  <tbody>\n",
       "    <tr>\n",
       "      <th>rs17416005</th>\n",
       "      <td>1.0</td>\n",
       "      <td>10761758.0</td>\n",
       "      <td>CASZ1</td>\n",
       "      <td>NaN</td>\n",
       "      <td>-0.00930</td>\n",
       "      <td>A</td>\n",
       "      <td>10761759.0</td>\n",
       "    </tr>\n",
       "    <tr>\n",
       "      <th>rs4655048</th>\n",
       "      <td>1.0</td>\n",
       "      <td>22668770.0</td>\n",
       "      <td>RP11-415K20.1|AL591122.20</td>\n",
       "      <td>NaN</td>\n",
       "      <td>-0.00460</td>\n",
       "      <td>T</td>\n",
       "      <td>22668771.0</td>\n",
       "    </tr>\n",
       "    <tr>\n",
       "      <th>rs6679026</th>\n",
       "      <td>1.0</td>\n",
       "      <td>78619511.0</td>\n",
       "      <td>RNFT1P2|RP11-472F19.2|GIPC2</td>\n",
       "      <td>NaN</td>\n",
       "      <td>-0.01700</td>\n",
       "      <td>T</td>\n",
       "      <td>78619512.0</td>\n",
       "    </tr>\n",
       "    <tr>\n",
       "      <th>rs11577235</th>\n",
       "      <td>1.0</td>\n",
       "      <td>114113339.0</td>\n",
       "      <td>MTND5P20|RP11-473L1.1|MAGI3</td>\n",
       "      <td>NaN</td>\n",
       "      <td>-0.01400</td>\n",
       "      <td>T</td>\n",
       "      <td>114113340.0</td>\n",
       "    </tr>\n",
       "    <tr>\n",
       "      <th>rs491313</th>\n",
       "      <td>1.0</td>\n",
       "      <td>114639042.0</td>\n",
       "      <td>SYT6</td>\n",
       "      <td>NaN</td>\n",
       "      <td>0.00045</td>\n",
       "      <td>C</td>\n",
       "      <td>114639043.0</td>\n",
       "    </tr>\n",
       "  </tbody>\n",
       "</table>\n",
       "</div>"
      ],
      "text/plain": [
       "            Chr          Loc Close genes in Genome Browser   \\\n",
       "rs17416005  1.0   10761758.0                          CASZ1   \n",
       "rs4655048   1.0   22668770.0      RP11-415K20.1|AL591122.20   \n",
       "rs6679026   1.0   78619511.0    RNFT1P2|RP11-472F19.2|GIPC2   \n",
       "rs11577235  1.0  114113339.0    MTND5P20|RP11-473L1.1|MAGI3   \n",
       "rs491313    1.0  114639042.0                           SYT6   \n",
       "\n",
       "           Close genes reported in Law et al., 2015  Weight#  \\\n",
       "rs17416005                                      NaN -0.00930   \n",
       "rs4655048                                       NaN -0.00460   \n",
       "rs6679026                                       NaN -0.01700   \n",
       "rs11577235                                      NaN -0.01400   \n",
       "rs491313                                        NaN  0.00045   \n",
       "\n",
       "           Ref allele for the weight  CorrectedLocs  \n",
       "rs17416005                         A     10761759.0  \n",
       "rs4655048                          T     22668771.0  \n",
       "rs6679026                          T     78619512.0  \n",
       "rs11577235                         T    114113340.0  \n",
       "rs491313                           C    114639043.0  "
      ]
     },
     "execution_count": 6,
     "metadata": {},
     "output_type": "execute_result"
    }
   ],
   "source": [
    "prsDF = pd.read_csv(\"../Data/Gu_Melanoma_PRS/PRS_Weights.tsv\", sep = \"\\t\", index_col = 0)\n",
    "prsDF.head()"
   ]
  },
  {
   "cell_type": "markdown",
   "metadata": {},
   "source": [
    "## 2. Data Processing, Formatting, and Statistical Analyses"
   ]
  },
  {
   "cell_type": "markdown",
   "metadata": {},
   "source": [
    "Define a function to calculate Cliffs Delta (effect size) defined as:\n",
    " $$d = \\frac{\\left(COUNT(x1>x2) - COUNT(x2>x1)\\right)}{n_1\\cdot n_2} $$"
   ]
  },
  {
   "cell_type": "code",
   "execution_count": 7,
   "metadata": {},
   "outputs": [],
   "source": [
    "#Input: 2 lists or numpy arrays of ints/floats\n",
    "#Output: A Cliffs D effect size (bounded between -1 and 1). The direction of the effect is oriented to the first input\n",
    "def CliffsD(x,y):\n",
    "    d = 0\n",
    "    for i in range(len(x)):\n",
    "        for j in range(len(y)):\n",
    "            if x[i] > y[j]:\n",
    "                d += 1\n",
    "            elif y[j] > x[i]:\n",
    "                d -= 1\n",
    "    \n",
    "    return d/(len(x)*len(y))"
   ]
  },
  {
   "cell_type": "markdown",
   "metadata": {},
   "source": [
    "**Calculate protective PRS SNPs age effects:**"
   ]
  },
  {
   "cell_type": "code",
   "execution_count": 8,
   "metadata": {},
   "outputs": [
    {
     "name": "stderr",
     "output_type": "stream",
     "text": [
      "100%|██████████| 86/86 [00:22<00:00,  3.86it/s]\n"
     ]
    }
   ],
   "source": [
    "protectiveSNPResults = defaultdict(lambda:defaultdict(float))\n",
    "\n",
    "for snp in tqdm.tqdm(protectiveTCGASNPs.columns):\n",
    "    hasSNP = tcgaWithSNPs[tcgaWithSNPs[snp] >= 1][\"Age\"]\n",
    "    nope = tcgaWithSNPs[tcgaWithSNPs[snp] == 0][\"Age\"]\n",
    "    if (len(hasSNP) == 0) or (len(nope) == 0):\n",
    "        raise ValueError(\"SNP Issues: SNP {} is either completely missing or all indivduals all have at least 1.\".format(snp))\n",
    "        \n",
    "    stat, pDisc = mannwhitneyu(hasSNP, nope)\n",
    "    effectSize = CliffsD(hasSNP, nope) \n",
    "    medianAgeDiff = np.median(hasSNP) - np.median(nope)\n",
    "    \n",
    "    protectiveSNPResults[snp][\"p\"] = pDisc\n",
    "    protectiveSNPResults[snp][\"ageDiff\"] = medianAgeDiff\n",
    "    protectiveSNPResults[snp][\"CliffsD\"] = effectSize"
   ]
  },
  {
   "cell_type": "code",
   "execution_count": 9,
   "metadata": {},
   "outputs": [
    {
     "data": {
      "text/plain": [
       "[('125073958',\n",
       "  defaultdict(float,\n",
       "              {'p': 0.015640644747458146,\n",
       "               'ageDiff': 5.0,\n",
       "               'CliffsD': 0.14347079037800686})),\n",
       " ('55977842',\n",
       "  defaultdict(float,\n",
       "              {'p': 0.0170305351524899,\n",
       "               'ageDiff': 4.0,\n",
       "               'CliffsD': 0.15556797020484173})),\n",
       " ('29745196',\n",
       "  defaultdict(float,\n",
       "              {'p': 0.019263284423085354,\n",
       "               'ageDiff': -4.0,\n",
       "               'CliffsD': -0.11495135688684076})),\n",
       " ('88870967',\n",
       "  defaultdict(float,\n",
       "              {'p': 0.020711007361642983,\n",
       "               'ageDiff': 5.0,\n",
       "               'CliffsD': 0.1675531914893617})),\n",
       " ('24110776',\n",
       "  defaultdict(float,\n",
       "              {'p': 0.02154905685305224,\n",
       "               'ageDiff': 4.0,\n",
       "               'CliffsD': 0.13109756097560976}))]"
      ]
     },
     "execution_count": 9,
     "metadata": {},
     "output_type": "execute_result"
    }
   ],
   "source": [
    "(sorted(protectiveSNPResults.items(), key = lambda x: x[1][\"p\"]))[:5]"
   ]
  },
  {
   "cell_type": "markdown",
   "metadata": {},
   "source": [
    "Correct MWU p-values (MH testing):"
   ]
  },
  {
   "cell_type": "code",
   "execution_count": 10,
   "metadata": {},
   "outputs": [
    {
     "data": {
      "text/plain": [
       "(array([False, False, False, False, False, False, False, False, False,\n",
       "        False, False, False, False, False, False, False, False, False,\n",
       "        False, False, False, False, False, False, False, False, False,\n",
       "        False, False, False, False, False, False, False, False, False,\n",
       "        False, False, False, False, False, False, False, False, False,\n",
       "        False, False, False, False, False, False, False, False, False,\n",
       "        False, False, False, False, False, False, False, False, False,\n",
       "        False, False, False, False, False, False, False, False, False,\n",
       "        False, False, False, False, False, False, False, False, False,\n",
       "        False, False, False, False, False]),\n",
       " array([0.37064378, 0.37064378, 0.37064378, 0.37064378, 0.37064378,\n",
       "        0.40890589, 0.40890589, 0.40890589, 0.40890589, 0.40890589,\n",
       "        0.40890589, 0.41186168, 0.41186168, 0.41186168, 0.41186168,\n",
       "        0.41186168, 0.41186168, 0.41186168, 0.41186168, 0.41186168,\n",
       "        0.41186168, 0.41186168, 0.41186168, 0.41186168, 0.41186168,\n",
       "        0.41186168, 0.41186168, 0.41186168, 0.41186168, 0.41186168,\n",
       "        0.41186168, 0.41186168, 0.41186168, 0.41186168, 0.41186168,\n",
       "        0.41186168, 0.41186168, 0.41186168, 0.41186168, 0.41186168,\n",
       "        0.41186168, 0.41186168, 0.41186168, 0.41186168, 0.41186168,\n",
       "        0.41186168, 0.41186168, 0.41186168, 0.41186168, 0.41186168,\n",
       "        0.41186168, 0.41186168, 0.41186168, 0.41186168, 0.41186168,\n",
       "        0.41186168, 0.41186168, 0.41186168, 0.41384048, 0.41384048,\n",
       "        0.42158435, 0.42158435, 0.42158435, 0.42158435, 0.42158435,\n",
       "        0.4630996 , 0.4630996 , 0.4630996 , 0.4630996 , 0.4630996 ,\n",
       "        0.4630996 , 0.4630996 , 0.4630996 , 0.4630996 , 0.4630996 ,\n",
       "        0.4630996 , 0.4630996 , 0.4630996 , 0.4630996 , 0.47278779,\n",
       "        0.4757288 , 0.4757288 , 0.4757288 , 0.48844025, 0.49151001,\n",
       "        0.49151001]),\n",
       " 0.0005962558244729799,\n",
       " 0.0005813953488372093)"
      ]
     },
     "execution_count": 10,
     "metadata": {},
     "output_type": "execute_result"
    }
   ],
   "source": [
    "protectionCorrection = multipletests(pvals = [el[1][\"p\"] for el in sorted(protectiveSNPResults.items(), key = lambda x: x[1][\"p\"])], alpha = 0.05, method = \"fdr_bh\")\n",
    "protectionCorrection"
   ]
  },
  {
   "cell_type": "code",
   "execution_count": 11,
   "metadata": {},
   "outputs": [],
   "source": [
    "counter = 0\n",
    "for el in sorted(protectiveSNPResults.items(), key = lambda x: x[1][\"p\"]):\n",
    "    protectiveSNPResults[el[0]][\"correctedP\"] = protectionCorrection[1][counter]\n",
    "    counter += 1"
   ]
  },
  {
   "cell_type": "markdown",
   "metadata": {},
   "source": [
    "Sanity check:"
   ]
  },
  {
   "cell_type": "code",
   "execution_count": 12,
   "metadata": {},
   "outputs": [
    {
     "name": "stdout",
     "output_type": "stream",
     "text": [
      "86\n"
     ]
    },
    {
     "data": {
      "text/plain": [
       "[('125073958',\n",
       "  defaultdict(float,\n",
       "              {'p': 0.015640644747458146,\n",
       "               'ageDiff': 5.0,\n",
       "               'CliffsD': 0.14347079037800686,\n",
       "               'correctedP': 0.3706437778724985})),\n",
       " ('55977842',\n",
       "  defaultdict(float,\n",
       "              {'p': 0.0170305351524899,\n",
       "               'ageDiff': 4.0,\n",
       "               'CliffsD': 0.15556797020484173,\n",
       "               'correctedP': 0.3706437778724985})),\n",
       " ('29745196',\n",
       "  defaultdict(float,\n",
       "              {'p': 0.019263284423085354,\n",
       "               'ageDiff': -4.0,\n",
       "               'CliffsD': -0.11495135688684076,\n",
       "               'correctedP': 0.3706437778724985})),\n",
       " ('88870967',\n",
       "  defaultdict(float,\n",
       "              {'p': 0.020711007361642983,\n",
       "               'ageDiff': 5.0,\n",
       "               'CliffsD': 0.1675531914893617,\n",
       "               'correctedP': 0.3706437778724985})),\n",
       " ('24110776',\n",
       "  defaultdict(float,\n",
       "              {'p': 0.02154905685305224,\n",
       "               'ageDiff': 4.0,\n",
       "               'CliffsD': 0.13109756097560976,\n",
       "               'correctedP': 0.3706437778724985}))]"
      ]
     },
     "execution_count": 12,
     "metadata": {},
     "output_type": "execute_result"
    }
   ],
   "source": [
    "print(len(sorted(protectiveSNPResults.items(), key = lambda x: x[1][\"p\"])))\n",
    "sorted(protectiveSNPResults.items(), key = lambda x: x[1][\"p\"])[:5]"
   ]
  },
  {
   "cell_type": "markdown",
   "metadata": {},
   "source": [
    "**Calculate predisposing PRS SNPs age effects:** "
   ]
  },
  {
   "cell_type": "code",
   "execution_count": 13,
   "metadata": {},
   "outputs": [
    {
     "name": "stderr",
     "output_type": "stream",
     "text": [
      "100%|██████████| 104/104 [00:28<00:00,  3.68it/s]\n"
     ]
    }
   ],
   "source": [
    "#CliffsD/MWU Stratification\n",
    "predisposingSNPResults = defaultdict(lambda:defaultdict(float))\n",
    "for snp in tqdm.tqdm(predisposingTCGASNPs.columns):\n",
    "    hasSNP = tcgaWithSNPs[tcgaWithSNPs[snp] >= 1][\"Age\"]\n",
    "    nope = tcgaWithSNPs[tcgaWithSNPs[snp] == 0][\"Age\"]\n",
    "    if (len(hasSNP) == 0) or (len(nope) == 0):\n",
    "        raise ValueError(\"SNP Issues: SNP {} is either completely missing or all indivduals all have at least 1.\".format(snp))\n",
    "    \n",
    "    stat, pDisc = mannwhitneyu(hasSNP, nope)\n",
    "    effectSize = CliffsD(hasSNP, nope) \n",
    "    medianAgeDiff = np.median(hasSNP) - np.median(nope)\n",
    "    \n",
    "    predisposingSNPResults[snp][\"p\"] = pDisc\n",
    "    predisposingSNPResults[snp][\"ageDiff\"] = medianAgeDiff\n",
    "    predisposingSNPResults[snp][\"CliffsD\"] = effectSize"
   ]
  },
  {
   "cell_type": "markdown",
   "metadata": {},
   "source": [
    "Correct MWU p-values (MH testing):"
   ]
  },
  {
   "cell_type": "code",
   "execution_count": 14,
   "metadata": {},
   "outputs": [
    {
     "data": {
      "text/plain": [
       "(array([False, False, False, False, False, False, False, False, False,\n",
       "        False, False, False, False, False, False, False, False, False,\n",
       "        False, False, False, False, False, False, False, False, False,\n",
       "        False, False, False, False, False, False, False, False, False,\n",
       "        False, False, False, False, False, False, False, False, False,\n",
       "        False, False, False, False, False, False, False, False, False,\n",
       "        False, False, False, False, False, False, False, False, False,\n",
       "        False, False, False, False, False, False, False, False, False,\n",
       "        False, False, False, False, False, False, False, False, False,\n",
       "        False, False, False, False, False, False, False, False, False,\n",
       "        False, False, False, False, False, False, False, False, False,\n",
       "        False, False, False, False, False]),\n",
       " array([0.26931512, 0.30736184, 0.30736184, 0.34486091, 0.34768417,\n",
       "        0.34768417, 0.34768417, 0.34768417, 0.34768417, 0.34768417,\n",
       "        0.34768417, 0.34768417, 0.41000343, 0.43816211, 0.44157989,\n",
       "        0.44157989, 0.44157989, 0.44157989, 0.44157989, 0.44157989,\n",
       "        0.44157989, 0.44157989, 0.44157989, 0.44157989, 0.44157989,\n",
       "        0.44157989, 0.44157989, 0.44157989, 0.44157989, 0.44157989,\n",
       "        0.44157989, 0.44157989, 0.44157989, 0.44157989, 0.44157989,\n",
       "        0.44157989, 0.44157989, 0.44157989, 0.44157989, 0.44157989,\n",
       "        0.44157989, 0.44157989, 0.44157989, 0.44157989, 0.44157989,\n",
       "        0.44157989, 0.44157989, 0.44157989, 0.44157989, 0.44157989,\n",
       "        0.44157989, 0.44157989, 0.44157989, 0.44157989, 0.44157989,\n",
       "        0.4499966 , 0.45189097, 0.4608093 , 0.46081908, 0.46081908,\n",
       "        0.46081908, 0.46081908, 0.46081908, 0.46081908, 0.47373394,\n",
       "        0.47373394, 0.47373394, 0.47373394, 0.47373394, 0.47373394,\n",
       "        0.47373394, 0.47373394, 0.47373394, 0.47373394, 0.47373394,\n",
       "        0.47854495, 0.47916549, 0.47916549, 0.49320453, 0.49320453,\n",
       "        0.49320453, 0.49320453, 0.49320453, 0.49320453, 0.49320453,\n",
       "        0.49320453, 0.49320453, 0.49320453, 0.49320453, 0.49320453,\n",
       "        0.49320453, 0.49320453, 0.49320453, 0.49320453, 0.49320453,\n",
       "        0.49320453, 0.49320453, 0.49320453, 0.49320453, 0.49391129,\n",
       "        0.49570407, 0.49625795, 0.49625795, 0.49625795]),\n",
       " 0.0004930831482548026,\n",
       " 0.0004807692307692308)"
      ]
     },
     "execution_count": 14,
     "metadata": {},
     "output_type": "execute_result"
    }
   ],
   "source": [
    "predisposingCorrection = multipletests(pvals = [el[1][\"p\"] for el in sorted(predisposingSNPResults.items(), key = lambda x: x[1][\"p\"])], alpha = 0.05, method = \"fdr_bh\")\n",
    "predisposingCorrection"
   ]
  },
  {
   "cell_type": "code",
   "execution_count": 15,
   "metadata": {},
   "outputs": [],
   "source": [
    "counter = 0\n",
    "for el in sorted(predisposingSNPResults.items(), key = lambda x: x[1][\"p\"]):\n",
    "    predisposingSNPResults[el[0]][\"correctedP\"] = predisposingCorrection[1][counter]\n",
    "    counter += 1"
   ]
  },
  {
   "cell_type": "markdown",
   "metadata": {},
   "source": [
    "Sanity check:"
   ]
  },
  {
   "cell_type": "code",
   "execution_count": 16,
   "metadata": {},
   "outputs": [
    {
     "name": "stdout",
     "output_type": "stream",
     "text": [
      "104\n"
     ]
    },
    {
     "data": {
      "text/plain": [
       "[('89846677',\n",
       "  defaultdict(float,\n",
       "              {'p': 0.002589568493729448,\n",
       "               'ageDiff': -6.0,\n",
       "               'CliffsD': -0.20308623960309355,\n",
       "               'correctedP': 0.26931512334786256})),\n",
       " ('15691778',\n",
       "  defaultdict(float,\n",
       "              {'p': 0.00655955497741601,\n",
       "               'ageDiff': -4.0,\n",
       "               'CliffsD': -0.1503173394262503,\n",
       "               'correctedP': 0.3073618429684449})),\n",
       " ('114639043',\n",
       "  defaultdict(float,\n",
       "              {'p': 0.008866207008705142,\n",
       "               'ageDiff': -5.0,\n",
       "               'CliffsD': -0.14369129220614368,\n",
       "               'correctedP': 0.3073618429684449})),\n",
       " ('16984280',\n",
       "  defaultdict(float,\n",
       "              {'p': 0.013263881254015704,\n",
       "               'ageDiff': 4.0,\n",
       "               'CliffsD': 0.12782904099527154,\n",
       "               'correctedP': 0.34486091260440827})),\n",
       " ('202176294',\n",
       "  defaultdict(float,\n",
       "              {'p': 0.024809426666393054,\n",
       "               'ageDiff': -3.0,\n",
       "               'CliffsD': -0.1090676338809473,\n",
       "               'correctedP': 0.3476841724773007}))]"
      ]
     },
     "execution_count": 16,
     "metadata": {},
     "output_type": "execute_result"
    }
   ],
   "source": [
    "print(len(sorted(predisposingSNPResults.items(), key = lambda x: x[1][\"p\"])))\n",
    "sorted(predisposingSNPResults.items(), key = lambda x: x[1][\"p\"])[:5]"
   ]
  },
  {
   "cell_type": "markdown",
   "metadata": {},
   "source": [
    "Map melanoma PRS weights to each SNP results dictionary:"
   ]
  },
  {
   "cell_type": "code",
   "execution_count": 17,
   "metadata": {},
   "outputs": [
    {
     "name": "stdout",
     "output_type": "stream",
     "text": [
      "{205357568, 15691778, 10904067, 163167746, 3554821, 95309317, 94597126, 149426184, 204484617, 64889360, 44058640, 30008848, 77204500, 55028246, 3353622, 55803929, 82163226, 102627353, 10761759, 21951009, 13067811, 125073958, 31675943, 108187689, 38571563, 29745196, 113924143, 31540784, 205163057, 162628146, 72922675, 21825075, 77255735, 75635255, 163843129, 17112633, 42988088, 88870967, 169481271, 121686078, 29185604, 108486215, 223656014, 28576341, 45534295, 1081434, 36302428, 89986144, 106856034, 114796132, 35583588, 10377318, 124396645, 30102135, 28718712, 33952378, 14938242, 7102597, 69657736, 166119571, 32268953, 89818265, 110504091, 130699420, 143003805, 22141595, 56316573, 23551652, 17099432, 6532778, 188112554, 246578346, 43207858, 73071282, 15011508, 142054581, 4126900, 24110776, 117847741, 114639043, 119572168, 73455308, 166413517, 5616334, 154605260, 16984280, 75239130, 89760474, 110698716, 109060830, 26548451, 44933349, 26252005, 244457, 105668843, 134457580, 219053292, 89613037, 45709553, 12234496, 13075202, 21889289, 236744971, 151165708, 122814733, 7115533, 106125082, 84745499, 22060833, 6777124, 92490021, 202176294, 88821033, 17274672, 55310644, 20998965, 62269750, 1320247, 122389302, 4812601, 24287028, 33034554, 16419643, 27476285, 114113340, 140029759, 155344199, 46433608, 68796746, 69367118, 16358744, 52023129, 169610074, 89753436, 70650204, 22679902, 49460060, 68919649, 17730402, 89011046, 28341609, 236654959, 55977842, 78619512, 90271619, 35012486, 52042124, 48593295, 21163919, 32587157, 12588950, 55426966, 156491160, 116456345, 89846677, 68507040, 64465318, 54234022, 89827755, 236298158, 176728502, 10957242, 154993090, 77819842, 48687557, 38276549, 860614, 88096203, 153121228, 27550669, 57577935, 13032911, 96363986, 87317972, 50677206, 167522265, 134907866, 150856153, 3489244, 71842274, 22668771, 3747813, 105038824, 226608104, 129177587, 54115829, 61937658, 32586748, 235749373, 56156158}\n"
     ]
    }
   ],
   "source": [
    "allPRSSNPs = set(protectiveTCGASNPs.columns).union(set(predisposingTCGASNPs.columns)) #all TCGA PRS SNPs\n",
    "allPRSSNPs = set([int(el) for el in allPRSSNPs])\n",
    "print((allPRSSNPs))"
   ]
  },
  {
   "cell_type": "code",
   "execution_count": 18,
   "metadata": {},
   "outputs": [
    {
     "name": "stdout",
     "output_type": "stream",
     "text": [
      "Added weights for 86 protective PRS SNPs and 104 predisposing PRS SNPs. 14 PRS SNPs were not assigned (unable to be extracted from TCGA).\n"
     ]
    }
   ],
   "source": [
    "protectiveCounter = 0\n",
    "predisposingCounter = 0  \n",
    "howMany = 0 #sanity checker variables\n",
    "\n",
    "for i,row in prsDF.iterrows():\n",
    "    if row[\"CorrectedLocs\"] not in allPRSSNPs: #TCGA has 190 of the 204 PRS SNPs\n",
    "        howMany += 1\n",
    "        continue\n",
    "    \n",
    "    if row[\"Weight#\"] < 0:\n",
    "        protectiveCounter += 1 \n",
    "        protectiveSNPResults[str(int(row[\"CorrectedLocs\"]))][\"PRS_Weight\"] = row[\"Weight#\"]\n",
    "        \n",
    "    else: #PRS weight is greater than or == 0 so is a risk allele\n",
    "        predisposingCounter += 1\n",
    "        predisposingSNPResults[str(int(row[\"CorrectedLocs\"]))][\"PRS_Weight\"] = row[\"Weight#\"]\n",
    "        \n",
    "print(\"Added weights for {} protective PRS SNPs and {} predisposing PRS SNPs. {} PRS SNPs were not assigned (unable to be extracted from TCGA).\".format(protectiveCounter, predisposingCounter, howMany))"
   ]
  },
  {
   "cell_type": "markdown",
   "metadata": {},
   "source": [
    "Get the top 5 protective and top 5 predisposing PRS weight SNPs:"
   ]
  },
  {
   "cell_type": "code",
   "execution_count": 19,
   "metadata": {},
   "outputs": [
    {
     "data": {
      "text/plain": [
       "[('89846677',\n",
       "  defaultdict(float,\n",
       "              {'p': 0.002589568493729448,\n",
       "               'ageDiff': -6.0,\n",
       "               'CliffsD': -0.20308623960309355,\n",
       "               'correctedP': 0.26931512334786256,\n",
       "               'PRS_Weight': 0.49})),\n",
       " ('89986144',\n",
       "  defaultdict(float,\n",
       "              {'p': 0.1166633440391519,\n",
       "               'ageDiff': -2.0,\n",
       "               'CliffsD': -0.08491161616161616,\n",
       "               'correctedP': 0.44157988921735036,\n",
       "               'PRS_Weight': 0.2})),\n",
       " ('32586748',\n",
       "  defaultdict(float,\n",
       "              {'p': 0.22345228829958963,\n",
       "               'ageDiff': -0.5,\n",
       "               'CliffsD': -0.05015015015015015,\n",
       "               'correctedP': 0.44157988921735036,\n",
       "               'PRS_Weight': 0.17})),\n",
       " ('89011046',\n",
       "  defaultdict(float,\n",
       "              {'p': 0.040117404516611624,\n",
       "               'ageDiff': -2.5,\n",
       "               'CliffsD': -0.09740259740259741,\n",
       "               'correctedP': 0.3476841724773007,\n",
       "               'PRS_Weight': 0.12})),\n",
       " ('1320247',\n",
       "  defaultdict(float,\n",
       "              {'p': 0.19635398072474386,\n",
       "               'ageDiff': 1.0,\n",
       "               'CliffsD': 0.05392399494032888,\n",
       "               'correctedP': 0.44157988921735036,\n",
       "               'PRS_Weight': 0.082}))]"
      ]
     },
     "execution_count": 19,
     "metadata": {},
     "output_type": "execute_result"
    }
   ],
   "source": [
    "topEffectSNPs = [el[0] for el in sorted(predisposingSNPResults.items(), key = lambda x: x[1][\"PRS_Weight\"], reverse = True)[:5]]\n",
    "sorted(predisposingSNPResults.items(), key = lambda x: x[1][\"PRS_Weight\"], reverse = True)[:5]"
   ]
  },
  {
   "cell_type": "code",
   "execution_count": 20,
   "metadata": {},
   "outputs": [
    {
     "data": {
      "text/plain": [
       "[('33952378',\n",
       "  defaultdict(float,\n",
       "              {'p': 0.05138241824957283,\n",
       "               'ageDiff': 5.5,\n",
       "               'CliffsD': 0.31787211740041926,\n",
       "               'correctedP': 0.4089058863205999,\n",
       "               'PRS_Weight': -0.4})),\n",
       " ('21825075',\n",
       "  defaultdict(float,\n",
       "              {'p': 0.2746284276000256,\n",
       "               'ageDiff': -1.0,\n",
       "               'CliffsD': 0.0385872369703572,\n",
       "               'correctedP': 0.4118616840522085,\n",
       "               'PRS_Weight': -0.14})),\n",
       " ('21889289',\n",
       "  defaultdict(float,\n",
       "              {'p': 0.4147308235210575,\n",
       "               'ageDiff': -6.0,\n",
       "               'CliffsD': -0.04219077568134172,\n",
       "               'correctedP': 0.4630996002377695,\n",
       "               'PRS_Weight': -0.13})),\n",
       " ('89753436',\n",
       "  defaultdict(float,\n",
       "              {'p': 0.28666683402411686,\n",
       "               'ageDiff': 4.0,\n",
       "               'CliffsD': 0.03740481267133719,\n",
       "               'correctedP': 0.4138404837611497,\n",
       "               'PRS_Weight': -0.11})),\n",
       " ('22679902',\n",
       "  defaultdict(float,\n",
       "              {'p': 0.15874147010756384,\n",
       "               'ageDiff': -2.0,\n",
       "               'CliffsD': -0.1766479965532098,\n",
       "               'correctedP': 0.4118616840522085,\n",
       "               'PRS_Weight': -0.11}))]"
      ]
     },
     "execution_count": 20,
     "metadata": {},
     "output_type": "execute_result"
    }
   ],
   "source": [
    "topEffectSNPs = topEffectSNPs + [el[0] for el in sorted(protectiveSNPResults.items(), key = lambda x: x[1][\"PRS_Weight\"])[:5]]\n",
    "sorted(protectiveSNPResults.items(), key = lambda x: x[1][\"PRS_Weight\"])[:5]"
   ]
  },
  {
   "cell_type": "code",
   "execution_count": 21,
   "metadata": {},
   "outputs": [
    {
     "name": "stdout",
     "output_type": "stream",
     "text": [
      "The top 10 PRS Weight SNPs are: ['89846677', '89986144', '32586748', '89011046', '1320247', '33952378', '21825075', '21889289', '89753436', '22679902']\n"
     ]
    }
   ],
   "source": [
    "print(\"The top 10 PRS Weight SNPs are: {}\".format(topEffectSNPs))"
   ]
  },
  {
   "cell_type": "markdown",
   "metadata": {},
   "source": [
    "Quantify MHC-I AI allele effect size:"
   ]
  },
  {
   "cell_type": "code",
   "execution_count": 22,
   "metadata": {},
   "outputs": [
    {
     "name": "stdout",
     "output_type": "stream",
     "text": [
      "MHC-I AI Cliffs D: 0.16514\n"
     ]
    }
   ],
   "source": [
    "aiCliffsD = CliffsD(list(tcgaWithSNPs[tcgaWithSNPs.HasProtection == 1].Age), list(tcgaWithSNPs[tcgaWithSNPs.HasProtection == 0].Age))\n",
    "print(\"MHC-I AI Cliffs D: {0:.5f}\".format(aiCliffsD))"
   ]
  },
  {
   "cell_type": "markdown",
   "metadata": {},
   "source": [
    "Summarize top 5 protective and top 5 predisposing PRS weight SNPs with corresponding AI effect:"
   ]
  },
  {
   "cell_type": "code",
   "execution_count": 23,
   "metadata": {},
   "outputs": [],
   "source": [
    "mapToPRSWeight = defaultdict(lambda: defaultdict(float))\n",
    "for el in topEffectSNPs:\n",
    "    #el = str(snp)\n",
    "    if el in protectiveSNPResults:\n",
    "        mapToPRSWeight[el][\"Weight\"] = protectiveSNPResults[el][\"PRS_Weight\"]\n",
    "        mapToPRSWeight[el][\"|Weight|\"] = abs(protectiveSNPResults[el][\"PRS_Weight\"])\n",
    "        mapToPRSWeight[el][\"CliffsD\"] = protectiveSNPResults[el][\"CliffsD\"]\n",
    "\n",
    "    else:\n",
    "        mapToPRSWeight[el][\"Weight\"] = predisposingSNPResults[el][\"PRS_Weight\"]\n",
    "        mapToPRSWeight[el][\"|Weight|\"] = (predisposingSNPResults[el][\"PRS_Weight\"])\n",
    "        mapToPRSWeight[el][\"CliffsD\"] = predisposingSNPResults[el][\"CliffsD\"]"
   ]
  },
  {
   "cell_type": "markdown",
   "metadata": {},
   "source": [
    "Visualize top 10 PRS effect SNPs by weight magnitude with corresponding Cliffs D:"
   ]
  },
  {
   "cell_type": "code",
   "execution_count": 24,
   "metadata": {},
   "outputs": [
    {
     "data": {
      "text/plain": [
       "[('89846677',\n",
       "  defaultdict(float,\n",
       "              {'Weight': 0.49,\n",
       "               '|Weight|': 0.49,\n",
       "               'CliffsD': -0.20308623960309355})),\n",
       " ('33952378',\n",
       "  defaultdict(float,\n",
       "              {'Weight': -0.4,\n",
       "               '|Weight|': 0.4,\n",
       "               'CliffsD': 0.31787211740041926})),\n",
       " ('89986144',\n",
       "  defaultdict(float,\n",
       "              {'Weight': 0.2,\n",
       "               '|Weight|': 0.2,\n",
       "               'CliffsD': -0.08491161616161616})),\n",
       " ('32586748',\n",
       "  defaultdict(float,\n",
       "              {'Weight': 0.17,\n",
       "               '|Weight|': 0.17,\n",
       "               'CliffsD': -0.05015015015015015})),\n",
       " ('21825075',\n",
       "  defaultdict(float,\n",
       "              {'Weight': -0.14,\n",
       "               '|Weight|': 0.14,\n",
       "               'CliffsD': 0.0385872369703572})),\n",
       " ('21889289',\n",
       "  defaultdict(float,\n",
       "              {'Weight': -0.13,\n",
       "               '|Weight|': 0.13,\n",
       "               'CliffsD': -0.04219077568134172})),\n",
       " ('89011046',\n",
       "  defaultdict(float,\n",
       "              {'Weight': 0.12,\n",
       "               '|Weight|': 0.12,\n",
       "               'CliffsD': -0.09740259740259741})),\n",
       " ('89753436',\n",
       "  defaultdict(float,\n",
       "              {'Weight': -0.11,\n",
       "               '|Weight|': 0.11,\n",
       "               'CliffsD': 0.03740481267133719})),\n",
       " ('22679902',\n",
       "  defaultdict(float,\n",
       "              {'Weight': -0.11,\n",
       "               '|Weight|': 0.11,\n",
       "               'CliffsD': -0.1766479965532098})),\n",
       " ('1320247',\n",
       "  defaultdict(float,\n",
       "              {'Weight': 0.082,\n",
       "               '|Weight|': 0.082,\n",
       "               'CliffsD': 0.05392399494032888}))]"
      ]
     },
     "execution_count": 24,
     "metadata": {},
     "output_type": "execute_result"
    }
   ],
   "source": [
    "sortedTopWeights = sorted(mapToPRSWeight.items(), key = lambda x: x[1][\"|Weight|\"], reverse = True)\n",
    "sortedTopWeights"
   ]
  },
  {
   "cell_type": "markdown",
   "metadata": {},
   "source": [
    "## 3. Figure Generation\n",
    "\n",
    "### Figure 2D: Cliffs D for MHC-I AI alleles and top 10 PRS weight SNPs"
   ]
  },
  {
   "cell_type": "markdown",
   "metadata": {},
   "source": [
    "Reformulate the data from a dictionary to a dataframe for visualization and plotting:"
   ]
  },
  {
   "cell_type": "code",
   "execution_count": 25,
   "metadata": {},
   "outputs": [
    {
     "data": {
      "text/html": [
       "<div>\n",
       "<style scoped>\n",
       "    .dataframe tbody tr th:only-of-type {\n",
       "        vertical-align: middle;\n",
       "    }\n",
       "\n",
       "    .dataframe tbody tr th {\n",
       "        vertical-align: top;\n",
       "    }\n",
       "\n",
       "    .dataframe thead th {\n",
       "        text-align: right;\n",
       "    }\n",
       "</style>\n",
       "<table border=\"1\" class=\"dataframe\">\n",
       "  <thead>\n",
       "    <tr style=\"text-align: right;\">\n",
       "      <th></th>\n",
       "      <th>Weight</th>\n",
       "      <th>|Weight|</th>\n",
       "      <th>CliffsD</th>\n",
       "      <th>|CliffsD|</th>\n",
       "    </tr>\n",
       "  </thead>\n",
       "  <tbody>\n",
       "    <tr>\n",
       "      <th>rs250417</th>\n",
       "      <td>-0.400</td>\n",
       "      <td>0.400</td>\n",
       "      <td>0.317872</td>\n",
       "      <td>0.317872</td>\n",
       "    </tr>\n",
       "    <tr>\n",
       "      <th>Has AI Allele</th>\n",
       "      <td>NaN</td>\n",
       "      <td>NaN</td>\n",
       "      <td>0.165143</td>\n",
       "      <td>0.165143</td>\n",
       "    </tr>\n",
       "    <tr>\n",
       "      <th>rs380286</th>\n",
       "      <td>0.082</td>\n",
       "      <td>0.082</td>\n",
       "      <td>0.053924</td>\n",
       "      <td>0.053924</td>\n",
       "    </tr>\n",
       "    <tr>\n",
       "      <th>rs7852450</th>\n",
       "      <td>-0.140</td>\n",
       "      <td>0.140</td>\n",
       "      <td>0.038587</td>\n",
       "      <td>0.038587</td>\n",
       "    </tr>\n",
       "    <tr>\n",
       "      <th>rs3794638</th>\n",
       "      <td>-0.110</td>\n",
       "      <td>0.110</td>\n",
       "      <td>0.037405</td>\n",
       "      <td>0.037405</td>\n",
       "    </tr>\n",
       "    <tr>\n",
       "      <th>rs75286671</th>\n",
       "      <td>-0.130</td>\n",
       "      <td>0.130</td>\n",
       "      <td>-0.042191</td>\n",
       "      <td>0.042191</td>\n",
       "    </tr>\n",
       "    <tr>\n",
       "      <th>rs6088372</th>\n",
       "      <td>0.170</td>\n",
       "      <td>0.170</td>\n",
       "      <td>-0.050150</td>\n",
       "      <td>0.050150</td>\n",
       "    </tr>\n",
       "    <tr>\n",
       "      <th>rs1805008</th>\n",
       "      <td>0.200</td>\n",
       "      <td>0.200</td>\n",
       "      <td>-0.084912</td>\n",
       "      <td>0.084912</td>\n",
       "    </tr>\n",
       "    <tr>\n",
       "      <th>rs1393350</th>\n",
       "      <td>0.120</td>\n",
       "      <td>0.120</td>\n",
       "      <td>-0.097403</td>\n",
       "      <td>0.097403</td>\n",
       "    </tr>\n",
       "    <tr>\n",
       "      <th>rs139791480</th>\n",
       "      <td>-0.110</td>\n",
       "      <td>0.110</td>\n",
       "      <td>-0.176648</td>\n",
       "      <td>0.176648</td>\n",
       "    </tr>\n",
       "    <tr>\n",
       "      <th>rs75570604</th>\n",
       "      <td>0.490</td>\n",
       "      <td>0.490</td>\n",
       "      <td>-0.203086</td>\n",
       "      <td>0.203086</td>\n",
       "    </tr>\n",
       "  </tbody>\n",
       "</table>\n",
       "</div>"
      ],
      "text/plain": [
       "               Weight  |Weight|   CliffsD  |CliffsD|\n",
       "rs250417       -0.400     0.400  0.317872   0.317872\n",
       "Has AI Allele     NaN       NaN  0.165143   0.165143\n",
       "rs380286        0.082     0.082  0.053924   0.053924\n",
       "rs7852450      -0.140     0.140  0.038587   0.038587\n",
       "rs3794638      -0.110     0.110  0.037405   0.037405\n",
       "rs75286671     -0.130     0.130 -0.042191   0.042191\n",
       "rs6088372       0.170     0.170 -0.050150   0.050150\n",
       "rs1805008       0.200     0.200 -0.084912   0.084912\n",
       "rs1393350       0.120     0.120 -0.097403   0.097403\n",
       "rs139791480    -0.110     0.110 -0.176648   0.176648\n",
       "rs75570604      0.490     0.490 -0.203086   0.203086"
      ]
     },
     "execution_count": 25,
     "metadata": {},
     "output_type": "execute_result"
    }
   ],
   "source": [
    "mapToRSID = dict(zip(prsDF.CorrectedLocs, prsDF.index))\n",
    "\n",
    "mapToPRSWeight[\"Has AI Allele\"][\"CliffsD\"] = aiCliffsD\n",
    "\n",
    "forPlottingEffectSize = pd.DataFrame(mapToPRSWeight).T\n",
    "forPlottingEffectSize = forPlottingEffectSize.sort_values(by = [\"CliffsD\"], ascending = False)\n",
    "forPlottingEffectSize[\"|CliffsD|\"] = abs(forPlottingEffectSize.CliffsD)\n",
    "forPlottingEffectSize.index = [mapToRSID.get(float(el + \".0\")) if el != \"Has AI Allele\" else el for el in forPlottingEffectSize.index]\n",
    "forPlottingEffectSize"
   ]
  },
  {
   "cell_type": "markdown",
   "metadata": {},
   "source": [
    "Plot Cliffs D effect size:"
   ]
  },
  {
   "cell_type": "code",
   "execution_count": 26,
   "metadata": {},
   "outputs": [
    {
     "data": {
      "text/plain": [
       "[Text(0, 0, 'rs250417: SLC45A2'),\n",
       " Text(1, 0, 'Has AI Allele: MHC-I'),\n",
       " Text(2, 0, 'rs380286: TERT'),\n",
       " Text(3, 0, 'rs7852450: CDKN2A'),\n",
       " Text(4, 0, 'rs3794638: CDK10'),\n",
       " Text(5, 0, 'rs75286671: KCNIP4'),\n",
       " Text(6, 0, 'rs6088372: ASIP'),\n",
       " Text(7, 0, 'rs1805008: MC1R'),\n",
       " Text(8, 0, 'rs1393350: TYR'),\n",
       " Text(9, 0, 'rs139791480: AL033539.18'),\n",
       " Text(10, 0, 'rs75570604: MC1R')]"
      ]
     },
     "execution_count": 26,
     "metadata": {},
     "output_type": "execute_result"
    },
    {
     "data": {
      "image/png": "[encoded data removed]",
      "text/plain": [
       "<Figure size 936x936 with 1 Axes>"
      ]
     },
     "metadata": {},
     "output_type": "display_data"
    }
   ],
   "source": [
    "snpToGeneMapping = {\"rs250417\":\"SLC45A2\", \"rs380286\":\"TERT\", \"rs7852450\":\"CDKN2A\",\n",
    "                   \"rs3794638\":\"CDK10\", \"rs75286671\":\"KCNIP4\",\"rs6088372\":\"ASIP\",\n",
    "                   \"rs1805008\":\"MC1R\", \"rs1393350\":\"TYR\", \"rs139791480\":\"AL033539.18\",\n",
    "                   \"rs75570604\":\"MC1R\", \"Has AI Allele\":\"MHC-I\"}\n",
    "\n",
    "sns.set(font_scale=1.1)\n",
    "fig, ax = plt.subplots(figsize=(13, 13))\n",
    "sns.barplot(data = forPlottingEffectSize, x = forPlottingEffectSize.index, y = \"CliffsD\", palette = [\"r\" if v < 0 else \"b\" for v in forPlottingEffectSize.CliffsD])\n",
    "plt.ylabel(\"Effect Size (Cliff's D)\", fontsize = 18)\n",
    "plt.xticks(rotation = 45, fontsize = 16, ha = \"right\")\n",
    "plt.yticks(fontsize = 16)\n",
    "\n",
    "\n",
    "#plt.draw() #This is needed so the y-tick labels are populated...\n",
    "newLabels = [item.get_text()+ \": \" + snpToGeneMapping.get(item.get_text()) for item in ax.get_xticklabels()]\n",
    "for i in range(len(ax.get_xticklabels())):\n",
    "    xLabel = ax.get_xticklabels()[i].get_text().split(\"_\")[0]\n",
    "    if xLabel not in prsDF.index:\n",
    "        ax.get_xticklabels()[i].set_fontweight(\"bold\")\n",
    "    elif str(int(prsDF.loc[xLabel, \"CorrectedLocs\"])) in predisposingSNPResults:\n",
    "        ax.get_xticklabels()[i].set_color(\"#E1BE6A\") #yellow\n",
    "    elif str(int(prsDF.loc[xLabel, \"CorrectedLocs\"])) in protectiveSNPResults:\n",
    "        ax.get_xticklabels()[i].set_color(\"#40B0A6\") #turquoise \n",
    "        \n",
    "ax.set_xticklabels(newLabels)"
   ]
  },
  {
   "cell_type": "markdown",
   "metadata": {},
   "source": [
    "PRS SNP to risk factor(s): <br><br>\n",
    "**rs250417** --> Suggested/Nearest Gene: *SLC45A2*; Postulated risk association: Pigmentation <br>\n",
    "**rs380286** --> Suggested/Nearest Gene: *TERT/CLPTMIL*; Postulated risk association: Telomere Elongation <br> \n",
    "**rs7852450** --> Suggested/Nearest Gene: *CDKN2A/MTAP*; Postulated risk association: Cell Cycle Regulation <br>\n",
    "**rs3794638** --> Suggested/Nearest Gene: *CDK10*; Postulated risk association: Cell Proliferation <br>\n",
    "**rs75286671** --> Suggested/Nearest Gene: *KCNIP4* ; Function: Calcium ion binding, potassium channel regulator; Postulated risk association: ???<br>\n",
    "**rs6088372** --> Suggested/Nearest Gene: *ASIP*; Postulated risk association: Pigmentation <br>\n",
    "**rs1805008:** --> Suggested/Nearest Gene: *MC1R*; Postulated risk association: Pigmentation (Melanin synthesis and melanocyte proliferation) <br>\n",
    "**rs1393350** --> Suggested/Nearest Gene: *TYR*; Postulated risk association: Pigmentation <br>\n",
    "**rs139791480** --> Suggested/Nearest Gene: *AL033539.18/LOC105374972 (Intron Variant)*; Postulated risk association: ??? <br>\n",
    "**rs75570604** --> Suggested/Nearest Gene: *MC1R*; Postulated risk association: Pigmentation (Melanin synthesis and melanocyte proliferation) <br>"
   ]
  }
 ],
 "metadata": {
  "kernelspec": {
   "display_name": "Python 3",
   "language": "python",
   "name": "python3"
  },
  "language_info": {
   "codemirror_mode": {
    "name": "ipython",
    "version": 3
   },
   "file_extension": ".py",
   "mimetype": "text/x-python",
   "name": "python",
   "nbconvert_exporter": "python",
   "pygments_lexer": "ipython3",
   "version": "3.7.3"
  }
 },
 "nbformat": 4,
 "nbformat_minor": 4
}
