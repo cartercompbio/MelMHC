{
 "cells": [
  {
   "cell_type": "markdown",
   "metadata": {},
   "source": [
    "**@author: James V. Talwar**\n",
    "\n",
    "# PRS Generalization: Comparing MAF across Cohorts\n",
    "\n",
    "**About:** This notebook provides the code needed to generate **Supplementary Figure 3** from the paper [*Autoimmune Alleles at the Major Histocompatibility Locus Modify Melanoma Susceptibility*](https://www.biorxiv.org/content/10.1101/2021.08.12.456166v1.full). Specifically this notebook evaluates the minor allele frequencies of PRS SNPs across cohorts (TCGA, Melanostrum, and validation). \n",
    "\n",
    "This notebook also evaluates whether an association exists between HLA-proximal PRS SNPs and MHC-I allele carrier status."
   ]
  },
  {
   "cell_type": "markdown",
   "metadata": {},
   "source": [
    "## 1. Load in Relevant Data and packages:"
   ]
  },
  {
   "cell_type": "code",
   "execution_count": 1,
   "metadata": {},
   "outputs": [],
   "source": [
    "import pandas as pd\n",
    "from pathlib import Path\n",
    "import os\n",
    "from collections import defaultdict\n",
    "import seaborn as sns\n",
    "from matplotlib import pyplot as plt\n",
    "import numpy as np\n",
    "import math\n",
    "from scipy.stats import mannwhitneyu\n",
    "from scipy import stats\n",
    "import sys\n",
    "from statsmodels.stats.multitest import multipletests\n",
    "\n",
    "plt.rcParams['pdf.fonttype'] = 42\n",
    "plt.rcParams['ps.fonttype'] = 42"
   ]
  },
  {
   "cell_type": "markdown",
   "metadata": {},
   "source": [
    "PRS SNP information and Melanostrum Cohort:"
   ]
  },
  {
   "cell_type": "code",
   "execution_count": 2,
   "metadata": {},
   "outputs": [
    {
     "data": {
      "text/html": [
       "<div>\n",
       "<style scoped>\n",
       "    .dataframe tbody tr th:only-of-type {\n",
       "        vertical-align: middle;\n",
       "    }\n",
       "\n",
       "    .dataframe tbody tr th {\n",
       "        vertical-align: top;\n",
       "    }\n",
       "\n",
       "    .dataframe thead th {\n",
       "        text-align: right;\n",
       "    }\n",
       "</style>\n",
       "<table border=\"1\" class=\"dataframe\">\n",
       "  <thead>\n",
       "    <tr style=\"text-align: right;\">\n",
       "      <th></th>\n",
       "      <th>Chr</th>\n",
       "      <th>Loc</th>\n",
       "      <th>Close genes in Genome Browser</th>\n",
       "      <th>Close genes reported in Law et al., 2015</th>\n",
       "      <th>Weight#</th>\n",
       "      <th>Ref allele for the weight</th>\n",
       "    </tr>\n",
       "  </thead>\n",
       "  <tbody>\n",
       "    <tr>\n",
       "      <th>rs17416005</th>\n",
       "      <td>1.0</td>\n",
       "      <td>10761758.0</td>\n",
       "      <td>CASZ1</td>\n",
       "      <td>NaN</td>\n",
       "      <td>-0.00930</td>\n",
       "      <td>A</td>\n",
       "    </tr>\n",
       "    <tr>\n",
       "      <th>rs4655048</th>\n",
       "      <td>1.0</td>\n",
       "      <td>22668770.0</td>\n",
       "      <td>RP11-415K20.1|AL591122.20</td>\n",
       "      <td>NaN</td>\n",
       "      <td>-0.00460</td>\n",
       "      <td>T</td>\n",
       "    </tr>\n",
       "    <tr>\n",
       "      <th>rs6679026</th>\n",
       "      <td>1.0</td>\n",
       "      <td>78619511.0</td>\n",
       "      <td>RNFT1P2|RP11-472F19.2|GIPC2</td>\n",
       "      <td>NaN</td>\n",
       "      <td>-0.01700</td>\n",
       "      <td>T</td>\n",
       "    </tr>\n",
       "    <tr>\n",
       "      <th>rs11577235</th>\n",
       "      <td>1.0</td>\n",
       "      <td>114113339.0</td>\n",
       "      <td>MTND5P20|RP11-473L1.1|MAGI3</td>\n",
       "      <td>NaN</td>\n",
       "      <td>-0.01400</td>\n",
       "      <td>T</td>\n",
       "    </tr>\n",
       "    <tr>\n",
       "      <th>rs491313</th>\n",
       "      <td>1.0</td>\n",
       "      <td>114639042.0</td>\n",
       "      <td>SYT6</td>\n",
       "      <td>NaN</td>\n",
       "      <td>0.00045</td>\n",
       "      <td>C</td>\n",
       "    </tr>\n",
       "  </tbody>\n",
       "</table>\n",
       "</div>"
      ],
      "text/plain": [
       "            Chr          Loc Close genes in Genome Browser   \\\n",
       "rs17416005  1.0   10761758.0                          CASZ1   \n",
       "rs4655048   1.0   22668770.0      RP11-415K20.1|AL591122.20   \n",
       "rs6679026   1.0   78619511.0    RNFT1P2|RP11-472F19.2|GIPC2   \n",
       "rs11577235  1.0  114113339.0    MTND5P20|RP11-473L1.1|MAGI3   \n",
       "rs491313    1.0  114639042.0                           SYT6   \n",
       "\n",
       "           Close genes reported in Law et al., 2015  Weight#  \\\n",
       "rs17416005                                      NaN -0.00930   \n",
       "rs4655048                                       NaN -0.00460   \n",
       "rs6679026                                       NaN -0.01700   \n",
       "rs11577235                                      NaN -0.01400   \n",
       "rs491313                                        NaN  0.00045   \n",
       "\n",
       "           Ref allele for the weight  \n",
       "rs17416005                         A  \n",
       "rs4655048                          T  \n",
       "rs6679026                          T  \n",
       "rs11577235                         T  \n",
       "rs491313                           C  "
      ]
     },
     "execution_count": 2,
     "metadata": {},
     "output_type": "execute_result"
    }
   ],
   "source": [
    "#whyWasThisFileHidden ==  Melanostrum PRS \n",
    "whyWasThisFileHidden = pd.read_excel(\"../Data/Supplementary_Table_3.xlsx\" , sep = \"\\t\", skiprows=1) \n",
    "whyWasThisFileHidden = whyWasThisFileHidden.drop([i for i in range(204,209)], axis = 0)\n",
    "temp = [el.replace(\"*\", \"\") for el in whyWasThisFileHidden.SNP]\n",
    "\n",
    "whyWasThisFileHidden.index = temp\n",
    "whyWasThisFileHidden = whyWasThisFileHidden.drop([\"SNP\"], axis = 1)\n",
    "whyWasThisFileHidden.head()"
   ]
  },
  {
   "cell_type": "code",
   "execution_count": 3,
   "metadata": {},
   "outputs": [],
   "source": [
    "melanostrumDF = pd.read_excel(\"../GenotypeData/Supplementary_Table_genotype_data.xlsx\", sep = \"\\t\")\n",
    "melanostrumDF.columns = melanostrumDF.loc[0, :]\n",
    "melanostrumDF = melanostrumDF.drop([0])"
   ]
  },
  {
   "cell_type": "markdown",
   "metadata": {},
   "source": [
    "TCGA PRS SNPs and information:"
   ]
  },
  {
   "cell_type": "code",
   "execution_count": 4,
   "metadata": {},
   "outputs": [
    {
     "name": "stdout",
     "output_type": "stream",
     "text": [
      "(191, 461)\n"
     ]
    }
   ],
   "source": [
    "howRiskyAreYou = pd.read_csv(\"../GenotypeData/SKCM_TCGA_Risk_SNPs.vcf\", sep = \"\\t\", skiprows=26)\n",
    "print(howRiskyAreYou.shape)\n"
   ]
  },
  {
   "cell_type": "code",
   "execution_count": 5,
   "metadata": {},
   "outputs": [],
   "source": [
    "autoimmuneAlleles = {'HLA-B13:02','HLA-B27:05','HLA-B51:01','HLA-B57:01','HLA-C06:02','HLA-C12:03', \"HLA-B39:06\"} #'HLA-B50:01'\n",
    "\n",
    "tcgaSummary = pd.read_csv(\"../GenotypeData/TCGA_Summary_With_BRAFV600E_Mutation_Status.tsv\", index_col = 0, sep = \"\\t\")\n",
    "#Ensure AI Allele Status is correct\n",
    "tcgaSummary[\"HasProtection\"] = [(len(set(row[\"A1\":\"C2\"]).intersection(autoimmuneAlleles)) > 0) for i,row in tcgaSummary.iterrows()]"
   ]
  },
  {
   "cell_type": "markdown",
   "metadata": {},
   "source": [
    "Get intersection of individuals with PRS SNPs and HLA-A,B,C genotypes:"
   ]
  },
  {
   "cell_type": "code",
   "execution_count": 6,
   "metadata": {},
   "outputs": [
    {
     "name": "stdout",
     "output_type": "stream",
     "text": [
      "(191, 461)\n"
     ]
    }
   ],
   "source": [
    "temp = list(howRiskyAreYou.columns) \n",
    "temp = temp[:9] + [el.split(\"_\")[0] for el in temp[9:]] #Format columns by TCGA ID\n",
    "howRiskyAreYou.columns = temp\n",
    "print(howRiskyAreYou.shape)"
   ]
  },
  {
   "cell_type": "code",
   "execution_count": 7,
   "metadata": {},
   "outputs": [
    {
     "data": {
      "text/plain": [
       "(191, 447)"
      ]
     },
     "execution_count": 7,
     "metadata": {},
     "output_type": "execute_result"
    }
   ],
   "source": [
    "columnsWithoutOverlap = []\n",
    "for col in list(howRiskyAreYou.columns)[9:]:\n",
    "    if col not in tcgaSummary.index:\n",
    "        columnsWithoutOverlap.append(col)\n",
    "\n",
    "howRiskyAreYou = howRiskyAreYou.drop(columnsWithoutOverlap, axis = 1)\n",
    "howRiskyAreYou.shape"
   ]
  },
  {
   "cell_type": "markdown",
   "metadata": {},
   "source": [
    "UKBB PRS SNPs:"
   ]
  },
  {
   "cell_type": "code",
   "execution_count": 8,
   "metadata": {},
   "outputs": [],
   "source": [
    "ukbb = pd.read_csv(\"../GenotypeData/ukbb.205.raw\", sep = \"\\t\") "
   ]
  },
  {
   "cell_type": "code",
   "execution_count": 9,
   "metadata": {},
   "outputs": [],
   "source": [
    "# All individuals in this UKBB cohort are >= 20 so don't need to prefilter/remove any \n",
    "ukbbRelevantIDs = pd.read_csv(\"../GenotypeData/UKBB.tsv\", sep = \"\\t\", index_col=0)\n",
    "ukbbRelevantIDs[\"HasProtection\"] = [(len(set(row[\"A1\":\"C2\"]).intersection(autoimmuneAlleles)) > 0) for i,row in ukbbRelevantIDs.iterrows()]"
   ]
  },
  {
   "cell_type": "code",
   "execution_count": 10,
   "metadata": {},
   "outputs": [
    {
     "name": "stdout",
     "output_type": "stream",
     "text": [
      "Shape of Melanoma UKBB individuals with HLA-Calls is: (238, 203)\n"
     ]
    }
   ],
   "source": [
    "filteredUKBB = ukbb[ukbb.ids.isin(set(ukbbRelevantIDs.index))]\n",
    "print(\"Shape of Melanoma UKBB individuals with HLA-Calls is: {}\".format(filteredUKBB.shape))"
   ]
  },
  {
   "cell_type": "markdown",
   "metadata": {},
   "source": [
    "## 2. Pull the MAF in each cohort: \n",
    "\n",
    "**Approach:** Map the allele frequency of the risk allele across the PRS for all cohorts and compare against one another"
   ]
  },
  {
   "cell_type": "markdown",
   "metadata": {},
   "source": [
    "### 2.1 Melanostrum Cohort (original PRS validation set) :"
   ]
  },
  {
   "cell_type": "code",
   "execution_count": 11,
   "metadata": {},
   "outputs": [
    {
     "data": {
      "text/html": [
       "<div>\n",
       "<style scoped>\n",
       "    .dataframe tbody tr th:only-of-type {\n",
       "        vertical-align: middle;\n",
       "    }\n",
       "\n",
       "    .dataframe tbody tr th {\n",
       "        vertical-align: top;\n",
       "    }\n",
       "\n",
       "    .dataframe thead th {\n",
       "        text-align: right;\n",
       "    }\n",
       "</style>\n",
       "<table border=\"1\" class=\"dataframe\">\n",
       "  <thead>\n",
       "    <tr style=\"text-align: right;\">\n",
       "      <th></th>\n",
       "      <th>Chr</th>\n",
       "      <th>Loc</th>\n",
       "      <th>Close genes in Genome Browser</th>\n",
       "      <th>Close genes reported in Law et al., 2015</th>\n",
       "      <th>Weight#</th>\n",
       "      <th>Ref allele for the weight</th>\n",
       "    </tr>\n",
       "  </thead>\n",
       "  <tbody>\n",
       "    <tr>\n",
       "      <th>rs17416005</th>\n",
       "      <td>1.0</td>\n",
       "      <td>10761758.0</td>\n",
       "      <td>CASZ1</td>\n",
       "      <td>NaN</td>\n",
       "      <td>-0.00930</td>\n",
       "      <td>A</td>\n",
       "    </tr>\n",
       "    <tr>\n",
       "      <th>rs4655048</th>\n",
       "      <td>1.0</td>\n",
       "      <td>22668770.0</td>\n",
       "      <td>RP11-415K20.1|AL591122.20</td>\n",
       "      <td>NaN</td>\n",
       "      <td>-0.00460</td>\n",
       "      <td>T</td>\n",
       "    </tr>\n",
       "    <tr>\n",
       "      <th>rs6679026</th>\n",
       "      <td>1.0</td>\n",
       "      <td>78619511.0</td>\n",
       "      <td>RNFT1P2|RP11-472F19.2|GIPC2</td>\n",
       "      <td>NaN</td>\n",
       "      <td>-0.01700</td>\n",
       "      <td>T</td>\n",
       "    </tr>\n",
       "    <tr>\n",
       "      <th>rs11577235</th>\n",
       "      <td>1.0</td>\n",
       "      <td>114113339.0</td>\n",
       "      <td>MTND5P20|RP11-473L1.1|MAGI3</td>\n",
       "      <td>NaN</td>\n",
       "      <td>-0.01400</td>\n",
       "      <td>T</td>\n",
       "    </tr>\n",
       "    <tr>\n",
       "      <th>rs491313</th>\n",
       "      <td>1.0</td>\n",
       "      <td>114639042.0</td>\n",
       "      <td>SYT6</td>\n",
       "      <td>NaN</td>\n",
       "      <td>0.00045</td>\n",
       "      <td>C</td>\n",
       "    </tr>\n",
       "  </tbody>\n",
       "</table>\n",
       "</div>"
      ],
      "text/plain": [
       "            Chr          Loc Close genes in Genome Browser   \\\n",
       "rs17416005  1.0   10761758.0                          CASZ1   \n",
       "rs4655048   1.0   22668770.0      RP11-415K20.1|AL591122.20   \n",
       "rs6679026   1.0   78619511.0    RNFT1P2|RP11-472F19.2|GIPC2   \n",
       "rs11577235  1.0  114113339.0    MTND5P20|RP11-473L1.1|MAGI3   \n",
       "rs491313    1.0  114639042.0                           SYT6   \n",
       "\n",
       "           Close genes reported in Law et al., 2015  Weight#  \\\n",
       "rs17416005                                      NaN -0.00930   \n",
       "rs4655048                                       NaN -0.00460   \n",
       "rs6679026                                       NaN -0.01700   \n",
       "rs11577235                                      NaN -0.01400   \n",
       "rs491313                                        NaN  0.00045   \n",
       "\n",
       "           Ref allele for the weight  \n",
       "rs17416005                         A  \n",
       "rs4655048                          T  \n",
       "rs6679026                          T  \n",
       "rs11577235                         T  \n",
       "rs491313                           C  "
      ]
     },
     "execution_count": 11,
     "metadata": {},
     "output_type": "execute_result"
    }
   ],
   "source": [
    "whyWasThisFileHidden.head() #PRS Ref alleles, weights, Positions, etc."
   ]
  },
  {
   "cell_type": "code",
   "execution_count": 12,
   "metadata": {},
   "outputs": [
    {
     "data": {
      "text/plain": [
       "204"
      ]
     },
     "execution_count": 12,
     "metadata": {},
     "output_type": "execute_result"
    }
   ],
   "source": [
    "melanostrumMAF = defaultdict(float)\n",
    "numberSNPs = 0\n",
    "for riskSNP in whyWasThisFileHidden.index:\n",
    "    localCounter = 0\n",
    "    totalSNPsObserved = 0\n",
    "    riskAllele = whyWasThisFileHidden.loc[riskSNP, \"Ref allele for the weight\"]\n",
    "    if riskSNP == \"rs7164220 (R2=0.6 with rs4778138)\": #handle weird indexing issue \n",
    "        riskSNP = \"rs7164220\" \n",
    "        \n",
    "    for genotype in melanostrumDF[riskSNP]:\n",
    "        if type(genotype) == float: #NaNs --> Skip these in calculating MAF\n",
    "            continue\n",
    "        if len(genotype) != 2:\n",
    "            print(\"PROBLEMS!!!!!\")\n",
    "            \n",
    "        #Genotypes are given by a 2 Character string such as 'CG'  \n",
    "        if genotype[0] == riskAllele:\n",
    "            localCounter += 1\n",
    "        if genotype[1] == riskAllele:\n",
    "            localCounter += 1\n",
    "        \n",
    "        totalSNPsObserved += 2 #2 alleles per individual\n",
    "        \n",
    "    melanostrumMAF[riskSNP] = localCounter/totalSNPsObserved\n",
    "    numberSNPs += 1\n",
    "numberSNPs"
   ]
  },
  {
   "cell_type": "code",
   "execution_count": 13,
   "metadata": {},
   "outputs": [
    {
     "data": {
      "text/plain": [
       "[('rs7041168', 0.557753017641597),\n",
       " ('rs6909294', 0.525664868885996),\n",
       " ('rs2092180', 0.5059696092619392),\n",
       " ('rs17823562', 0.5046436863725665),\n",
       " ('rs6974622', 0.4958020326999558),\n",
       " ('rs9961596', 0.4904608788853162),\n",
       " ('rs11686397', 0.487590799031477),\n",
       " ('rs954427', 0.4851865398683248),\n",
       " ('rs9867857', 0.4844615109841043),\n",
       " ('rs6833655', 0.4840145690004047),\n",
       " ('rs6021666', 0.4770840851678095),\n",
       " ('rs1559943', 0.47617253720097946),\n",
       " ('rs10268757', 0.4752224919093851),\n",
       " ('rs13338146', 0.46770096171293774),\n",
       " ('rs380286', 0.46633327379889267),\n",
       " ('rs2111398', 0.4606909430438842),\n",
       " ('rs7852450', 0.4597160766961652),\n",
       " ('rs4731207', 0.45938808960116556),\n",
       " ('rs4457828', 0.45761282159426403),\n",
       " ('rs661356', 0.44793713163064836),\n",
       " ('rs34680719', 0.44608286593088475),\n",
       " ('rs6750047', 0.4389148401006108),\n",
       " ('rs12919293', 0.43241517694272164),\n",
       " ('rs1554519', 0.4276656545811752),\n",
       " ('rs4851781', 0.42641209228321403),\n",
       " ('rs1887975', 0.42627149652396634),\n",
       " ('rs1464510', 0.4248080014288266),\n",
       " ('rs498136', 0.42294364399051615),\n",
       " ('rs2003574', 0.41816330309202),\n",
       " ('rs7733911', 0.41603398409255243),\n",
       " ('rs2025016', 0.4140918021075192),\n",
       " ('rs408825', 0.4122983870967742),\n",
       " ('rs72701304', 0.41171187354050653),\n",
       " ('rs61231668', 0.4092961987203613),\n",
       " ('rs10883548', 0.4006340579710145),\n",
       " ('rs1893948', 0.398999821396678),\n",
       " ('rs6088092', 0.3977990257983042),\n",
       " ('rs7571090', 0.39771088680605626),\n",
       " ('rs12533992', 0.39609053497942387),\n",
       " ('rs12410869', 0.39417753170208963),\n",
       " ('rs1950843', 0.39412959202510617),\n",
       " ('rs10234834', 0.39051616360064295),\n",
       " ('rs8015191', 0.38976377952755903),\n",
       " ('rs10900468', 0.3860182370820669),\n",
       " ('rs163798', 0.3777860326894502),\n",
       " ('rs11129324', 0.3761022134245096),\n",
       " ('rs10145395', 0.37602306547619047),\n",
       " ('rs34466956', 0.37547892720306514),\n",
       " ('rs1636744', 0.3690837649580282),\n",
       " ('rs3794207', 0.36658331844972314),\n",
       " ('rs11726556', 0.3636853448275862),\n",
       " ('rs1542096', 0.35890337560278623),\n",
       " ('rs10954241', 0.3576086956521739),\n",
       " ('rs962298', 0.3552462918879326),\n",
       " ('rs35158985', 0.35054503729202524),\n",
       " ('rs2178905', 0.3490811212177464),\n",
       " ('rs10744613', 0.3455974281121629),\n",
       " ('rs245878', 0.34393545994065283),\n",
       " ('rs7030335', 0.3413542249580302),\n",
       " ('rs11980271', 0.3278953029759771),\n",
       " ('rs10840515', 0.3239922397068334),\n",
       " ('rs3780269', 0.3226460291136908),\n",
       " ('rs7321272', 0.3225095785440613),\n",
       " ('rs4751640', 0.32134996331621424),\n",
       " ('rs1858550', 0.3186905428091774),\n",
       " ('rs6134759', 0.3145565092989986),\n",
       " ('rs1532794', 0.313844714686623),\n",
       " ('rs28396864', 0.31317591925018023),\n",
       " ('rs6914598', 0.30762286860581745),\n",
       " ('rs7582362', 0.30664517284614007),\n",
       " ('rs6500698', 0.3058589870903674),\n",
       " ('rs4951392', 0.30521972749952025),\n",
       " ('rs17416005', 0.30468262226847037),\n",
       " ('rs4865588', 0.3036709590620796),\n",
       " ('rs2703126', 0.3031751758975284),\n",
       " ('rs10853552', 0.29957805907172996),\n",
       " ('rs6103072', 0.29835684943739954),\n",
       " ('rs10739221', 0.29207920792079206),\n",
       " ('rs7611535', 0.2905876049294517),\n",
       " ('rs11700623', 0.2894844517184943),\n",
       " ('rs62127650', 0.28842333393534403),\n",
       " ('rs113003289', 0.26675163874726876),\n",
       " ('rs11695150', 0.26642134314627414),\n",
       " ('rs4329253', 0.26537689359372146),\n",
       " ('rs6839753', 0.2653404592240697),\n",
       " ('rs61973880', 0.260316236020054),\n",
       " ('rs7952606', 0.2577755905511811),\n",
       " ('rs4689599', 0.25317020896588677),\n",
       " ('rs12696304', 0.2529064568055804),\n",
       " ('rs12606278', 0.2524505093215453),\n",
       " ('rs1041981', 0.25183068405072334),\n",
       " ('rs9581779', 0.2479574387231617),\n",
       " ('rs1510351', 0.24759920275412212),\n",
       " ('rs3752750', 0.24495445615288444),\n",
       " ('rs4770890', 0.2415783497350492),\n",
       " ('rs462464', 0.23763171994999108),\n",
       " ('rs161394', 0.23691730666190391),\n",
       " ('rs71372800', 0.23563108649990452),\n",
       " ('rs1393350', 0.2337917485265226),\n",
       " ('rs72930448', 0.2328181818181818),\n",
       " ('rs6546607', 0.23183799491463858),\n",
       " ('rs7164220', 0.22000399281293673),\n",
       " ('rs13353528', 0.21974697469746976),\n",
       " ('rs11710182', 0.21855744835085175),\n",
       " ('rs281509', 0.2170142092637018),\n",
       " ('rs6895132', 0.20923379174852652),\n",
       " ('rs6878548', 0.20853298931072614),\n",
       " ('rs4763456', 0.20259552992069213),\n",
       " ('rs7127472', 0.2011870650839132),\n",
       " ('rs1285874', 0.19880812817506838),\n",
       " ('rs187989493', 0.1985085897677931),\n",
       " ('rs17244263', 0.1955104996379435),\n",
       " ('rs3843706', 0.19447652040030794),\n",
       " ('rs9899469', 0.18443830570902395),\n",
       " ('rs9512474', 0.17899299151604575),\n",
       " ('rs12594938', 0.17244150741203787),\n",
       " ('rs11779437', 0.17222908941079523),\n",
       " ('rs77283072', 0.17124887690925428),\n",
       " ('rs6431303', 0.16953762466001812),\n",
       " ('rs11704050', 0.16768802228412255),\n",
       " ('rs12596638', 0.16351744186046513),\n",
       " ('rs56035227', 0.1589464123524069),\n",
       " ('rs4655048', 0.15703095859753824),\n",
       " ('rs6994183', 0.1540408606038691),\n",
       " ('rs13171367', 0.15163422039649938),\n",
       " ('rs491313', 0.15128986026513794),\n",
       " ('rs16904141', 0.14961945424169296),\n",
       " ('rs9555417', 0.1474243515850144),\n",
       " ('rs4986170', 0.14689951438177065),\n",
       " ('rs115045413', 0.14616141732283464),\n",
       " ('rs28688825', 0.1449720166094963),\n",
       " ('rs73075633', 0.14141689373297003),\n",
       " ('rs2125834', 0.13619974761132145),\n",
       " ('rs11738706', 0.13368458653330953),\n",
       " ('rs11754283', 0.13363279056709715),\n",
       " ('rs11646910', 0.13335755813953487),\n",
       " ('rs59112743', 0.13213296398891966),\n",
       " ('rs112987642', 0.13152258566978192),\n",
       " ('rs650681', 0.13091623504197178),\n",
       " ('rs73008229', 0.12852208689329214),\n",
       " ('rs56026789', 0.12740860795966144),\n",
       " ('rs37911', 0.12418655097613883),\n",
       " ('rs28712263', 0.12237207457358192),\n",
       " ('rs475667', 0.11939632077156635),\n",
       " ('rs42392', 0.11927102129195237),\n",
       " ('rs8115958', 0.11805691854759569),\n",
       " ('rs12045702', 0.11662817551963048),\n",
       " ('rs17715343', 0.11344043887147336),\n",
       " ('rs2995264', 0.10652642934196332),\n",
       " ('rs9787562', 0.10323272012859439),\n",
       " ('rs149453822', 0.09985657941914665),\n",
       " ('rs149220960', 0.09785005512679162),\n",
       " ('rs6679026', 0.09631036353771026),\n",
       " ('rs3794638', 0.0962339137017411),\n",
       " ('rs4047462', 0.09582068226469012),\n",
       " ('rs73129882', 0.09431939978563773),\n",
       " ('rs6700589', 0.09386733416770963),\n",
       " ('rs4366466', 0.09272956882554573),\n",
       " ('rs75691080', 0.09001150306748466),\n",
       " ('rs12069618', 0.08619763694951665),\n",
       " ('rs6801238', 0.08537238792641542),\n",
       " ('rs12595968', 0.07882352941176471),\n",
       " ('rs6070243', 0.07821782178217822),\n",
       " ('rs1851520', 0.0775179856115108),\n",
       " ('rs115299550', 0.07744768310911809),\n",
       " ('rs59907199', 0.07698497854077253),\n",
       " ('rs79306900', 0.07098709325577168),\n",
       " ('rs113707970', 0.07092198581560284),\n",
       " ('rs12427405', 0.06843391614965219),\n",
       " ('rs76364787', 0.06614856316645581),\n",
       " ('rs17071142', 0.0645392613840086),\n",
       " ('rs62444470', 0.0642638863922344),\n",
       " ('rs250417', 0.06067657061034545),\n",
       " ('rs6938302', 0.05993056824410744),\n",
       " ('rs12209946', 0.05983211287729952),\n",
       " ('rs74456670', 0.05331224413844436),\n",
       " ('rs9392778', 0.05262175779063258),\n",
       " ('rs6088372', 0.052059925093632956),\n",
       " ('rs3773576', 0.05199637023593466),\n",
       " ('rs7632095', 0.048479427549194994),\n",
       " ('rs11577235', 0.048427672955974846),\n",
       " ('rs17132024', 0.048369759942672876),\n",
       " ('rs11648879', 0.04739507959479016),\n",
       " ('rs2290419', 0.04733455882352941),\n",
       " ('rs75570604', 0.04466523451485858),\n",
       " ('rs117353195', 0.039691392452128646),\n",
       " ('rs113991941', 0.03812343021169717),\n",
       " ('rs72767211', 0.036400219498811046),\n",
       " ('rs1805008', 0.03527415609930345),\n",
       " ('rs75724758', 0.0345301337241253),\n",
       " ('rs17592036', 0.03442978492680282),\n",
       " ('rs78161156', 0.033067584707374524),\n",
       " ('rs118021671', 0.03068657803678747),\n",
       " ('rs139410052', 0.028963414634146343),\n",
       " ('rs78865622', 0.023686092241687523),\n",
       " ('rs185637766', 0.023555956678700363),\n",
       " ('rs111461999', 0.022914428929466525),\n",
       " ('rs139791480', 0.01955706376138596),\n",
       " ('rs4077700', 0.018306840507233434),\n",
       " ('rs114585466', 0.018227756722613248),\n",
       " ('rs190036801', 0.018148820326678767),\n",
       " ('rs75286671', 0.016799854703959317),\n",
       " ('rs146305655', 0.013245629843214994),\n",
       " ('rs72909003', 0.0109830752610731)]"
      ]
     },
     "execution_count": 13,
     "metadata": {},
     "output_type": "execute_result"
    }
   ],
   "source": [
    "sorted(melanostrumMAF.items(), key = lambda x: x[1], reverse = True)"
   ]
  },
  {
   "cell_type": "markdown",
   "metadata": {},
   "source": [
    "### 2.2 TCGA:"
   ]
  },
  {
   "cell_type": "code",
   "execution_count": 14,
   "metadata": {},
   "outputs": [
    {
     "data": {
      "text/html": [
       "<div>\n",
       "<style scoped>\n",
       "    .dataframe tbody tr th:only-of-type {\n",
       "        vertical-align: middle;\n",
       "    }\n",
       "\n",
       "    .dataframe tbody tr th {\n",
       "        vertical-align: top;\n",
       "    }\n",
       "\n",
       "    .dataframe thead th {\n",
       "        text-align: right;\n",
       "    }\n",
       "</style>\n",
       "<table border=\"1\" class=\"dataframe\">\n",
       "  <thead>\n",
       "    <tr style=\"text-align: right;\">\n",
       "      <th></th>\n",
       "      <th>Chr</th>\n",
       "      <th>Loc</th>\n",
       "      <th>Close genes in Genome Browser</th>\n",
       "      <th>Close genes reported in Law et al., 2015</th>\n",
       "      <th>Weight#</th>\n",
       "      <th>Ref allele for the weight</th>\n",
       "    </tr>\n",
       "  </thead>\n",
       "  <tbody>\n",
       "    <tr>\n",
       "      <th>rs17416005</th>\n",
       "      <td>1.0</td>\n",
       "      <td>10761758.0</td>\n",
       "      <td>CASZ1</td>\n",
       "      <td>NaN</td>\n",
       "      <td>-0.00930</td>\n",
       "      <td>A</td>\n",
       "    </tr>\n",
       "    <tr>\n",
       "      <th>rs4655048</th>\n",
       "      <td>1.0</td>\n",
       "      <td>22668770.0</td>\n",
       "      <td>RP11-415K20.1|AL591122.20</td>\n",
       "      <td>NaN</td>\n",
       "      <td>-0.00460</td>\n",
       "      <td>T</td>\n",
       "    </tr>\n",
       "    <tr>\n",
       "      <th>rs6679026</th>\n",
       "      <td>1.0</td>\n",
       "      <td>78619511.0</td>\n",
       "      <td>RNFT1P2|RP11-472F19.2|GIPC2</td>\n",
       "      <td>NaN</td>\n",
       "      <td>-0.01700</td>\n",
       "      <td>T</td>\n",
       "    </tr>\n",
       "    <tr>\n",
       "      <th>rs11577235</th>\n",
       "      <td>1.0</td>\n",
       "      <td>114113339.0</td>\n",
       "      <td>MTND5P20|RP11-473L1.1|MAGI3</td>\n",
       "      <td>NaN</td>\n",
       "      <td>-0.01400</td>\n",
       "      <td>T</td>\n",
       "    </tr>\n",
       "    <tr>\n",
       "      <th>rs491313</th>\n",
       "      <td>1.0</td>\n",
       "      <td>114639042.0</td>\n",
       "      <td>SYT6</td>\n",
       "      <td>NaN</td>\n",
       "      <td>0.00045</td>\n",
       "      <td>C</td>\n",
       "    </tr>\n",
       "  </tbody>\n",
       "</table>\n",
       "</div>"
      ],
      "text/plain": [
       "            Chr          Loc Close genes in Genome Browser   \\\n",
       "rs17416005  1.0   10761758.0                          CASZ1   \n",
       "rs4655048   1.0   22668770.0      RP11-415K20.1|AL591122.20   \n",
       "rs6679026   1.0   78619511.0    RNFT1P2|RP11-472F19.2|GIPC2   \n",
       "rs11577235  1.0  114113339.0    MTND5P20|RP11-473L1.1|MAGI3   \n",
       "rs491313    1.0  114639042.0                           SYT6   \n",
       "\n",
       "           Close genes reported in Law et al., 2015  Weight#  \\\n",
       "rs17416005                                      NaN -0.00930   \n",
       "rs4655048                                       NaN -0.00460   \n",
       "rs6679026                                       NaN -0.01700   \n",
       "rs11577235                                      NaN -0.01400   \n",
       "rs491313                                        NaN  0.00045   \n",
       "\n",
       "           Ref allele for the weight  \n",
       "rs17416005                         A  \n",
       "rs4655048                          T  \n",
       "rs6679026                          T  \n",
       "rs11577235                         T  \n",
       "rs491313                           C  "
      ]
     },
     "execution_count": 14,
     "metadata": {},
     "output_type": "execute_result"
    }
   ],
   "source": [
    "whyWasThisFileHidden.head()"
   ]
  },
  {
   "cell_type": "code",
   "execution_count": 15,
   "metadata": {},
   "outputs": [],
   "source": [
    "whichIsWhich = defaultdict(str) #dictionary mapping LOC to ALT+REF alleles\n",
    "indexesToKeep = set()\n",
    "\n",
    "for i,row in howRiskyAreYou.iterrows():\n",
    "    if row[\"POS\"] in whichIsWhich: #should handle the incorrect duplicate issue for one SNP (188112554) on chr3\n",
    "        continue \n",
    "    whichIsWhich[row[\"POS\"]] = row[\"ALT\"] + row[\"REF\"]\n",
    "    indexesToKeep.add(i) \n",
    "\n",
    "locToRSID = dict(zip(whyWasThisFileHidden.Loc, whyWasThisFileHidden.index))"
   ]
  },
  {
   "cell_type": "code",
   "execution_count": 16,
   "metadata": {},
   "outputs": [
    {
     "name": "stdout",
     "output_type": "stream",
     "text": [
      "2 SNPs need to be flipped: {42988088, 125073958}\n"
     ]
    }
   ],
   "source": [
    "swapCounts = set() #a way to get which SNP counts need to be flipped when the alt allele != the PRS SNP\n",
    "for k,v in whichIsWhich.items():\n",
    "    shiftIt = (k-1) in locToRSID\n",
    "    #make sure no weird key (SNP loc) issues\n",
    "    if ((k-1) not in locToRSID) and (k not in locToRSID):\n",
    "        print(\"KEY ISSUES!!!\")\n",
    "        break\n",
    "        \n",
    "    else:\n",
    "        #check to make sure the alt allele is the PRS allele - if not keep track of which ones need to be swapped (should be 2 of them)\n",
    "        if (v[0] != whyWasThisFileHidden.loc[locToRSID.get(k - int(shiftIt)), \"Ref allele for the weight\"]):\n",
    "            if (v[1] == whyWasThisFileHidden.loc[locToRSID.get(k - int(shiftIt)), \"Ref allele for the weight\"]):\n",
    "                swapCounts.add(k)\n",
    "            else:\n",
    "                print(\"WEIRD PROBLEM... neither SNP matches!!!\")\n",
    "                break\n",
    "                \n",
    "print(\"{} SNPs need to be flipped: {}\".format(len(swapCounts), swapCounts))"
   ]
  },
  {
   "cell_type": "code",
   "execution_count": 17,
   "metadata": {},
   "outputs": [],
   "source": [
    "#function to convert a cell to the number of alternate alleles\n",
    "def Convert(plinkymonGo):\n",
    "    numAltAlleles = 0\n",
    "    for alleles in plinkymonGo.split(\"/\"):\n",
    "        numAltAlleles += int(alleles)\n",
    "    return numAltAlleles"
   ]
  },
  {
   "cell_type": "code",
   "execution_count": 18,
   "metadata": {},
   "outputs": [
    {
     "data": {
      "text/plain": [
       "2"
      ]
     },
     "execution_count": 18,
     "metadata": {},
     "output_type": "execute_result"
    }
   ],
   "source": [
    "patientToSNPs = defaultdict(lambda: defaultdict(int))\n",
    "hasBeenFlipped = 0\n",
    "for i,row in howRiskyAreYou.iterrows():\n",
    "    localFlipTrack = False\n",
    "    for j in howRiskyAreYou.columns[9:]:\n",
    "        if row[\"POS\"] in swapCounts:\n",
    "            patientToSNPs[j][row[\"POS\"]] = 2 - Convert(row[j]) #done because need a consistent MAF according to the Risk allele\n",
    "            localFlipTrack = True\n",
    "        else: \n",
    "            patientToSNPs[j][row[\"POS\"]] = Convert(row[j])\n",
    "            \n",
    "    hasBeenFlipped += int(localFlipTrack)\n",
    "hasBeenFlipped"
   ]
  },
  {
   "cell_type": "code",
   "execution_count": 19,
   "metadata": {},
   "outputs": [],
   "source": [
    "tcgaMAF = defaultdict(float)\n",
    "for k,v in patientToSNPs.items():\n",
    "    for location, snpCount in v.items():\n",
    "        shiftIt = (location-1) in locToRSID\n",
    "        if ((location-1) not in locToRSID) and (location not in locToRSID):\n",
    "            raise ValueError(\"KEY ISSUES!!!\")\n",
    "        \n",
    "        else:\n",
    "            #for each patient in TCGA add the number of SNPs of Risk allele divided by 2*total number of tcga individuals\n",
    "            # --> x2 comes from 2 alleles per individual\n",
    "            \n",
    "            tcgaMAF[locToRSID.get(location - int(shiftIt))] += snpCount/(2*len(patientToSNPs))\n",
    "\n",
    "tcgaMAF[\"rs7164220\"] = tcgaMAF[\"rs7164220 (R2=0.6 with rs4778138)\"]\n",
    "del tcgaMAF[\"rs7164220 (R2=0.6 with rs4778138)\"]\n"
   ]
  },
  {
   "cell_type": "code",
   "execution_count": 20,
   "metadata": {},
   "outputs": [
    {
     "data": {
      "text/plain": [
       "[('rs187989493', 0.001141552511415525),\n",
       " ('rs1464510', 0.003424657534246575),\n",
       " ('rs75286671', 0.010273972602739725),\n",
       " ('rs250417', 0.010273972602739725),\n",
       " ('rs139791480', 0.012557077625570776),\n",
       " ('rs72909003', 0.01598173515981735),\n",
       " ('rs190036801', 0.017123287671232876),\n",
       " ('rs114585466', 0.02054794520547945),\n",
       " ('rs118021671', 0.021689497716894976),\n",
       " ('rs139410052', 0.0228310502283105),\n",
       " ('rs75724758', 0.023972602739726026),\n",
       " ('rs146305655', 0.02511415525114155),\n",
       " ('rs78161156', 0.02511415525114155),\n",
       " ('rs4077700', 0.0273972602739726),\n",
       " ('rs185637766', 0.0273972602739726),\n",
       " ('rs17132024', 0.0319634703196347),\n",
       " ('rs78865622', 0.0365296803652968),\n",
       " ('rs72767211', 0.03767123287671233),\n",
       " ('rs12427405', 0.04223744292237443),\n",
       " ('rs2290419', 0.04337899543378995),\n",
       " ('rs117353195', 0.04452054794520548),\n",
       " ('rs6938302', 0.04794520547945205),\n",
       " ('rs12209946', 0.04794520547945205),\n",
       " ('rs62444470', 0.05251141552511415),\n",
       " ('rs12595968', 0.05365296803652968),\n",
       " ('rs113991941', 0.05821917808219178),\n",
       " ('rs12069618', 0.0593607305936073),\n",
       " ('rs7632095', 0.0593607305936073),\n",
       " ('rs149453822', 0.06050228310502283),\n",
       " ('rs115299550', 0.06164383561643835),\n",
       " ('rs11577235', 0.0639269406392694),\n",
       " ('rs79306900', 0.0639269406392694),\n",
       " ('rs3773576', 0.06506849315068493),\n",
       " ('rs4047462', 0.06621004566210045),\n",
       " ('rs475667', 0.06735159817351598),\n",
       " ('rs75691080', 0.0730593607305936),\n",
       " ('rs17715343', 0.07648401826484018),\n",
       " ('rs59907199', 0.07648401826484018),\n",
       " ('rs74456670', 0.0776255707762557),\n",
       " ('rs650681', 0.07876712328767123),\n",
       " ('rs76364787', 0.08105022831050228),\n",
       " ('rs17071142', 0.08333333333333333),\n",
       " ('rs7164220', 0.08447488584474885),\n",
       " ('rs6801238', 0.0867579908675799),\n",
       " ('rs1851520', 0.0867579908675799),\n",
       " ('rs73129882', 0.08904109589041095),\n",
       " ('rs11648879', 0.091324200913242),\n",
       " ('rs75570604', 0.09474885844748858),\n",
       " ('rs149220960', 0.09817351598173515),\n",
       " ('rs1805008', 0.1004566210045662),\n",
       " ('rs6700589', 0.10273972602739725),\n",
       " ('rs113707970', 0.10273972602739725),\n",
       " ('rs11738706', 0.10273972602739725),\n",
       " ('rs4366466', 0.1050228310502283),\n",
       " ('rs11646910', 0.10616438356164383),\n",
       " ('rs9787562', 0.10730593607305935),\n",
       " ('rs2995264', 0.10844748858447488),\n",
       " ('rs28688825', 0.1095890410958904),\n",
       " ('rs6679026', 0.11986301369863013),\n",
       " ('rs9555417', 0.11986301369863013),\n",
       " ('rs3794638', 0.12100456621004566),\n",
       " ('rs12594938', 0.12557077625570776),\n",
       " ('rs6070243', 0.1267123287671233),\n",
       " ('rs6994183', 0.12899543378995432),\n",
       " ('rs6088372', 0.12899543378995432),\n",
       " ('rs2125834', 0.13013698630136983),\n",
       " ('rs56026789', 0.13013698630136986),\n",
       " ('rs42392', 0.1369863013698629),\n",
       " ('rs56035227', 0.13812785388127846),\n",
       " ('rs37911', 0.14041095890410948),\n",
       " ('rs73008229', 0.14383561643835596),\n",
       " ('rs11754283', 0.14383561643835602),\n",
       " ('rs73075633', 0.148401826484018),\n",
       " ('rs3843706', 0.14954337899543363),\n",
       " ('rs9512474', 0.15525114155251107),\n",
       " ('rs6431303', 0.15639269406392664),\n",
       " ('rs77283072', 0.1563926940639267),\n",
       " ('rs28712263', 0.16095890410958874),\n",
       " ('rs59112743', 0.16780821917808175),\n",
       " ('rs6878548', 0.16894977168949732),\n",
       " ('rs16904141', 0.16894977168949732),\n",
       " ('rs4986170', 0.1712328767123284),\n",
       " ('rs491313', 0.17351598173515942),\n",
       " ('rs12045702', 0.1769406392694059),\n",
       " ('rs17244263', 0.18607305936073),\n",
       " ('rs13171367', 0.1894977168949767),\n",
       " ('rs8115958', 0.19063926940639214),\n",
       " ('rs11704050', 0.19292237442922322),\n",
       " ('rs4763456', 0.19748858447488526),\n",
       " ('rs12596638', 0.19863013698630066),\n",
       " ('rs462464', 0.20091324200913177),\n",
       " ('rs7952606', 0.20662100456620935),\n",
       " ('rs6895132', 0.21004566210045594),\n",
       " ('rs1285874', 0.21347031963470237),\n",
       " ('rs9581779', 0.21461187214611793),\n",
       " ('rs281509', 0.2157534246575336),\n",
       " ('rs4689599', 0.21689497716894923),\n",
       " ('rs72930448', 0.21803652968036452),\n",
       " ('rs7127472', 0.21803652968036452),\n",
       " ('rs61973880', 0.21803652968036463),\n",
       " ('rs13353528', 0.2214611872146111),\n",
       " ('rs4655048', 0.22488584474885753),\n",
       " ('rs161394', 0.24086757990867486),\n",
       " ('rs9899469', 0.24315068493150593),\n",
       " ('rs4329253', 0.24429223744292156),\n",
       " ('rs10739221', 0.2477168949771682),\n",
       " ('rs12696304', 0.2499999999999991),\n",
       " ('rs4951392', 0.24999999999999914),\n",
       " ('rs1510351', 0.2579908675799077),\n",
       " ('rs7611535', 0.2671232876712319),\n",
       " ('rs10853552', 0.26940639269406286),\n",
       " ('rs1393350', 0.27853881278538695),\n",
       " ('rs6546607', 0.28310502283104905),\n",
       " ('rs3752750', 0.2842465753424647),\n",
       " ('rs113003289', 0.28767123287671126),\n",
       " ('rs17416005', 0.2888127853881267),\n",
       " ('rs1858550', 0.29109589041095774),\n",
       " ('rs10744613', 0.29109589041095774),\n",
       " ('rs10954241', 0.2922374429223732),\n",
       " ('rs962298', 0.29223744292237347),\n",
       " ('rs2703126', 0.2922374429223736),\n",
       " ('rs11710182', 0.29337899543378876),\n",
       " ('rs6914598', 0.29337899543378904),\n",
       " ('rs12606278', 0.2990867579908665),\n",
       " ('rs7582362', 0.3013698630136975),\n",
       " ('rs10234834', 0.30365296803652875),\n",
       " ('rs4751640', 0.304794520547944),\n",
       " ('rs11695150', 0.31392694063926824),\n",
       " ('rs1542096', 0.3139269406392683),\n",
       " ('rs1532794', 0.31621004566209926),\n",
       " ('rs4770890', 0.3162100456620993),\n",
       " ('rs7321272', 0.3162100456620994),\n",
       " ('rs6500698', 0.31963470319634585),\n",
       " ('rs4865588', 0.320776255707761),\n",
       " ('rs62127650', 0.32648401826483886),\n",
       " ('rs72701304', 0.32990867579908545),\n",
       " ('rs163798', 0.33447488584474727),\n",
       " ('rs1041981', 0.3390410958904094),\n",
       " ('rs35158985', 0.3413242009132406),\n",
       " ('rs6103072', 0.34360730593607125),\n",
       " ('rs3794207', 0.34589041095890233),\n",
       " ('rs3780269', 0.35045662100456465),\n",
       " ('rs7030335', 0.3515981735159803),\n",
       " ('rs11980271', 0.3538812785388113),\n",
       " ('rs11726556', 0.35388127853881146),\n",
       " ('rs12410869', 0.3584474885844734),\n",
       " ('rs7571090', 0.3664383561643821),\n",
       " ('rs28396864', 0.3675799086757971),\n",
       " ('rs12919293', 0.37214611872145936),\n",
       " ('rs498136', 0.3812785388127836),\n",
       " ('rs1893948', 0.38242009132419924),\n",
       " ('rs245878', 0.38584474885844583),\n",
       " ('rs6134759', 0.38584474885844605),\n",
       " ('rs4851781', 0.3915525114155235),\n",
       " ('rs7733911', 0.3926940639269389),\n",
       " ('rs4457828', 0.3949771689497699),\n",
       " ('rs1887975', 0.3949771689497701),\n",
       " ('rs2003574', 0.39726027397260083),\n",
       " ('rs10883548', 0.39726027397260094),\n",
       " ('rs2025016', 0.39840182648401645),\n",
       " ('rs1950843', 0.40182648401826265),\n",
       " ('rs1636744', 0.40525114155250985),\n",
       " ('rs10840515', 0.408675799086756),\n",
       " ('rs34680719', 0.4086757990867562),\n",
       " ('rs6088092', 0.41095890410958713),\n",
       " ('rs13338146', 0.41324200913241815),\n",
       " ('rs11129324', 0.41438356164383383),\n",
       " ('rs10900468', 0.42009132420091155),\n",
       " ('rs8015191', 0.4246575342465737),\n",
       " ('rs7041168', 0.42922374429223537),\n",
       " ('rs1559943', 0.4349315068493129),\n",
       " ('rs6974622', 0.43493150684931337),\n",
       " ('rs6021666', 0.44063926940639103),\n",
       " ('rs2092180', 0.4452054794520527),\n",
       " ('rs1554519', 0.44520547945205313),\n",
       " ('rs2111398', 0.44977168949771473),\n",
       " ('rs9961596', 0.45091324200913063),\n",
       " ('rs10145395', 0.45433789954337717),\n",
       " ('rs661356', 0.4600456621004544),\n",
       " ('rs11686397', 0.4623287671232855),\n",
       " ('rs9867857', 0.4657534246575328),\n",
       " ('rs4731207', 0.4668949771689479),\n",
       " ('rs34466956', 0.4714611872146098),\n",
       " ('rs380286', 0.4760273972602717),\n",
       " ('rs10268757', 0.4805936073059339),\n",
       " ('rs7852450', 0.48744292237442716),\n",
       " ('rs954427', 0.4920091324200892),\n",
       " ('rs6750047', 0.49543378995433573),\n",
       " ('rs17823562', 0.5057077625570751),\n",
       " ('rs6909294', 0.5308219178082176)]"
      ]
     },
     "execution_count": 20,
     "metadata": {},
     "output_type": "execute_result"
    }
   ],
   "source": [
    "sorted(tcgaMAF.items(), key = lambda x: x[1])"
   ]
  },
  {
   "cell_type": "markdown",
   "metadata": {},
   "source": [
    "### 2.3 UKBB:"
   ]
  },
  {
   "cell_type": "code",
   "execution_count": 21,
   "metadata": {},
   "outputs": [
    {
     "data": {
      "text/plain": [
       "(238, 203)"
      ]
     },
     "execution_count": 21,
     "metadata": {},
     "output_type": "execute_result"
    }
   ],
   "source": [
    "filteredUKBB.shape"
   ]
  },
  {
   "cell_type": "code",
   "execution_count": 22,
   "metadata": {},
   "outputs": [
    {
     "name": "stdout",
     "output_type": "stream",
     "text": [
      "16\n",
      "Number of SNP locs off by 1 is 186\n"
     ]
    }
   ],
   "source": [
    "rsid = 0\n",
    "ukbbLocsOffByOne = set()\n",
    "for col in filteredUKBB.columns:\n",
    "    if col == \"ids\": \n",
    "        continue\n",
    "    try:\n",
    "        snpLoc = col.split(\":\")[1].split(\"_\")[0]\n",
    "        if (int(snpLoc) not in set(whyWasThisFileHidden.Loc)) and (int(snpLoc) - 1 in set(whyWasThisFileHidden.Loc)):\n",
    "            #print(snpLoc)\n",
    "            ukbbLocsOffByOne.add(snpLoc)\n",
    "            #print(col.split(\":\")[1].split(\"_\")[1])\n",
    "        elif (int(snpLoc) in set(whyWasThisFileHidden.Loc)):\n",
    "            print(snpLoc)\n",
    "        \n",
    "        else:\n",
    "            raise ValueError(\"SNP Indexing Error\")\n",
    "    except:\n",
    "        rsid += 1\n",
    "        #print(col)\n",
    "        \n",
    "print(rsid) #Need to check that non of the RSIDs collide with the Loc ones\n",
    "print(\"Number of SNP locs off by 1 is {}\".format(len(ukbbLocsOffByOne))) #All Loc based SNPs are off by 1"
   ]
  },
  {
   "cell_type": "code",
   "execution_count": 23,
   "metadata": {},
   "outputs": [
    {
     "name": "stdout",
     "output_type": "stream",
     "text": [
      "If all SNPs are unique, then in total there are 202 SNPs\n",
      "Number RSIDs: 16\n",
      "Number of unique SNPs after sanity checking is: 201\n"
     ]
    },
    {
     "data": {
      "text/plain": [
       "{'3:188112554_T'}"
      ]
     },
     "execution_count": 23,
     "metadata": {},
     "output_type": "execute_result"
    }
   ],
   "source": [
    "print(\"If all SNPs are unique, then in total there are {} SNPs\".format(filteredUKBB.shape[1] - 1))\n",
    "uniqueIDs = set()\n",
    "exceptChecks = 0\n",
    "duplicates = set()\n",
    "for col in filteredUKBB.columns:\n",
    "    if col == \"ids\": \n",
    "        continue\n",
    "    try:\n",
    "        #print(col)\n",
    "        snpLoc = col.split(\":\")[1].split(\"_\")[0]\n",
    "        if snpLoc in ukbbLocsOffByOne:\n",
    "            snpLoc = int(snpLoc) - 1\n",
    "        else:\n",
    "            snpLoc = int(snpLoc)\n",
    "            \n",
    "        #sanity check to make sure it exists/only one entry\n",
    "        if whyWasThisFileHidden[whyWasThisFileHidden[\"Loc\"] == snpLoc].shape[0] != 1: \n",
    "            print(\"EEEEEEEEEEEE\")\n",
    "            break\n",
    "        \n",
    "        if snpLoc in uniqueIDs:\n",
    "            duplicates.add(col)\n",
    "        else:\n",
    "            uniqueIDs.add(snpLoc)\n",
    "    except:\n",
    "        #print(col)\n",
    "        rsid = col.split(\"_\")[0]\n",
    "        if rsid == \"rs7164220\":\n",
    "            rsid = \"rs7164220 (R2=0.6 with rs4778138)\"\n",
    "        snpLoc = whyWasThisFileHidden.loc[rsid, \"Loc\"]\n",
    "        if snpLoc in uniqueIDs:\n",
    "            duplicates.add(col)\n",
    "        else:\n",
    "            uniqueIDs.add(snpLoc)\n",
    "            \n",
    "        uniqueIDs.add(snpLoc)\n",
    "        exceptChecks += 1\n",
    "        \n",
    "print(\"Number RSIDs: {}\".format(exceptChecks))\n",
    "print(\"Number of unique SNPs after sanity checking is: {}\".format(len(uniqueIDs)))\n",
    "duplicates"
   ]
  },
  {
   "cell_type": "code",
   "execution_count": 24,
   "metadata": {},
   "outputs": [
    {
     "name": "stdout",
     "output_type": "stream",
     "text": [
      "Skipping col: ids\n",
      "Skipping col: 3:188112554_T\n",
      "Need to flip 47 SNPs for the UKBB... Calculating MAF now \n",
      "\n",
      "['10:73455308_C', '10:105668843_A', '10:119572168_C', '11:6777124_T', '11:10904067_A', '11:69367118_C', '12:3554821_A', '12:17274672_C', '13:23551652_A', '13:27476285_A', '14:94597126_T', '15:24110776_C', 'rs7164220_A', '16:88096203_T', '16:89356701_G', '17:43207858_A', '18:860614_T', '18:42988088_A', '18:45709553_A', '19:3353622_T', '1:162628146_G', '1:204484617_G', '1:205163057_G', 'rs650681_C', '1:236298158_C', 'rs6088092_T', '20:35012486_G', '20:50677206_T', '20:57577935_G', '21:42743496_T', '2:38276549_G', '2:106125082_C', '2:202176294_G', '2:235749373_C', '3:28718712_A', '3:69657736_G', '4:72922675_T', '4:77204500_T', '5:33952378_C', 'rs4865588_A', '6:6405068_C', '6:7115533_A', '8:140029759_A', '9:244457_A', '9:12588950_T', 'rs10739221_C', '9:110698716_T']\n",
      "\n",
      "\n",
      "{'rs650681_C', '19:3353622_T', '2:106125082_C', '2:202176294_G', '18:860614_T', '2:235749373_C', '20:35012486_G', 'rs4865588_A', '5:33952378_C', '1:205163057_G', '8:140029759_A', '12:17274672_C', '15:24110776_C', '1:162628146_G', '9:110698716_T', '14:94597126_T', 'rs10739221_C', '11:6777124_T', '10:105668843_A', '11:69367118_C', '3:28718712_A', '16:89356701_G', '1:204484617_G', 'rs6088092_T', '2:38276549_G', '6:7115533_A', '21:42743496_T', '10:73455308_C', '11:10904067_A', '18:42988088_A', '3:69657736_G', '20:50677206_T', '12:3554821_A', '13:23551652_A', '4:72922675_T', '9:244457_A', '17:43207858_A', '18:45709553_A', '13:27476285_A', '6:6405068_C', 'rs7164220_A', '20:57577935_G', '10:119572168_C', '1:236298158_C', '4:77204500_T', '16:88096203_T', '9:12588950_T'}\n",
      "True\n"
     ]
    }
   ],
   "source": [
    "ukbbMAFs = defaultdict(float)\n",
    "flipIt = set()\n",
    "whereAreTheFlipIssues = list()\n",
    "\n",
    "for col in filteredUKBB.columns: #which SNPs need to be flipped to align to PRS Weight Allele\n",
    "    if (col == \"ids\") or (col in duplicates):\n",
    "        print(\"Skipping col: {}\".format(col))\n",
    "        continue\n",
    "        \n",
    "    if \":\" in col: #encoded as a chr:location_SNP\n",
    "        snpLoc = col.split(\":\")[1].split(\"_\")[0]\n",
    "        alleleForCount = col.split(\":\")[1].split(\"_\")[1]\n",
    "        if snpLoc in ukbbLocsOffByOne:\n",
    "            snpLoc = int(snpLoc) - 1\n",
    "        else:\n",
    "            snpLoc = int(snpLoc)\n",
    "\n",
    "        if alleleForCount != whyWasThisFileHidden.loc[locToRSID[snpLoc], \"Ref allele for the weight\"]:           \n",
    "            whereAreTheFlipIssues.append(col)\n",
    "            flipIt.add(col)\n",
    "\n",
    "    else: #encoded as a rsid_SNP\n",
    "        #print(col)\n",
    "        rsid = col.split(\"_\")[0]\n",
    "        alleleForCount = col.split(\"_\")[1]\n",
    "        if rsid == \"rs7164220\":\n",
    "            rsid = \"rs7164220 (R2=0.6 with rs4778138)\"\n",
    "            \n",
    "        if alleleForCount != whyWasThisFileHidden.loc[rsid, \"Ref allele for the weight\"]:\n",
    "            whereAreTheFlipIssues.append(col)\n",
    "            flipIt.add(col)\n",
    "\n",
    "print(\"Need to flip {} SNPs for the UKBB... Calculating MAF now \\n\".format(len(flipIt)))\n",
    "print(whereAreTheFlipIssues)\n",
    "print(\"\\n\")\n",
    "\n",
    "for i,row in filteredUKBB.iterrows(): #Calculate UKBB MAFs\n",
    "    counter = 0 \n",
    "    totalFlipped = 0\n",
    "    for col in filteredUKBB.columns:\n",
    "        if (col == \"ids\") or (col in duplicates):\n",
    "            continue\n",
    "\n",
    "        counter +=1\n",
    "        if \":\" in col: #encoded as a chr:location_SNP\n",
    "            snpLoc = col.split(\":\")[1].split(\"_\")[0]\n",
    "            if snpLoc in ukbbLocsOffByOne:\n",
    "                snpLoc = int(snpLoc) - 1\n",
    "            else:\n",
    "                snpLoc = int(snpLoc)\n",
    "\n",
    "            if col in flipIt:\n",
    "                ukbbMAFs[locToRSID[snpLoc]] += np.round((2 - row[col]))/(2*filteredUKBB.shape[0])\n",
    "                totalFlipped += 1\n",
    "            else:\n",
    "                ukbbMAFs[locToRSID[snpLoc]] += np.round(row[col])/(2*filteredUKBB.shape[0])\n",
    "\n",
    "        else:  #encoded as a rsid_SNP\n",
    "            rsid = col.split(\"_\")[0]\n",
    "            if col in flipIt:\n",
    "                ukbbMAFs[rsid] +=  np.round((2 - row[col]))/(2*filteredUKBB.shape[0])\n",
    "                totalFlipped += 1\n",
    "            else:\n",
    "                ukbbMAFs[rsid] += np.round(row[col])/(2*filteredUKBB.shape[0])\n",
    "\n",
    "    if (counter != 201) or (totalFlipped != len(flipIt)):\n",
    "        print(\"AYAYAYAY\")\n",
    "\n",
    "print(flipIt)\n",
    "print(flipIt == set(whereAreTheFlipIssues))"
   ]
  },
  {
   "cell_type": "code",
   "execution_count": 25,
   "metadata": {},
   "outputs": [
    {
     "data": {
      "text/plain": [
       "[('rs187989493', 0.0021008403361344537),\n",
       " ('rs139791480', 0.004201680672268907),\n",
       " ('rs250417', 0.0063025210084033615),\n",
       " ('rs75286671', 0.010504201680672268),\n",
       " ('rs72909003', 0.010504201680672268),\n",
       " ('rs114585466', 0.012605042016806721),\n",
       " ('rs111461999', 0.014705882352941175),\n",
       " ('rs78161156', 0.01680672268907563),\n",
       " ('rs139410052', 0.018907563025210083),\n",
       " ('rs113991941', 0.021008403361344536),\n",
       " ('rs185637766', 0.02310924369747899),\n",
       " ('rs4077700', 0.02310924369747899),\n",
       " ('rs9392778', 0.02310924369747899),\n",
       " ('rs75724758', 0.025210084033613443),\n",
       " ('rs118021671', 0.027310924369747896),\n",
       " ('rs190036801', 0.027310924369747896),\n",
       " ('rs78865622', 0.027310924369747896),\n",
       " ('rs17592036', 0.02941176470588235),\n",
       " ('rs12209946', 0.02941176470588235),\n",
       " ('rs17132024', 0.03571428571428571),\n",
       " ('rs146305655', 0.037815126050420166),\n",
       " ('rs3773576', 0.04201680672268907),\n",
       " ('rs115299550', 0.044117647058823525),\n",
       " ('rs2290419', 0.04831932773109243),\n",
       " ('rs12427405', 0.04831932773109243),\n",
       " ('rs62444470', 0.050420168067226885),\n",
       " ('rs72767211', 0.05252100840336134),\n",
       " ('rs117353195', 0.05462184873949579),\n",
       " ('rs475667', 0.05462184873949579),\n",
       " ('rs12069618', 0.0588235294117647),\n",
       " ('rs6938302', 0.0588235294117647),\n",
       " ('rs12595968', 0.06092436974789915),\n",
       " ('rs149453822', 0.06722689075630253),\n",
       " ('rs74456670', 0.06722689075630253),\n",
       " ('rs7632095', 0.06722689075630253),\n",
       " ('rs75691080', 0.07142857142857145),\n",
       " ('rs73129882', 0.07142857142857145),\n",
       " ('rs149220960', 0.07563025210084036),\n",
       " ('rs11577235', 0.07563025210084037),\n",
       " ('rs4047462', 0.07563025210084037),\n",
       " ('rs11646910', 0.07773109243697483),\n",
       " ('rs6801238', 0.07773109243697483),\n",
       " ('rs17715343', 0.08193277310924375),\n",
       " ('rs11738706', 0.08193277310924375),\n",
       " ('rs79306900', 0.08193277310924375),\n",
       " ('rs59907199', 0.08403361344537821),\n",
       " ('rs650681', 0.08403361344537821),\n",
       " ('rs113707970', 0.08613445378151267),\n",
       " ('rs17071142', 0.08823529411764712),\n",
       " ('rs1851520', 0.08823529411764713),\n",
       " ('rs76364787', 0.09033613445378157),\n",
       " ('rs56035227', 0.09243697478991604),\n",
       " ('rs112987642', 0.09243697478991605),\n",
       " ('rs11648879', 0.09873949579831942),\n",
       " ('rs56026789', 0.09873949579831943),\n",
       " ('rs9787562', 0.1008403361344539),\n",
       " ('rs42392', 0.10294117647058833),\n",
       " ('rs28688825', 0.10294117647058834),\n",
       " ('rs7164220', 0.10504201680672282),\n",
       " ('rs2995264', 0.10714285714285726),\n",
       " ('rs6700589', 0.10714285714285726),\n",
       " ('rs6070243', 0.10924369747899172),\n",
       " ('rs4366466', 0.1113445378151262),\n",
       " ('rs3794638', 0.12184873949579847),\n",
       " ('rs12594938', 0.12394957983193294),\n",
       " ('rs6679026', 0.12394957983193294),\n",
       " ('rs9555417', 0.12815126050420184),\n",
       " ('rs59112743', 0.1323529411764707),\n",
       " ('rs1805008', 0.13445378151260515),\n",
       " ('rs6994183', 0.1365546218487396),\n",
       " ('rs3843706', 0.13865546218487407),\n",
       " ('rs73008229', 0.1386554621848741),\n",
       " ('rs12596638', 0.1386554621848741),\n",
       " ('rs37911', 0.14075630252100851),\n",
       " ('rs6431303', 0.1449579831932774),\n",
       " ('rs6878548', 0.14915966386554627),\n",
       " ('rs6088372', 0.14915966386554635),\n",
       " ('rs75570604', 0.15756302521008408),\n",
       " ('rs73075633', 0.15966386554621853),\n",
       " ('rs11754283', 0.15966386554621856),\n",
       " ('rs4986170', 0.1596638655462186),\n",
       " ('rs2125834', 0.16176470588235303),\n",
       " ('rs77283072', 0.16386554621848745),\n",
       " ('rs9512474', 0.17016806722689082),\n",
       " ('rs71372800', 0.17436974789915966),\n",
       " ('rs8115958', 0.17647058823529416),\n",
       " ('rs16904141', 0.1785714285714286),\n",
       " ('rs28712263', 0.18067226890756305),\n",
       " ('rs17244263', 0.18277310924369752),\n",
       " ('rs4763456', 0.1848739495798319),\n",
       " ('rs11779437', 0.184873949579832),\n",
       " ('rs12045702', 0.1869747899159663),\n",
       " ('rs7952606', 0.19117647058823525),\n",
       " ('rs9581779', 0.1953781512605042),\n",
       " ('rs13171367', 0.1974789915966386),\n",
       " ('rs7127472', 0.19747899159663865),\n",
       " ('rs1285874', 0.19747899159663865),\n",
       " ('rs281509', 0.20378151260504204),\n",
       " ('rs491313', 0.20588235294117646),\n",
       " ('rs9899469', 0.2079831932773109),\n",
       " ('rs61973880', 0.21218487394957974),\n",
       " ('rs72930448', 0.21218487394957977),\n",
       " ('rs6895132', 0.218487394957983),\n",
       " ('rs462464', 0.2268907563025209),\n",
       " ('rs11704050', 0.22899159663865526),\n",
       " ('rs4689599', 0.23109243697478993),\n",
       " ('rs4655048', 0.23529411764705874),\n",
       " ('rs161394', 0.23739495798319324),\n",
       " ('rs12696304', 0.2436974789915964),\n",
       " ('rs13353528', 0.245798319327731),\n",
       " ('rs1510351', 0.2521008403361344),\n",
       " ('rs12606278', 0.25210084033613445),\n",
       " ('rs11700623', 0.26050420168067207),\n",
       " ('rs17416005', 0.2605042016806723),\n",
       " ('rs10954241', 0.26260504201680657),\n",
       " ('rs4951392', 0.2668067226890755),\n",
       " ('rs4329253', 0.27100840336134435),\n",
       " ('rs7611535', 0.2773109243697477),\n",
       " ('rs1532794', 0.2773109243697477),\n",
       " ('rs1858550', 0.27731092436974775),\n",
       " ('rs6839753', 0.27731092436974775),\n",
       " ('rs11710182', 0.2794117647058822),\n",
       " ('rs962298', 0.2794117647058822),\n",
       " ('rs6546607', 0.2815126050420166),\n",
       " ('rs10853552', 0.2836134453781511),\n",
       " ('rs2178905', 0.2836134453781511),\n",
       " ('rs2703126', 0.28781512605042),\n",
       " ('rs10739221', 0.2878151260504201),\n",
       " ('rs4751640', 0.2920168067226888),\n",
       " ('rs11695150', 0.29621848739495776),\n",
       " ('rs7582362', 0.30042016806722655),\n",
       " ('rs12919293', 0.3004201680672267),\n",
       " ('rs35158985', 0.30672268907563),\n",
       " ('rs11726556', 0.30672268907563),\n",
       " ('rs4770890', 0.30672268907563005),\n",
       " ('rs6500698', 0.30882352941176444),\n",
       " ('rs3752750', 0.3151260504201678),\n",
       " ('rs62127650', 0.3172268907563022),\n",
       " ('rs10234834', 0.3193277310924367),\n",
       " ('rs1041981', 0.3319327731092434),\n",
       " ('rs1393350', 0.33403361344537785),\n",
       " ('rs12410869', 0.33403361344537785),\n",
       " ('rs7321272', 0.336134453781512),\n",
       " ('rs10744613', 0.3361344537815122),\n",
       " ('rs498136', 0.33613445378151235),\n",
       " ('rs28396864', 0.34033613445378114),\n",
       " ('rs3780269', 0.3403361344537812),\n",
       " ('rs1542096', 0.3424369747899156),\n",
       " ('rs408825', 0.34453781512605014),\n",
       " ('rs7733911', 0.34873949579831887),\n",
       " ('rs72701304', 0.3487394957983189),\n",
       " ('rs245878', 0.3508403361344534),\n",
       " ('rs6914598', 0.35294117647058787),\n",
       " ('rs163798', 0.3550420168067223),\n",
       " ('rs6103072', 0.3592436974789911),\n",
       " ('rs4865588', 0.3613445378151256),\n",
       " ('rs11980271', 0.36134453781512565),\n",
       " ('rs10900468', 0.3655462184873945),\n",
       " ('rs13338146', 0.367647058823529),\n",
       " ('rs8015191', 0.3718487394957979),\n",
       " ('rs3794207', 0.3739495798319323),\n",
       " ('rs1893948', 0.3739495798319323),\n",
       " ('rs2003574', 0.37605042016806683),\n",
       " ('rs2092180', 0.3781512605042013),\n",
       " ('rs7571090', 0.38235294117647),\n",
       " ('rs34680719', 0.38235294117647006),\n",
       " ('rs2025016', 0.3823529411764701),\n",
       " ('rs4851781', 0.3823529411764701),\n",
       " ('rs10883548', 0.3844537815126046),\n",
       " ('rs1950843', 0.39075630252100796),\n",
       " ('rs4457828', 0.3928571428571423),\n",
       " ('rs12533992', 0.3949579831932767),\n",
       " ('rs6134759', 0.39495798319327674),\n",
       " ('rs10840515', 0.3949579831932768),\n",
       " ('rs11129324', 0.3991596638655457),\n",
       " ('rs7030335', 0.3991596638655457),\n",
       " ('rs1559943', 0.4012605042016801),\n",
       " ('rs6088092', 0.40126050420168025),\n",
       " ('rs61231668', 0.4054621848739491),\n",
       " ('rs1636744', 0.4117647058823524),\n",
       " ('rs1887975', 0.4306722689075624),\n",
       " ('rs1464510', 0.43277310924369683),\n",
       " ('rs661356', 0.43487394957983116),\n",
       " ('rs34466956', 0.44957983193277246),\n",
       " ('rs2111398', 0.4495798319327725),\n",
       " ('rs11686397', 0.45588235294117574),\n",
       " ('rs17823562', 0.4579831932773102),\n",
       " ('rs6021666', 0.46008403361344474),\n",
       " ('rs7041168', 0.4621848739495791),\n",
       " ('rs6909294', 0.46428571428571364),\n",
       " ('rs10145395', 0.4726890756302512),\n",
       " ('rs6974622', 0.4726890756302513),\n",
       " ('rs1554519', 0.4747899159663857),\n",
       " ('rs380286', 0.4747899159663858),\n",
       " ('rs4731207', 0.4852941176470579),\n",
       " ('rs9961596', 0.48739495798319243),\n",
       " ('rs6750047', 0.48949579831932694),\n",
       " ('rs10268757', 0.5084033613445371),\n",
       " ('rs7852450', 0.527310924369747),\n",
       " ('rs9867857', 0.531512605042016),\n",
       " ('rs954427', 0.5357142857142848)]"
      ]
     },
     "execution_count": 25,
     "metadata": {},
     "output_type": "execute_result"
    }
   ],
   "source": [
    "sorted(ukbbMAFs.items(), key = lambda x: x[1])"
   ]
  },
  {
   "cell_type": "markdown",
   "metadata": {},
   "source": [
    "**Sanity Check:** Ensure that there aren't any homozygous SNPs in the entire population - would point to an issue with the file"
   ]
  },
  {
   "cell_type": "code",
   "execution_count": 26,
   "metadata": {},
   "outputs": [],
   "source": [
    "ukbbAnyEmpty = defaultdict(set)\n",
    "for col in filteredUKBB.columns:\n",
    "    if col == \"ids\" or col in duplicates:\n",
    "        continue\n",
    "    ukbbAnyEmpty[col] = set(filteredUKBB[col])\n",
    "\n",
    "for k,v in ukbbAnyEmpty.items():\n",
    "    if len(v) <= 1:\n",
    "        print(k)\n",
    "        print(v)"
   ]
  },
  {
   "cell_type": "markdown",
   "metadata": {},
   "source": [
    "## 3. Visualize how the overlapping risk SNP PRS MAFs compare among studies: \n",
    "\n",
    "**Approach:** Plot SNP MAFs for each cohort on x and y axes. Expect it to follow a diagonal (i.e. SNP frequencies are similar across all cohorts)."
   ]
  },
  {
   "cell_type": "markdown",
   "metadata": {},
   "source": [
    "### 3.1 Melanostrum and TCGA:"
   ]
  },
  {
   "cell_type": "code",
   "execution_count": 27,
   "metadata": {},
   "outputs": [
    {
     "data": {
      "text/html": [
       "<div>\n",
       "<style scoped>\n",
       "    .dataframe tbody tr th:only-of-type {\n",
       "        vertical-align: middle;\n",
       "    }\n",
       "\n",
       "    .dataframe tbody tr th {\n",
       "        vertical-align: top;\n",
       "    }\n",
       "\n",
       "    .dataframe thead th {\n",
       "        text-align: right;\n",
       "    }\n",
       "</style>\n",
       "<table border=\"1\" class=\"dataframe\">\n",
       "  <thead>\n",
       "    <tr style=\"text-align: right;\">\n",
       "      <th></th>\n",
       "      <th>Melanostrum_MAF</th>\n",
       "    </tr>\n",
       "  </thead>\n",
       "  <tbody>\n",
       "    <tr>\n",
       "      <th>rs17416005</th>\n",
       "      <td>0.304683</td>\n",
       "    </tr>\n",
       "    <tr>\n",
       "      <th>rs4655048</th>\n",
       "      <td>0.157031</td>\n",
       "    </tr>\n",
       "    <tr>\n",
       "      <th>rs6679026</th>\n",
       "      <td>0.096310</td>\n",
       "    </tr>\n",
       "    <tr>\n",
       "      <th>rs11577235</th>\n",
       "      <td>0.048428</td>\n",
       "    </tr>\n",
       "    <tr>\n",
       "      <th>rs491313</th>\n",
       "      <td>0.151290</td>\n",
       "    </tr>\n",
       "  </tbody>\n",
       "</table>\n",
       "</div>"
      ],
      "text/plain": [
       "            Melanostrum_MAF\n",
       "rs17416005         0.304683\n",
       "rs4655048          0.157031\n",
       "rs6679026          0.096310\n",
       "rs11577235         0.048428\n",
       "rs491313           0.151290"
      ]
     },
     "execution_count": 27,
     "metadata": {},
     "output_type": "execute_result"
    }
   ],
   "source": [
    "melanostrum = pd.DataFrame([melanostrumMAF]).T\n",
    "melanostrum.columns = [\"Melanostrum_MAF\"]\n",
    "melanostrum.head()"
   ]
  },
  {
   "cell_type": "code",
   "execution_count": 28,
   "metadata": {},
   "outputs": [
    {
     "data": {
      "text/html": [
       "<div>\n",
       "<style scoped>\n",
       "    .dataframe tbody tr th:only-of-type {\n",
       "        vertical-align: middle;\n",
       "    }\n",
       "\n",
       "    .dataframe tbody tr th {\n",
       "        vertical-align: top;\n",
       "    }\n",
       "\n",
       "    .dataframe thead th {\n",
       "        text-align: right;\n",
       "    }\n",
       "</style>\n",
       "<table border=\"1\" class=\"dataframe\">\n",
       "  <thead>\n",
       "    <tr style=\"text-align: right;\">\n",
       "      <th></th>\n",
       "      <th>TCGA_MAF</th>\n",
       "    </tr>\n",
       "  </thead>\n",
       "  <tbody>\n",
       "    <tr>\n",
       "      <th>rs17416005</th>\n",
       "      <td>0.288813</td>\n",
       "    </tr>\n",
       "    <tr>\n",
       "      <th>rs4655048</th>\n",
       "      <td>0.224886</td>\n",
       "    </tr>\n",
       "    <tr>\n",
       "      <th>rs6679026</th>\n",
       "      <td>0.119863</td>\n",
       "    </tr>\n",
       "    <tr>\n",
       "      <th>rs11577235</th>\n",
       "      <td>0.063927</td>\n",
       "    </tr>\n",
       "    <tr>\n",
       "      <th>rs491313</th>\n",
       "      <td>0.173516</td>\n",
       "    </tr>\n",
       "  </tbody>\n",
       "</table>\n",
       "</div>"
      ],
      "text/plain": [
       "            TCGA_MAF\n",
       "rs17416005  0.288813\n",
       "rs4655048   0.224886\n",
       "rs6679026   0.119863\n",
       "rs11577235  0.063927\n",
       "rs491313    0.173516"
      ]
     },
     "execution_count": 28,
     "metadata": {},
     "output_type": "execute_result"
    }
   ],
   "source": [
    "tcgaAlleleFreq = pd.DataFrame([tcgaMAF]).T\n",
    "tcgaAlleleFreq.columns = [\"TCGA_MAF\"]\n",
    "tcgaAlleleFreq.head()"
   ]
  },
  {
   "cell_type": "code",
   "execution_count": 29,
   "metadata": {},
   "outputs": [
    {
     "data": {
      "text/html": [
       "<div>\n",
       "<style scoped>\n",
       "    .dataframe tbody tr th:only-of-type {\n",
       "        vertical-align: middle;\n",
       "    }\n",
       "\n",
       "    .dataframe tbody tr th {\n",
       "        vertical-align: top;\n",
       "    }\n",
       "\n",
       "    .dataframe thead th {\n",
       "        text-align: right;\n",
       "    }\n",
       "</style>\n",
       "<table border=\"1\" class=\"dataframe\">\n",
       "  <thead>\n",
       "    <tr style=\"text-align: right;\">\n",
       "      <th></th>\n",
       "      <th>Melanostrum_MAF</th>\n",
       "      <th>TCGA_MAF</th>\n",
       "      <th>SNP_Weight</th>\n",
       "      <th>Absolute_Weight</th>\n",
       "      <th>Colors</th>\n",
       "    </tr>\n",
       "  </thead>\n",
       "  <tbody>\n",
       "    <tr>\n",
       "      <th>rs17416005</th>\n",
       "      <td>0.304683</td>\n",
       "      <td>0.288813</td>\n",
       "      <td>-0.00930</td>\n",
       "      <td>0.00930</td>\n",
       "      <td>negative</td>\n",
       "    </tr>\n",
       "    <tr>\n",
       "      <th>rs4655048</th>\n",
       "      <td>0.157031</td>\n",
       "      <td>0.224886</td>\n",
       "      <td>-0.00460</td>\n",
       "      <td>0.00460</td>\n",
       "      <td>negative</td>\n",
       "    </tr>\n",
       "    <tr>\n",
       "      <th>rs6679026</th>\n",
       "      <td>0.096310</td>\n",
       "      <td>0.119863</td>\n",
       "      <td>-0.01700</td>\n",
       "      <td>0.01700</td>\n",
       "      <td>negative</td>\n",
       "    </tr>\n",
       "    <tr>\n",
       "      <th>rs11577235</th>\n",
       "      <td>0.048428</td>\n",
       "      <td>0.063927</td>\n",
       "      <td>-0.01400</td>\n",
       "      <td>0.01400</td>\n",
       "      <td>negative</td>\n",
       "    </tr>\n",
       "    <tr>\n",
       "      <th>rs491313</th>\n",
       "      <td>0.151290</td>\n",
       "      <td>0.173516</td>\n",
       "      <td>0.00045</td>\n",
       "      <td>0.00045</td>\n",
       "      <td>positive</td>\n",
       "    </tr>\n",
       "  </tbody>\n",
       "</table>\n",
       "</div>"
      ],
      "text/plain": [
       "            Melanostrum_MAF  TCGA_MAF  SNP_Weight  Absolute_Weight    Colors\n",
       "rs17416005         0.304683  0.288813    -0.00930          0.00930  negative\n",
       "rs4655048          0.157031  0.224886    -0.00460          0.00460  negative\n",
       "rs6679026          0.096310  0.119863    -0.01700          0.01700  negative\n",
       "rs11577235         0.048428  0.063927    -0.01400          0.01400  negative\n",
       "rs491313           0.151290  0.173516     0.00045          0.00045  positive"
      ]
     },
     "execution_count": 29,
     "metadata": {},
     "output_type": "execute_result"
    }
   ],
   "source": [
    "tcgaMelanostrum = pd.concat([melanostrum, tcgaAlleleFreq], axis = 1).dropna()\n",
    "sizeEmUp = list()\n",
    "for i in tcgaMelanostrum.index:\n",
    "    if i == \"rs7164220\": #stupid indexing issue\n",
    "        i = \"rs7164220 (R2=0.6 with rs4778138)\"\n",
    "    sizeEmUp.append(whyWasThisFileHidden.loc[i, \"Weight#\"])\n",
    "tcgaMelanostrum[\"SNP_Weight\"] = sizeEmUp\n",
    "tcgaMelanostrum[\"Absolute_Weight\"] = [abs(el) for el in sizeEmUp]\n",
    "tcgaMelanostrum[\"Colors\"] = [\"positive\" if el >= 0 else \"negative\" for el in tcgaMelanostrum.SNP_Weight] \n",
    "tcgaMelanostrum.head()"
   ]
  },
  {
   "cell_type": "code",
   "execution_count": 30,
   "metadata": {},
   "outputs": [
    {
     "data": {
      "text/plain": [
       "Text(0.01, 0.67, 'r = 0.942')"
      ]
     },
     "execution_count": 30,
     "metadata": {},
     "output_type": "execute_result"
    },
    {
     "data": {
      "image/png": "[encoded data removed]",
      "text/plain": [
       "<Figure size 936x936 with 1 Axes>"
      ]
     },
     "metadata": {},
     "output_type": "display_data"
    }
   ],
   "source": [
    "from scipy import stats\n",
    "def pearsonR(x, y):\n",
    "    return stats.pearsonr(x, y)[0]\n",
    "\n",
    "colorMe = {\"negative\": \"red\", \"positive\": \"blue\"}\n",
    "sns.set(font_scale=1.1)\n",
    "fig, ax = plt.subplots(figsize=(13,13))\n",
    "sns.scatterplot(data = tcgaMelanostrum, x = \"Melanostrum_MAF\", y = \"TCGA_MAF\", size = \"Absolute_Weight\", hue = \"Colors\", palette=colorMe, legend = False)#s = 66\n",
    "plt.plot([0,0.6], [0, 0.6], 'k--', lw = 2.1)\n",
    "ax.fill_between([0,0.6], [0.1,0.7], [-0.1, 0.5], color = \"grey\", alpha = 0.31)\n",
    "\n",
    "plt.ylim(-0.03, 0.7)\n",
    "plt.xlim(-.03, 0.6)\n",
    "\n",
    "plt.xlabel(\"Melanostrum MAF\", fontsize = 16)\n",
    "plt.ylabel(\"TCGA MAF\", fontsize = 16)\n",
    "\n",
    "plt.xticks(fontsize=14)\n",
    "plt.yticks(fontsize=14)\n",
    "\n",
    "plt.text(0.01, 0.67, \"r = {:.3f}\".format(pearsonR(tcgaMelanostrum[\"Melanostrum_MAF\"], tcgaMelanostrum[\"TCGA_MAF\"])), fontweight = \"bold\", fontsize = 13.9)\n"
   ]
  },
  {
   "cell_type": "markdown",
   "metadata": {},
   "source": [
    "Identify all SNPs that have discrepancy of more than 0.1 MAF:"
   ]
  },
  {
   "cell_type": "code",
   "execution_count": 31,
   "metadata": {},
   "outputs": [
    {
     "data": {
      "text/html": [
       "<div>\n",
       "<style scoped>\n",
       "    .dataframe tbody tr th:only-of-type {\n",
       "        vertical-align: middle;\n",
       "    }\n",
       "\n",
       "    .dataframe tbody tr th {\n",
       "        vertical-align: top;\n",
       "    }\n",
       "\n",
       "    .dataframe thead th {\n",
       "        text-align: right;\n",
       "    }\n",
       "</style>\n",
       "<table border=\"1\" class=\"dataframe\">\n",
       "  <thead>\n",
       "    <tr style=\"text-align: right;\">\n",
       "      <th></th>\n",
       "      <th>Melanostrum_MAF</th>\n",
       "      <th>TCGA_MAF</th>\n",
       "      <th>SNP_Weight</th>\n",
       "      <th>Absolute_Weight</th>\n",
       "      <th>Colors</th>\n",
       "    </tr>\n",
       "  </thead>\n",
       "  <tbody>\n",
       "    <tr>\n",
       "      <th>rs1464510</th>\n",
       "      <td>0.424808</td>\n",
       "      <td>0.003425</td>\n",
       "      <td>-0.010000</td>\n",
       "      <td>0.010000</td>\n",
       "      <td>negative</td>\n",
       "    </tr>\n",
       "    <tr>\n",
       "      <th>rs187989493</th>\n",
       "      <td>0.198509</td>\n",
       "      <td>0.001142</td>\n",
       "      <td>0.000061</td>\n",
       "      <td>0.000061</td>\n",
       "      <td>positive</td>\n",
       "    </tr>\n",
       "    <tr>\n",
       "      <th>rs7041168</th>\n",
       "      <td>0.557753</td>\n",
       "      <td>0.429224</td>\n",
       "      <td>0.025000</td>\n",
       "      <td>0.025000</td>\n",
       "      <td>positive</td>\n",
       "    </tr>\n",
       "    <tr>\n",
       "      <th>rs7164220</th>\n",
       "      <td>0.220004</td>\n",
       "      <td>0.084475</td>\n",
       "      <td>-0.033000</td>\n",
       "      <td>0.033000</td>\n",
       "      <td>negative</td>\n",
       "    </tr>\n",
       "  </tbody>\n",
       "</table>\n",
       "</div>"
      ],
      "text/plain": [
       "             Melanostrum_MAF  TCGA_MAF  SNP_Weight  Absolute_Weight    Colors\n",
       "rs1464510           0.424808  0.003425   -0.010000         0.010000  negative\n",
       "rs187989493         0.198509  0.001142    0.000061         0.000061  positive\n",
       "rs7041168           0.557753  0.429224    0.025000         0.025000  positive\n",
       "rs7164220           0.220004  0.084475   -0.033000         0.033000  negative"
      ]
     },
     "execution_count": 31,
     "metadata": {},
     "output_type": "execute_result"
    }
   ],
   "source": [
    "tcgaMelanostrum[abs(tcgaMelanostrum.Melanostrum_MAF - tcgaMelanostrum.TCGA_MAF) >= 0.1]"
   ]
  },
  {
   "cell_type": "markdown",
   "metadata": {},
   "source": [
    "### 3.2 Melanostrum and UKBB"
   ]
  },
  {
   "cell_type": "code",
   "execution_count": 32,
   "metadata": {},
   "outputs": [
    {
     "data": {
      "text/html": [
       "<div>\n",
       "<style scoped>\n",
       "    .dataframe tbody tr th:only-of-type {\n",
       "        vertical-align: middle;\n",
       "    }\n",
       "\n",
       "    .dataframe tbody tr th {\n",
       "        vertical-align: top;\n",
       "    }\n",
       "\n",
       "    .dataframe thead th {\n",
       "        text-align: right;\n",
       "    }\n",
       "</style>\n",
       "<table border=\"1\" class=\"dataframe\">\n",
       "  <thead>\n",
       "    <tr style=\"text-align: right;\">\n",
       "      <th></th>\n",
       "      <th>UKBB_MAF</th>\n",
       "    </tr>\n",
       "  </thead>\n",
       "  <tbody>\n",
       "    <tr>\n",
       "      <th>rs17132024</th>\n",
       "      <td>0.035714</td>\n",
       "    </tr>\n",
       "    <tr>\n",
       "      <th>rs139410052</th>\n",
       "      <td>0.018908</td>\n",
       "    </tr>\n",
       "    <tr>\n",
       "      <th>rs9787562</th>\n",
       "      <td>0.100840</td>\n",
       "    </tr>\n",
       "    <tr>\n",
       "      <th>rs185637766</th>\n",
       "      <td>0.023109</td>\n",
       "    </tr>\n",
       "    <tr>\n",
       "      <th>rs3752750</th>\n",
       "      <td>0.315126</td>\n",
       "    </tr>\n",
       "  </tbody>\n",
       "</table>\n",
       "</div>"
      ],
      "text/plain": [
       "             UKBB_MAF\n",
       "rs17132024   0.035714\n",
       "rs139410052  0.018908\n",
       "rs9787562    0.100840\n",
       "rs185637766  0.023109\n",
       "rs3752750    0.315126"
      ]
     },
     "execution_count": 32,
     "metadata": {},
     "output_type": "execute_result"
    }
   ],
   "source": [
    "ukbbAlleleFreq = pd.DataFrame([ukbbMAFs]).T\n",
    "ukbbAlleleFreq.columns = [\"UKBB_MAF\"]\n",
    "ukbbAlleleFreq.head()"
   ]
  },
  {
   "cell_type": "code",
   "execution_count": 33,
   "metadata": {},
   "outputs": [
    {
     "data": {
      "text/html": [
       "<div>\n",
       "<style scoped>\n",
       "    .dataframe tbody tr th:only-of-type {\n",
       "        vertical-align: middle;\n",
       "    }\n",
       "\n",
       "    .dataframe tbody tr th {\n",
       "        vertical-align: top;\n",
       "    }\n",
       "\n",
       "    .dataframe thead th {\n",
       "        text-align: right;\n",
       "    }\n",
       "</style>\n",
       "<table border=\"1\" class=\"dataframe\">\n",
       "  <thead>\n",
       "    <tr style=\"text-align: right;\">\n",
       "      <th></th>\n",
       "      <th>Melanostrum_MAF</th>\n",
       "      <th>UKBB_MAF</th>\n",
       "      <th>SNP_Weight</th>\n",
       "      <th>Absolute_Weight</th>\n",
       "      <th>Colors</th>\n",
       "    </tr>\n",
       "  </thead>\n",
       "  <tbody>\n",
       "    <tr>\n",
       "      <th>rs17416005</th>\n",
       "      <td>0.304683</td>\n",
       "      <td>0.260504</td>\n",
       "      <td>-0.00930</td>\n",
       "      <td>0.00930</td>\n",
       "      <td>negative</td>\n",
       "    </tr>\n",
       "    <tr>\n",
       "      <th>rs4655048</th>\n",
       "      <td>0.157031</td>\n",
       "      <td>0.235294</td>\n",
       "      <td>-0.00460</td>\n",
       "      <td>0.00460</td>\n",
       "      <td>negative</td>\n",
       "    </tr>\n",
       "    <tr>\n",
       "      <th>rs6679026</th>\n",
       "      <td>0.096310</td>\n",
       "      <td>0.123950</td>\n",
       "      <td>-0.01700</td>\n",
       "      <td>0.01700</td>\n",
       "      <td>negative</td>\n",
       "    </tr>\n",
       "    <tr>\n",
       "      <th>rs11577235</th>\n",
       "      <td>0.048428</td>\n",
       "      <td>0.075630</td>\n",
       "      <td>-0.01400</td>\n",
       "      <td>0.01400</td>\n",
       "      <td>negative</td>\n",
       "    </tr>\n",
       "    <tr>\n",
       "      <th>rs491313</th>\n",
       "      <td>0.151290</td>\n",
       "      <td>0.205882</td>\n",
       "      <td>0.00045</td>\n",
       "      <td>0.00045</td>\n",
       "      <td>positive</td>\n",
       "    </tr>\n",
       "  </tbody>\n",
       "</table>\n",
       "</div>"
      ],
      "text/plain": [
       "            Melanostrum_MAF  UKBB_MAF  SNP_Weight  Absolute_Weight    Colors\n",
       "rs17416005         0.304683  0.260504    -0.00930          0.00930  negative\n",
       "rs4655048          0.157031  0.235294    -0.00460          0.00460  negative\n",
       "rs6679026          0.096310  0.123950    -0.01700          0.01700  negative\n",
       "rs11577235         0.048428  0.075630    -0.01400          0.01400  negative\n",
       "rs491313           0.151290  0.205882     0.00045          0.00045  positive"
      ]
     },
     "execution_count": 33,
     "metadata": {},
     "output_type": "execute_result"
    }
   ],
   "source": [
    "ukbbMelanostrum = pd.concat([melanostrum, ukbbAlleleFreq], axis = 1).dropna()\n",
    "sizeEmUp = list()\n",
    "for i in ukbbMelanostrum.index:\n",
    "    if i == \"rs7164220\": #stupid indexing issue\n",
    "        i = \"rs7164220 (R2=0.6 with rs4778138)\"\n",
    "    sizeEmUp.append(whyWasThisFileHidden.loc[i, \"Weight#\"])\n",
    "ukbbMelanostrum[\"SNP_Weight\"] = sizeEmUp\n",
    "ukbbMelanostrum[\"Absolute_Weight\"] = [abs(el) for el in sizeEmUp]\n",
    "ukbbMelanostrum[\"Colors\"] = [\"positive\" if el >= 0 else \"negative\" for el in ukbbMelanostrum.SNP_Weight] \n",
    "ukbbMelanostrum.head()"
   ]
  },
  {
   "cell_type": "code",
   "execution_count": 34,
   "metadata": {},
   "outputs": [
    {
     "data": {
      "text/plain": [
       "(array([-0.1,  0. ,  0.1,  0.2,  0.3,  0.4,  0.5,  0.6,  0.7]),\n",
       " <a list of 9 Text yticklabel objects>)"
      ]
     },
     "execution_count": 34,
     "metadata": {},
     "output_type": "execute_result"
    },
    {
     "data": {
      "image/png": "[encoded data removed]",
      "text/plain": [
       "<Figure size 936x936 with 1 Axes>"
      ]
     },
     "metadata": {},
     "output_type": "display_data"
    }
   ],
   "source": [
    "fig, ax = plt.subplots(figsize=(13,13))\n",
    "sns.set(font_scale=1.1)\n",
    "sns.scatterplot(data = ukbbMelanostrum, x = \"Melanostrum_MAF\", y = \"UKBB_MAF\", hue = \"Colors\", size = \"Absolute_Weight\", palette=colorMe, legend = False) #, s = 66)\n",
    "plt.plot([0,0.6], [0, 0.6], 'k--', lw = 2.1)\n",
    "ax.fill_between([0,0.6], [0.1,0.7], [-0.1, 0.5], color = \"grey\", alpha = 0.31)\n",
    "\n",
    "plt.xlabel(\"Melanostrum MAF\", fontsize = 16)\n",
    "plt.ylabel(\"Validation MAF\", fontsize = 16)\n",
    "plt.ylim(-0.03, 0.7)\n",
    "plt.xlim(-.03, 0.6)\n",
    "plt.text(0.01, 0.67, \"r = {:.3f}\".format(pearsonR(ukbbMelanostrum[\"Melanostrum_MAF\"], ukbbMelanostrum[\"UKBB_MAF\"])), fontweight = \"bold\", fontsize = 13.9)\n",
    "plt.xticks(fontsize=14)\n",
    "plt.yticks(fontsize=14)"
   ]
  },
  {
   "cell_type": "markdown",
   "metadata": {},
   "source": [
    "Identify all SNPs that have discrepancy of more than 0.1 MAF:"
   ]
  },
  {
   "cell_type": "code",
   "execution_count": 35,
   "metadata": {},
   "outputs": [
    {
     "data": {
      "text/html": [
       "<div>\n",
       "<style scoped>\n",
       "    .dataframe tbody tr th:only-of-type {\n",
       "        vertical-align: middle;\n",
       "    }\n",
       "\n",
       "    .dataframe tbody tr th {\n",
       "        vertical-align: top;\n",
       "    }\n",
       "\n",
       "    .dataframe thead th {\n",
       "        text-align: right;\n",
       "    }\n",
       "</style>\n",
       "<table border=\"1\" class=\"dataframe\">\n",
       "  <thead>\n",
       "    <tr style=\"text-align: right;\">\n",
       "      <th></th>\n",
       "      <th>Melanostrum_MAF</th>\n",
       "      <th>UKBB_MAF</th>\n",
       "      <th>SNP_Weight</th>\n",
       "      <th>Absolute_Weight</th>\n",
       "      <th>Colors</th>\n",
       "    </tr>\n",
       "  </thead>\n",
       "  <tbody>\n",
       "    <tr>\n",
       "      <th>rs187989493</th>\n",
       "      <td>0.198509</td>\n",
       "      <td>0.002101</td>\n",
       "      <td>0.000061</td>\n",
       "      <td>0.000061</td>\n",
       "      <td>positive</td>\n",
       "    </tr>\n",
       "    <tr>\n",
       "      <th>rs1393350</th>\n",
       "      <td>0.233792</td>\n",
       "      <td>0.334034</td>\n",
       "      <td>0.120000</td>\n",
       "      <td>0.120000</td>\n",
       "      <td>positive</td>\n",
       "    </tr>\n",
       "    <tr>\n",
       "      <th>rs7164220</th>\n",
       "      <td>0.220004</td>\n",
       "      <td>0.105042</td>\n",
       "      <td>-0.033000</td>\n",
       "      <td>0.033000</td>\n",
       "      <td>negative</td>\n",
       "    </tr>\n",
       "    <tr>\n",
       "      <th>rs13338146</th>\n",
       "      <td>0.467701</td>\n",
       "      <td>0.367647</td>\n",
       "      <td>-0.001700</td>\n",
       "      <td>0.001700</td>\n",
       "      <td>negative</td>\n",
       "    </tr>\n",
       "    <tr>\n",
       "      <th>rs12919293</th>\n",
       "      <td>0.432415</td>\n",
       "      <td>0.300420</td>\n",
       "      <td>-0.001400</td>\n",
       "      <td>0.001400</td>\n",
       "      <td>negative</td>\n",
       "    </tr>\n",
       "    <tr>\n",
       "      <th>rs75570604</th>\n",
       "      <td>0.044665</td>\n",
       "      <td>0.157563</td>\n",
       "      <td>0.490000</td>\n",
       "      <td>0.490000</td>\n",
       "      <td>positive</td>\n",
       "    </tr>\n",
       "    <tr>\n",
       "      <th>rs2092180</th>\n",
       "      <td>0.505970</td>\n",
       "      <td>0.378151</td>\n",
       "      <td>-0.048000</td>\n",
       "      <td>0.048000</td>\n",
       "      <td>negative</td>\n",
       "    </tr>\n",
       "  </tbody>\n",
       "</table>\n",
       "</div>"
      ],
      "text/plain": [
       "             Melanostrum_MAF  UKBB_MAF  SNP_Weight  Absolute_Weight    Colors\n",
       "rs187989493         0.198509  0.002101    0.000061         0.000061  positive\n",
       "rs1393350           0.233792  0.334034    0.120000         0.120000  positive\n",
       "rs7164220           0.220004  0.105042   -0.033000         0.033000  negative\n",
       "rs13338146          0.467701  0.367647   -0.001700         0.001700  negative\n",
       "rs12919293          0.432415  0.300420   -0.001400         0.001400  negative\n",
       "rs75570604          0.044665  0.157563    0.490000         0.490000  positive\n",
       "rs2092180           0.505970  0.378151   -0.048000         0.048000  negative"
      ]
     },
     "execution_count": 35,
     "metadata": {},
     "output_type": "execute_result"
    }
   ],
   "source": [
    "ukbbMelanostrum[abs(ukbbMelanostrum.Melanostrum_MAF - ukbbMelanostrum.UKBB_MAF) >= 0.1]"
   ]
  },
  {
   "cell_type": "code",
   "execution_count": 36,
   "metadata": {},
   "outputs": [],
   "source": [
    "ukbbMelanostrumOutlierSNPs = set(ukbbMelanostrum[abs(ukbbMelanostrum.Melanostrum_MAF - ukbbMelanostrum.UKBB_MAF) >= 0.1].index)"
   ]
  },
  {
   "cell_type": "code",
   "execution_count": 37,
   "metadata": {},
   "outputs": [
    {
     "name": "stdout",
     "output_type": "stream",
     "text": [
      "The number of MAF outlier SNPs is 7\n"
     ]
    }
   ],
   "source": [
    "print(\"The number of MAF outlier SNPs is {}\".format(ukbbMelanostrum[abs(ukbbMelanostrum.Melanostrum_MAF - ukbbMelanostrum.UKBB_MAF) >= 0.1].shape[0]))"
   ]
  },
  {
   "cell_type": "markdown",
   "metadata": {},
   "source": [
    "### 3.3 TCGA and UKBB:"
   ]
  },
  {
   "cell_type": "code",
   "execution_count": 38,
   "metadata": {},
   "outputs": [
    {
     "name": "stdout",
     "output_type": "stream",
     "text": [
      "The SNP overlap between TCGA and UKBB is 189/190\n"
     ]
    },
    {
     "data": {
      "text/html": [
       "<div>\n",
       "<style scoped>\n",
       "    .dataframe tbody tr th:only-of-type {\n",
       "        vertical-align: middle;\n",
       "    }\n",
       "\n",
       "    .dataframe tbody tr th {\n",
       "        vertical-align: top;\n",
       "    }\n",
       "\n",
       "    .dataframe thead th {\n",
       "        text-align: right;\n",
       "    }\n",
       "</style>\n",
       "<table border=\"1\" class=\"dataframe\">\n",
       "  <thead>\n",
       "    <tr style=\"text-align: right;\">\n",
       "      <th></th>\n",
       "      <th>TCGA_MAF</th>\n",
       "      <th>UKBB_MAF</th>\n",
       "      <th>SNP_Weight</th>\n",
       "      <th>Absolute_Weight</th>\n",
       "      <th>Colors</th>\n",
       "    </tr>\n",
       "  </thead>\n",
       "  <tbody>\n",
       "    <tr>\n",
       "      <th>rs17416005</th>\n",
       "      <td>0.288813</td>\n",
       "      <td>0.260504</td>\n",
       "      <td>-0.00930</td>\n",
       "      <td>0.00930</td>\n",
       "      <td>negative</td>\n",
       "    </tr>\n",
       "    <tr>\n",
       "      <th>rs4655048</th>\n",
       "      <td>0.224886</td>\n",
       "      <td>0.235294</td>\n",
       "      <td>-0.00460</td>\n",
       "      <td>0.00460</td>\n",
       "      <td>negative</td>\n",
       "    </tr>\n",
       "    <tr>\n",
       "      <th>rs6679026</th>\n",
       "      <td>0.119863</td>\n",
       "      <td>0.123950</td>\n",
       "      <td>-0.01700</td>\n",
       "      <td>0.01700</td>\n",
       "      <td>negative</td>\n",
       "    </tr>\n",
       "    <tr>\n",
       "      <th>rs11577235</th>\n",
       "      <td>0.063927</td>\n",
       "      <td>0.075630</td>\n",
       "      <td>-0.01400</td>\n",
       "      <td>0.01400</td>\n",
       "      <td>negative</td>\n",
       "    </tr>\n",
       "    <tr>\n",
       "      <th>rs491313</th>\n",
       "      <td>0.173516</td>\n",
       "      <td>0.205882</td>\n",
       "      <td>0.00045</td>\n",
       "      <td>0.00045</td>\n",
       "      <td>positive</td>\n",
       "    </tr>\n",
       "  </tbody>\n",
       "</table>\n",
       "</div>"
      ],
      "text/plain": [
       "            TCGA_MAF  UKBB_MAF  SNP_Weight  Absolute_Weight    Colors\n",
       "rs17416005  0.288813  0.260504    -0.00930          0.00930  negative\n",
       "rs4655048   0.224886  0.235294    -0.00460          0.00460  negative\n",
       "rs6679026   0.119863  0.123950    -0.01700          0.01700  negative\n",
       "rs11577235  0.063927  0.075630    -0.01400          0.01400  negative\n",
       "rs491313    0.173516  0.205882     0.00045          0.00045  positive"
      ]
     },
     "execution_count": 38,
     "metadata": {},
     "output_type": "execute_result"
    }
   ],
   "source": [
    "tcgaUKBB = pd.concat([tcgaAlleleFreq, ukbbAlleleFreq], axis = 1).dropna()\n",
    "print(\"The SNP overlap between TCGA and UKBB is {}/{}\".format(tcgaUKBB.shape[0],tcgaAlleleFreq.shape[0])) #190 is the minimum of the 2 SNP sets\n",
    "sizeEmUp = list()\n",
    "for i in tcgaUKBB.index:\n",
    "    if i == \"rs7164220\": #stupid indexing issue\n",
    "        i = \"rs7164220 (R2=0.6 with rs4778138)\"\n",
    "    sizeEmUp.append(whyWasThisFileHidden.loc[i, \"Weight#\"])\n",
    "tcgaUKBB[\"SNP_Weight\"] = sizeEmUp\n",
    "tcgaUKBB[\"Absolute_Weight\"] = [abs(el) for el in sizeEmUp]\n",
    "tcgaUKBB[\"Colors\"] = [\"positive\" if el >= 0 else \"negative\" for el in tcgaUKBB.SNP_Weight] \n",
    "tcgaUKBB.head()"
   ]
  },
  {
   "cell_type": "code",
   "execution_count": 39,
   "metadata": {},
   "outputs": [
    {
     "data": {
      "text/plain": [
       "(array([-0.1,  0. ,  0.1,  0.2,  0.3,  0.4,  0.5,  0.6,  0.7]),\n",
       " <a list of 9 Text yticklabel objects>)"
      ]
     },
     "execution_count": 39,
     "metadata": {},
     "output_type": "execute_result"
    },
    {
     "data": {
      "image/png": "[encoded data removed]",
      "text/plain": [
       "<Figure size 936x936 with 1 Axes>"
      ]
     },
     "metadata": {},
     "output_type": "display_data"
    }
   ],
   "source": [
    "fig, ax = plt.subplots(figsize=(13,13))\n",
    "sns.set(font_scale=1.1)\n",
    "sns.scatterplot(data = tcgaUKBB, x = \"TCGA_MAF\", y = \"UKBB_MAF\", hue = \"Colors\", size = \"Absolute_Weight\", palette=colorMe, legend = False) #color = \"m\", s = 66)\n",
    "plt.plot([0,0.6], [0, 0.6], 'k--', lw = 2.1)\n",
    "ax.fill_between([0,0.6], [0.1,0.7], [-0.1, 0.5], color = \"grey\", alpha = 0.31)\n",
    "\n",
    "plt.xlabel(\"TCGA MAF\", fontsize = 16)\n",
    "plt.ylabel(\"Validation MAF\", fontsize = 16)\n",
    "#plt.title(\"UKBB vs. TCGA: MAF Comparison\", y = 1.01, fontsize = 19)\n",
    "plt.text(0.01, 0.67, \"r = {:.3f}\".format(pearsonR(tcgaUKBB[\"TCGA_MAF\"], tcgaUKBB[\"UKBB_MAF\"])), fontweight = \"bold\", fontsize = 13.9)\n",
    "plt.ylim(-0.03, 0.7)\n",
    "plt.xlim(-.03, 0.6)\n",
    "\n",
    "plt.xticks(fontsize=14)\n",
    "plt.yticks(fontsize=14)\n"
   ]
  },
  {
   "cell_type": "markdown",
   "metadata": {},
   "source": [
    "Identify all SNPs that have discrepancy of more than 0.1 MAF:"
   ]
  },
  {
   "cell_type": "code",
   "execution_count": 40,
   "metadata": {},
   "outputs": [
    {
     "data": {
      "text/html": [
       "<div>\n",
       "<style scoped>\n",
       "    .dataframe tbody tr th:only-of-type {\n",
       "        vertical-align: middle;\n",
       "    }\n",
       "\n",
       "    .dataframe tbody tr th {\n",
       "        vertical-align: top;\n",
       "    }\n",
       "\n",
       "    .dataframe thead th {\n",
       "        text-align: right;\n",
       "    }\n",
       "</style>\n",
       "<table border=\"1\" class=\"dataframe\">\n",
       "  <thead>\n",
       "    <tr style=\"text-align: right;\">\n",
       "      <th></th>\n",
       "      <th>TCGA_MAF</th>\n",
       "      <th>UKBB_MAF</th>\n",
       "      <th>SNP_Weight</th>\n",
       "      <th>Absolute_Weight</th>\n",
       "      <th>Colors</th>\n",
       "    </tr>\n",
       "  </thead>\n",
       "  <tbody>\n",
       "    <tr>\n",
       "      <th>rs1464510</th>\n",
       "      <td>0.003425</td>\n",
       "      <td>0.432773</td>\n",
       "      <td>-0.01</td>\n",
       "      <td>0.01</td>\n",
       "      <td>negative</td>\n",
       "    </tr>\n",
       "  </tbody>\n",
       "</table>\n",
       "</div>"
      ],
      "text/plain": [
       "           TCGA_MAF  UKBB_MAF  SNP_Weight  Absolute_Weight    Colors\n",
       "rs1464510  0.003425  0.432773       -0.01             0.01  negative"
      ]
     },
     "execution_count": 40,
     "metadata": {},
     "output_type": "execute_result"
    }
   ],
   "source": [
    "tcgaUKBB[abs(tcgaUKBB.TCGA_MAF - tcgaUKBB.UKBB_MAF) >= 0.1]"
   ]
  },
  {
   "cell_type": "code",
   "execution_count": 41,
   "metadata": {},
   "outputs": [
    {
     "name": "stdout",
     "output_type": "stream",
     "text": [
      "The maximum effect SNP has a weight of 0.49\n",
      "The minimum effect SNP has a weight of -0.4\n"
     ]
    }
   ],
   "source": [
    "print(\"The maximum effect SNP has a weight of {}\".format(max(tcgaUKBB.SNP_Weight)))\n",
    "print(\"The minimum effect SNP has a weight of {}\".format(min(tcgaUKBB.SNP_Weight)))"
   ]
  },
  {
   "cell_type": "markdown",
   "metadata": {},
   "source": [
    "### Do PRS SNPs close to MHC-I show an association with MHC-I AI genotype?\n",
    "\n",
    "Look at SNPs on chromosome 6 and run Fisher's exact test"
   ]
  },
  {
   "cell_type": "markdown",
   "metadata": {},
   "source": [
    "Load in TCGA Summary DF with HLA-types and AI allele status:"
   ]
  },
  {
   "cell_type": "code",
   "execution_count": 42,
   "metadata": {},
   "outputs": [
    {
     "name": "stdout",
     "output_type": "stream",
     "text": [
      "193\n",
      "190\n"
     ]
    }
   ],
   "source": [
    "print(sum(tcgaSummary.HasProtection))\n",
    "tcgaSummary = tcgaSummary[tcgaSummary.Age >= 20] #only looking at >= 20 individuals!\n",
    "print(sum(tcgaSummary.HasProtection))"
   ]
  },
  {
   "cell_type": "code",
   "execution_count": 43,
   "metadata": {},
   "outputs": [
    {
     "data": {
      "text/plain": [
       "(433, 14)"
      ]
     },
     "execution_count": 43,
     "metadata": {},
     "output_type": "execute_result"
    }
   ],
   "source": [
    "tcgaSummary = tcgaSummary[tcgaSummary.index.isin(howRiskyAreYou.columns)]\n",
    "tcgaSummary.shape"
   ]
  },
  {
   "cell_type": "markdown",
   "metadata": {},
   "source": [
    "Get the HLA-genotypes:"
   ]
  },
  {
   "cell_type": "code",
   "execution_count": 44,
   "metadata": {},
   "outputs": [
    {
     "name": "stdout",
     "output_type": "stream",
     "text": [
      "(433, 28)\n"
     ]
    }
   ],
   "source": [
    "chromosome6Only = howRiskyAreYou[howRiskyAreYou[\"#CHROM\"] == 6] \n",
    "for i,row in chromosome6Only.iterrows():\n",
    "    minorAlleleCounts = list()\n",
    "    for inds in tcgaSummary.index:  \n",
    "        minorAlleleCounts.append(Convert(row[inds]))\n",
    "    tcgaSummary[row[\"ID\"]] = minorAlleleCounts\n",
    "print(tcgaSummary.shape)"
   ]
  },
  {
   "cell_type": "markdown",
   "metadata": {},
   "source": [
    "Run the chromosome 6 associations with Autoimmune allele status:"
   ]
  },
  {
   "cell_type": "code",
   "execution_count": 45,
   "metadata": {},
   "outputs": [],
   "source": [
    "prsMHCSNPAssociations = defaultdict(lambda: defaultdict(list))\n",
    "for col in tcgaSummary[[el for el in tcgaSummary.columns if \":\" in el]]: #the SNPs \n",
    "    aiMinAllele = sum(tcgaSummary[tcgaSummary.HasProtection][col])\n",
    "    aiMajAllele = sum([2 - el for el in tcgaSummary[tcgaSummary.HasProtection][col]])\n",
    "    noAIMinAllele = sum(tcgaSummary[~tcgaSummary.HasProtection][col])\n",
    "    noAIMajAllele = sum([2 - el for el in tcgaSummary[~tcgaSummary.HasProtection][col]])\n",
    "    \n",
    "    if(aiMajAllele + aiMinAllele + noAIMajAllele + noAIMinAllele != tcgaSummary.shape[0]*2):\n",
    "        raise ValueError(\"SNP counts are incorrect - total SNPs should == {}\".format(tcgaSummary.shape[0]*2))\n",
    "    \n",
    "    table = [[aiMinAllele, noAIMinAllele],[aiMajAllele, noAIMajAllele]]\n",
    "    \n",
    "    oddsRatio, pSnpVal = stats.fisher_exact(table)\n",
    "    prsMHCSNPAssociations[col][\"OR\"] = oddsRatio\n",
    "    prsMHCSNPAssociations[col][\"p\"] = pSnpVal\n",
    "    \n",
    "    if pSnpVal < 0.05:\n",
    "        print(col)\n",
    "        print(table)\n",
    "        print(\"\\n\")"
   ]
  },
  {
   "cell_type": "markdown",
   "metadata": {},
   "source": [
    "Seems none are significant - correct anyway though:"
   ]
  },
  {
   "cell_type": "code",
   "execution_count": 46,
   "metadata": {},
   "outputs": [],
   "source": [
    "#grch37 coordinates:\n",
    "hlaBBegin = 31321649\n",
    "hlaBEnd = 31324965\n",
    "hlaCBegin = 31236526 #https://grch37.ensembl.org/Homo_sapiens/Gene/Summary?g=ENSG00000204525;r=6:31236526-31239907\n",
    "hlaCEnd = 31239907\n",
    "hlaABegin = 29898024\n",
    "hlaAEnd = 29902665\n",
    "rangeOfHLA = [hlaBBegin, hlaBEnd, hlaABegin, hlaAEnd, hlaCBegin, hlaCEnd]\n",
    "proximalHLASNPs = chromosome6Only[(abs(chromosome6Only[\"POS\"] - max(rangeOfHLA)) <= 3e6) | ((abs(chromosome6Only[\"POS\"] - min(rangeOfHLA)) <= 3e6))]\n",
    "#proximalHLASNPs"
   ]
  },
  {
   "cell_type": "code",
   "execution_count": 47,
   "metadata": {},
   "outputs": [
    {
     "data": {
      "text/plain": [
       "(array([False, False, False]),\n",
       " array([0.235189  , 0.74228973, 0.74228973]),\n",
       " 0.016952427508441503,\n",
       " 0.016666666666666666)"
      ]
     },
     "execution_count": 47,
     "metadata": {},
     "output_type": "execute_result"
    }
   ],
   "source": [
    "snpOrdering = [el[0] for el in sorted(prsMHCSNPAssociations.items(), key = lambda x: x[1][\"p\"]) if el[0] in set(proximalHLASNPs.ID)]\n",
    "pValues = [el[1][\"p\"] for el in sorted(prsMHCSNPAssociations.items(), key = lambda x: x[1][\"p\"]) if el[0] in set(proximalHLASNPs.ID)]\n",
    "mhCorrected = multipletests(pvals = pValues, alpha = 0.05, method = \"fdr_bh\")\n",
    "mhCorrected"
   ]
  }
 ],
 "metadata": {
  "kernelspec": {
   "display_name": "Python 3",
   "language": "python",
   "name": "python3"
  },
  "language_info": {
   "codemirror_mode": {
    "name": "ipython",
    "version": 3
   },
   "file_extension": ".py",
   "mimetype": "text/x-python",
   "name": "python",
   "nbconvert_exporter": "python",
   "pygments_lexer": "ipython3",
   "version": "3.7.3"
  }
 },
 "nbformat": 4,
 "nbformat_minor": 4
}
