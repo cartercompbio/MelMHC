{
 "cells": [
  {
   "cell_type": "markdown",
   "metadata": {},
   "source": [
    "**@author: James V. Talwar** <br>\n",
    "*Created on January 12, 2023 01:22:21*\n",
    "\n",
    "# Generate Mutation Best Rank Scores\n",
    "\n",
    "**About:** This notebook operates as a scaffold for the deluxe skyscraper that is best rank scores. Here all SKCM missense mutations (those making there presence known in both DNA and RNA) are partitioned into their corresponding 8-11mers. Subsequently this notebook generates a bash script to run NetMHCPan4.1. After this script is generated, submitted, and the job completes, this notebook converts the results to mutation best rank scores for all alleles. The final section of this notebook is used to generate neoantigen burdens for TCGA individuals and mutation-specific (i.e., BRAF V600E) MHC-I presentation ability. *Let's begin...*\n",
    "\n",
    "## 1. Import Packages; Load Data"
   ]
  },
  {
   "cell_type": "code",
   "execution_count": 1,
   "metadata": {},
   "outputs": [],
   "source": [
    "import pandas as pd\n",
    "import numpy as np\n",
    "import sys, os\n",
    "sys.path.append(\"/cellar/users/jtalwar/anaconda3/lib/python3.7/site-packages\") #needed so NB will import Biopython\n",
    "from Bio import SeqIO\n",
    "from collections import defaultdict\n",
    "import joblib\n",
    "import time\n",
    "import datetime\n",
    "import tqdm"
   ]
  },
  {
   "cell_type": "code",
   "execution_count": 2,
   "metadata": {},
   "outputs": [],
   "source": [
    "import logging\n",
    "logging.getLogger().setLevel(logging.INFO)\n",
    "logger = logging.getLogger()\n",
    "console = logging.StreamHandler()\n",
    "logger.addHandler(console)"
   ]
  },
  {
   "cell_type": "markdown",
   "metadata": {},
   "source": [
    "Load in  patient mutations found in both DNA and RNA:"
   ]
  },
  {
   "cell_type": "code",
   "execution_count": 3,
   "metadata": {},
   "outputs": [],
   "source": [
    "patientsToMutations = joblib.load(\"../GenotypeData/PatientToMutationMappings/PatientToMutations.pkl\")"
   ]
  },
  {
   "cell_type": "markdown",
   "metadata": {},
   "source": [
    "Load in TCGA RNA mutation calls which have mapping of mutations to transcripts:"
   ]
  },
  {
   "cell_type": "code",
   "execution_count": 4,
   "metadata": {},
   "outputs": [
    {
     "name": "stderr",
     "output_type": "stream",
     "text": [
      "/cellar/users/jtalwar/.local/lib/python3.7/site-packages/IPython/core/interactiveshell.py:3343: DtypeWarning: Columns (87,88,98,118) have mixed types.Specify dtype option on import or set low_memory=False.\n",
      "  exec(code_obj, self.user_global_ns, self.user_ns)\n"
     ]
    }
   ],
   "source": [
    "melanomaRNAPath = \"/cellar/users/andreabc/Data/TCGA/MAFs/masked_MAFs_by_disease/4b7a5729-b83e-4837-9b61-a6002dce1c0a/TCGA.SKCM.mutect.somatic.w_mut_IDS.w_RNA_counts.w_PHBR.w_VAF.maf\"\n",
    "rnaVAF = pd.read_csv(melanomaRNAPath, sep = \"\\t\")\n",
    "\n",
    "filteredRnaVAF = rnaVAF[[\"TCGA_Barcode\", \"Mutation_ID\" , \"Hugo_Symbol\", \"Transcript_ID\", \"Variant_Classification\", \"n_depth\", \"t_depth_x\", \"t_ref_count\",\"t_alt_count_x\", \"readcount_total_depth\", 'Reference_Allele_readcounts', \n",
    "                 \"PHBR-I_score\",\"PHBR-II_score\", \"VAF\", \"rank\", \"percentile_rank\"]]\n",
    "filteredRnaVAF = filteredRnaVAF[filteredRnaVAF[\"Variant_Classification\"] == \"Missense_Mutation\"]\n"
   ]
  },
  {
   "cell_type": "code",
   "execution_count": 5,
   "metadata": {},
   "outputs": [
    {
     "name": "stderr",
     "output_type": "stream",
     "text": [
      "197950it [00:15, 12722.63it/s]\n"
     ]
    }
   ],
   "source": [
    "mutationToTranscript = defaultdict(str)\n",
    "for i, row in tqdm.tqdm(filteredRnaVAF[~filteredRnaVAF.Mutation_ID.isnull()].iterrows()):    \n",
    "    mutation = row[\"Mutation_ID\"].replace('\"', '') #annoying... some strings are wrapped in strings - just why...\n",
    "    if mutation in mutationToTranscript:\n",
    "        if row[\"Transcript_ID\"] != mutationToTranscript.get(mutation):\n",
    "            logging.warning(\"Discrepancy for mutation {}. Previous {}; Current {}\".format(mutation, mutationToTranscript.get(mutation),row[\"Transcript_ID\"]))\n",
    "    \n",
    "    mutationToTranscript[mutation] = row[\"Transcript_ID\"] "
   ]
  },
  {
   "cell_type": "code",
   "execution_count": 6,
   "metadata": {},
   "outputs": [
    {
     "name": "stderr",
     "output_type": "stream",
     "text": [
      "Number of ENST IDs: 17195\n"
     ]
    }
   ],
   "source": [
    "transcripts = set([v for k,v in mutationToTranscript.items()])\n",
    "logging.info(\"Number of ENST IDs: {}\".format(len(transcripts)))"
   ]
  },
  {
   "cell_type": "markdown",
   "metadata": {},
   "source": [
    "Load in TCGA summary DF and extract all unique HLA genotypes:"
   ]
  },
  {
   "cell_type": "code",
   "execution_count": 7,
   "metadata": {},
   "outputs": [
    {
     "data": {
      "text/plain": [
       "{'HLA-B13:02',\n",
       " 'HLA-B27:05',\n",
       " 'HLA-B39:06',\n",
       " 'HLA-B51:01',\n",
       " 'HLA-B57:01',\n",
       " 'HLA-C06:02',\n",
       " 'HLA-C12:03'}"
      ]
     },
     "execution_count": 7,
     "metadata": {},
     "output_type": "execute_result"
    }
   ],
   "source": [
    "#get AI alleles\n",
    "autoimmuneAlleles = set(pd.read_csv(\"../Data/AutoimmuneAlleles.tsv\", sep = \"\\t\", header = None)[0].tolist())\n",
    "autoimmuneAlleles"
   ]
  },
  {
   "cell_type": "code",
   "execution_count": 8,
   "metadata": {},
   "outputs": [],
   "source": [
    "tcgaSummary = pd.read_csv(\"../GenotypeData/TCGA_Summary_With_BRAFV600E_Mutation_Status.tsv\", index_col = 0, sep = \"\\t\")\n",
    "\n",
    "#Filter out individuals < 20 years old given increased likelihood of rare germline predisposing variants.\n",
    "tcgaSummary = tcgaSummary[tcgaSummary.Age >= 20]\n",
    "\n",
    "#Ensure AI Allele Status is correct\n",
    "tcgaSummary[\"HasProtection\"] = [(len(set(row[\"A1\":\"C2\"]).intersection(autoimmuneAlleles)) > 0) for i,row in tcgaSummary.iterrows()]"
   ]
  },
  {
   "cell_type": "code",
   "execution_count": 9,
   "metadata": {},
   "outputs": [],
   "source": [
    "tcgaHLA = set()\n",
    "for i,row in tcgaSummary.iterrows():\n",
    "    tcgaHLA = tcgaHLA.union(set(row[\"A1\":\"C2\"]))"
   ]
  },
  {
   "cell_type": "code",
   "execution_count": 10,
   "metadata": {},
   "outputs": [
    {
     "name": "stderr",
     "output_type": "stream",
     "text": [
      "There exist 118 unique HLA genotypes in the SKCM TCGA.\n"
     ]
    }
   ],
   "source": [
    "logging.info(\"There exist {} unique HLA genotypes in the SKCM TCGA.\".format(len(tcgaHLA)))"
   ]
  },
  {
   "cell_type": "markdown",
   "metadata": {},
   "source": [
    "## 2. Extract Peptide Sequence from ENST IDs:"
   ]
  },
  {
   "cell_type": "code",
   "execution_count": 11,
   "metadata": {},
   "outputs": [],
   "source": [
    "#The file ID mapping ENSTs to a number\n",
    "peptide_map = np.load('/cellar/users/jtalwar/Data/Mappings/enst_to_file_number_dict.npy', \n",
    "                      allow_pickle=True).item()"
   ]
  },
  {
   "cell_type": "code",
   "execution_count": 12,
   "metadata": {},
   "outputs": [
    {
     "name": "stderr",
     "output_type": "stream",
     "text": [
      "The number of missing ENST peptide mappings is: 171\n"
     ]
    }
   ],
   "source": [
    "logging.info(\"The number of missing ENST peptide mappings is: {}\".format(len(transcripts) - len([peptide_map[el] for el in transcripts if el in peptide_map])))"
   ]
  },
  {
   "cell_type": "markdown",
   "metadata": {},
   "source": [
    "Define function to map to peptide sequence:"
   ]
  },
  {
   "cell_type": "code",
   "execution_count": 13,
   "metadata": {},
   "outputs": [],
   "source": [
    "def ZhuLiDoTheThing(transcripts, basePath):\n",
    "    getProteinSequence = defaultdict(str)\n",
    "    missingIDs = set()\n",
    "    for v in tqdm.tqdm(transcripts):\n",
    "        try:\n",
    "            findMe = os.path.join(basePath, peptide_map[v] + '.peptides')\n",
    "            \n",
    "            with open(findMe, 'r') as handle:\n",
    "                sanityCheck = 0\n",
    "                for entry in SeqIO.parse(handle, 'fasta'):\n",
    "                    if 'ENST' + entry.id == v:\n",
    "                        getProteinSequence[v] = str(entry.seq) #df index mapping to sequence\n",
    "                        sanityCheck += 1 \n",
    "                if sanityCheck > 1:\n",
    "                    logging.warning(\"Hmmm... something fishy is afoot\")\n",
    "        except:\n",
    "            missingIDs.add(v)\n",
    "        \n",
    "            \n",
    "    logging.info(\"The total number of ENST IDs w/o a mapping to a peptide sequence is: {}\".format(len(missingIDs)))\n",
    "    return getProteinSequence"
   ]
  },
  {
   "cell_type": "code",
   "execution_count": 14,
   "metadata": {},
   "outputs": [
    {
     "name": "stderr",
     "output_type": "stream",
     "text": [
      "100%|██████████| 17195/17195 [06:13<00:00, 46.09it/s]\n",
      "The total number of ENST IDs w/o a mapping to a peptide sequence is: 171\n"
     ]
    }
   ],
   "source": [
    "verrick = ZhuLiDoTheThing(transcripts = transcripts, basePath='/cellar/users/jtalwar/Data/Mappings/Peptides')"
   ]
  },
  {
   "cell_type": "markdown",
   "metadata": {},
   "source": [
    "## 3. Generate all 8-11 mers (MHC-I) that overlap with mutation location:"
   ]
  },
  {
   "cell_type": "code",
   "execution_count": 15,
   "metadata": {},
   "outputs": [],
   "source": [
    "#Input: Unmutated peptide sequence, window/k-mer length, position at which the amino acid substitution occurs (1-indexed), amino acid to change at given position\n",
    "#Output: A set of mutated k-mers\n",
    "def ExtractAllPeptides(peptide, window, position, unmutatedAA, swapsies): #Need to handle corner case where happens at beginning or end of peptide\n",
    "    if len(peptide) < position:\n",
    "        return {}, True\n",
    "    \n",
    "    if peptide[position - 1] != unmutatedAA: #it seems some are indeed 0-indexed so need to account for that as well...\n",
    "        position += 1\n",
    "    \n",
    "    try:\n",
    "        assert position < len(peptide), position < len(peptide)\n",
    "        assert peptide[position - 1] == unmutatedAA,  peptide[position - 1] == unmutatedAA #sanity check to ensure things are correct\n",
    "    \n",
    "    except AssertionError as invalid:\n",
    "        return {}, invalid\n",
    "        \n",
    "    #if peptide[position - 1] != unmutatedAA:\n",
    "    #    raise ValueError(\"{} ; {}\".format(peptide[position - 1], unmutatedAA))\n",
    "    \n",
    "    protein = peptide[:position-1] + swapsies + peptide[position:]\n",
    "    \n",
    "    if (len(peptide) != len(protein)): #another sanity check\n",
    "        raise RuntimeWarning(\"Protein Assignment length != input peptide length \")\n",
    "        \n",
    "    kmers = set()\n",
    "    for i in range(position-window, position): #len(protein) - window + 1):\n",
    "        kmer = protein[i:i+window]\n",
    "        if len(kmer) == window: #handle corner case at beginning and end\n",
    "            kmers.add(kmer)\n",
    "            \n",
    "    return kmers, False #not invalid "
   ]
  },
  {
   "cell_type": "code",
   "execution_count": 16,
   "metadata": {},
   "outputs": [
    {
     "name": "stderr",
     "output_type": "stream",
     "text": [
      "100%|██████████| 181886/181886 [00:02<00:00, 80540.10it/s]\n",
      "100%|██████████| 181886/181886 [00:01<00:00, 95529.27it/s]\n",
      "100%|██████████| 181886/181886 [00:02<00:00, 79096.25it/s]\n",
      "100%|██████████| 181886/181886 [00:02<00:00, 66805.20it/s]\n"
     ]
    }
   ],
   "source": [
    "windows = [8,9,10,11]\n",
    "mhc1Peptides = defaultdict(set) #mutation to corresponding peptides\n",
    "invalidMutations = set()\n",
    "for window in windows:\n",
    "    counter = 0\n",
    "    for k,v in tqdm.tqdm(mutationToTranscript.items()):\n",
    "        counter += 1\n",
    "        aaPosition = int(k.split(\"_\")[-1][1:-1])\n",
    "        unmutated = k.split(\"_\")[-1][0]\n",
    "        mutation = k.split(\"_\")[-1][-1]\n",
    "        \n",
    "        tempo, invalid = ExtractAllPeptides(peptide = verrick[v], window = window, position = aaPosition, unmutatedAA = unmutated, swapsies = mutation)        \n",
    "        mhc1Peptides[k] = mhc1Peptides[k].union(tempo) #invalid mutations are still mapped here, but as an empty set\n",
    "        if invalid:\n",
    "            invalidMutations.add(k)"
   ]
  },
  {
   "cell_type": "code",
   "execution_count": 17,
   "metadata": {},
   "outputs": [
    {
     "name": "stderr",
     "output_type": "stream",
     "text": [
      "Number of mutations that are inalid (i.e., wrong unmutated amino acid at position i or i -1, or mutation at an invalid position) is: 2415\n"
     ]
    }
   ],
   "source": [
    "logging.info(\"Number of mutations that are inalid (i.e., wrong unmutated amino acid at position i or i -1, or mutation at an invalid position) is: {}\".format(len(invalidMutations)))"
   ]
  },
  {
   "cell_type": "code",
   "execution_count": 18,
   "metadata": {},
   "outputs": [
    {
     "name": "stderr",
     "output_type": "stream",
     "text": [
      "There are 0 missense mutations w/ a greater than expected number of kmers due to different peptides produced from different transcripts.\n"
     ]
    }
   ],
   "source": [
    "logging.info(\"There are {} missense mutations w/ a greater than expected number of kmers due to different peptides produced from different transcripts.\".format(len([(k,v) for k,v in mhc1Peptides.items() if len(v) > 8+9+10+11]))) #These are result of those with different peptides produced by different transcripts"
   ]
  },
  {
   "cell_type": "markdown",
   "metadata": {},
   "source": [
    "Save all mutated peptides (8-11 mers):"
   ]
  },
  {
   "cell_type": "code",
   "execution_count": 19,
   "metadata": {},
   "outputs": [],
   "source": [
    "with open('./allSkcmNeopeptides.peptides', \"w\") as peptides:\n",
    "    for k,v in mhc1Peptides.items():\n",
    "        for val in v:\n",
    "            peptides.write(val + \"\\n\")"
   ]
  },
  {
   "cell_type": "code",
   "execution_count": 20,
   "metadata": {},
   "outputs": [],
   "source": [
    "allMHC1Peptides = np.loadtxt('./allSkcmNeopeptides.peptides', dtype=str)"
   ]
  },
  {
   "cell_type": "code",
   "execution_count": 21,
   "metadata": {},
   "outputs": [],
   "source": [
    "mhc1Peps = set(allMHC1Peptides)"
   ]
  },
  {
   "cell_type": "code",
   "execution_count": 22,
   "metadata": {},
   "outputs": [
    {
     "name": "stderr",
     "output_type": "stream",
     "text": [
      "There are 6689577 unique peptides to be evaluated by NetMHCPan4.1\n"
     ]
    }
   ],
   "source": [
    "logging.info(\"There are {} unique peptides to be evaluated by NetMHCPan4.1\".format(len(mhc1Peps)))\n",
    "savePath = './Mutations.peptides'\n",
    "np.savetxt(savePath, list(mhc1Peps), delimiter='\\n', fmt='%s')"
   ]
  },
  {
   "cell_type": "code",
   "execution_count": 23,
   "metadata": {},
   "outputs": [],
   "source": [
    "del(allMHC1Peptides)"
   ]
  },
  {
   "cell_type": "markdown",
   "metadata": {},
   "source": [
    "\n",
    "## 3. Generate a bash script to run NetMHCPan:"
   ]
  },
  {
   "cell_type": "code",
   "execution_count": 24,
   "metadata": {},
   "outputs": [
    {
     "name": "stdout",
     "output_type": "stream",
     "text": [
      "2915 unique MHC-I Alleles\n"
     ]
    }
   ],
   "source": [
    "mhc1Alleles = np.loadtxt('/cellar/users/andreabc/Data/refs/hla/mhc_i_types.txt', dtype=str)\n",
    "print('{} unique MHC-I Alleles'.format(len(mhc1Alleles)))"
   ]
  },
  {
   "cell_type": "markdown",
   "metadata": {},
   "source": [
    "Subset down to only TCGA alleles:"
   ]
  },
  {
   "cell_type": "code",
   "execution_count": 25,
   "metadata": {},
   "outputs": [
    {
     "data": {
      "text/plain": [
       "'\\nfinishedFilesBasePath = os.path.join(os.getcwd(), \"mhc1Files\")\\nfinishedFiles = [os.path.join(finishedFilesBasePath, el) for el in os.listdir(finishedFilesBasePath) if \".xlsoutput\" in el]\\n\\nfor file in finishedFiles:\\n    f = open(file, \\'r\\')\\n    for line in f:\\n        finishedAlleles = finishedAlleles.union(set([el for el in line.split(\"\\t\") if el != \"\" and el != \"\\n\"]))\\n        break\\n    f.close()\\n'"
      ]
     },
     "execution_count": 25,
     "metadata": {},
     "output_type": "execute_result"
    }
   ],
   "source": [
    "#If certain jobs finish and others time out filter down to those that didn't finish and re-run; Uncomment muted code below in this case\n",
    "finishedAlleles = set() \n",
    "\n",
    "'''\n",
    "finishedFilesBasePath = os.path.join(os.getcwd(), \"mhc1Files\")\n",
    "finishedFiles = [os.path.join(finishedFilesBasePath, el) for el in os.listdir(finishedFilesBasePath) if \".xlsoutput\" in el]\n",
    "\n",
    "for file in finishedFiles:\n",
    "    f = open(file, 'r')\n",
    "    for line in f:\n",
    "        finishedAlleles = finishedAlleles.union(set([el for el in line.split(\"\\t\") if el != \"\" and el != \"\\n\"]))\n",
    "        break\n",
    "    f.close()\n",
    "'''"
   ]
  },
  {
   "cell_type": "code",
   "execution_count": 26,
   "metadata": {},
   "outputs": [
    {
     "name": "stderr",
     "output_type": "stream",
     "text": [
      "All tcga genotypes extracted? True\n"
     ]
    }
   ],
   "source": [
    "mhc1Alleles = [el for el in mhc1Alleles if el in tcgaHLA and el not in finishedAlleles]\n",
    "logging.info(\"All tcga genotypes extracted? {}\".format(len(set(mhc1Alleles)) == len(tcgaHLA)))"
   ]
  },
  {
   "cell_type": "code",
   "execution_count": 27,
   "metadata": {},
   "outputs": [
    {
     "data": {
      "text/plain": [
       "118"
      ]
     },
     "execution_count": 27,
     "metadata": {},
     "output_type": "execute_result"
    }
   ],
   "source": [
    "len(mhc1Alleles)"
   ]
  },
  {
   "cell_type": "code",
   "execution_count": 28,
   "metadata": {},
   "outputs": [
    {
     "name": "stdout",
     "output_type": "stream",
     "text": [
      "40 MHC-I jobs\n"
     ]
    }
   ],
   "source": [
    "def ChunkyKong(allAlleles, chunkSize):\n",
    "    for i in range(0, len(allAlleles), chunkSize):\n",
    "        yield allAlleles[i:i + chunkSize]\n",
    "\n",
    "forRunningInScript1 = [','.join(x) for x in ChunkyKong(mhc1Alleles, 3)] #3 alleles in each job\n",
    "print('{} MHC-I jobs'.format(len(forRunningInScript1)))\n"
   ]
  },
  {
   "cell_type": "markdown",
   "metadata": {},
   "source": [
    "<div class=\"alert alert-block alert-warning\">\n",
    "<b>Notes on running NetMHCPan script generated by method below:</b>\n",
    "<ul>\n",
    "    <b><li>When generating the script provide new paths to locations of all relevant files</li></b>\n",
    "    <b><li>Ensure when running script  have err,out, mhc1Files folders in same place as the script</li></b>\n",
    "    <b><li>Script generated will run 50 jobs in parallel with each job corresponding to 3 (i.e., chunkSize defined above) MHC alleles</li></b>\n",
    "</div>"
   ]
  },
  {
   "cell_type": "code",
   "execution_count": 29,
   "metadata": {
    "collapsed": true,
    "jupyter": {
     "outputs_hidden": true
    }
   },
   "outputs": [
    {
     "data": {
      "text/plain": [
       "'\\n    with open(new_script_file, \\'w\\') as out_file:\\n        out_file.write(\"#!/bin/bash\\n\")\\n        out_file.write(\"#SBATCH --output={}/out/%A.%x.%a.out\\n\".format(pathToScript)) # Out file path and file names\\n        out_file.write(\"#SBATCH --error={}/err/%A.%x.%a.err\\n\".format(pathToScript))  # Error file path and file names\\n        out_file.write(\"#SBATCH --array=1-{}%50\\n\".format(len(allele_list)))          # Array job --> 50; Change as needed\\n        out_file.write(\"#SBATCH --mem=25G\\n\")                                        #\\n        out_file.write(\"#SBATCH -t 9-03:31:13\\n\\n\")                                  # Time-limit before cluster kills job\\n    \\n        out_file.write(\"alleles=({})\\n\".format(\" \".join(allele_list))) #Write the MHC-1/2 alleles\\n        out_file.write(\"allele_string=${alleles[$SLURM_ARRAY_TASK_ID - 1]}\\n\\n\") #slurm array job for parallelization\\n        \\n        out_file.write(\"start_time=$SECONDS\\n\")\\n        \\n        out_file.write(\\'NETMHCPAN={}\\n\\'.format(whichPan))\\n        \\n        out_file.write(\\'INPUT_FILE={}\\n\\'.format(inputFiles))\\n        out_file.write(\\'OUTPUT_DIR={}\\n\\'.format(outDir))\\n                \\n        out_file.write(\"date\\n\")\\n        out_file.write(\"hostname\\n\\n\")\\n        \\n        # Run netmhcpan\\n        out_file.write(\\'$NETMHCPAN -a $allele_string -inptype 1 -f $INPUT_FILE -xls -xlsfile $OUTPUT_DIR/$SLURM_ARRAY_TASK_ID.xlsoutput \\n\\n\\')\\n        out_file.write(\"date\\n\")\\n        out_file.write(\"elapsed=$(( SECONDS - start_time ))\\n\")\\n        out_file.write(\\'eval \"echo Total Script Run Time/Elapsed time: $(date -ud \"@$elapsed\" +\\')\\n        out_file.write(\"\\'$((%s/3600/24)) days %H hr %M min %S sec\\'\" + \\')\"\\')\\n '"
      ]
     },
     "execution_count": 29,
     "metadata": {},
     "output_type": "execute_result"
    }
   ],
   "source": [
    "#inputFiles == peptides here\n",
    "def CreateClusterScript(allele_list, pathToScript, inputFiles, outDir, whichPan, scriptName = 'run_netmhcpan4_1.sh'):\n",
    "    new_script_file = os.path.join(pathToScript, scriptName)\n",
    "    \n",
    "    logging.info(\"Writing bash script to the following:\" + new_script_file)\n",
    "\n",
    "    with open(new_script_file, 'w') as out_file:\n",
    "        out_file.write(\"#!/bin/bash\\n\")\n",
    "        out_file.write(\"#SBATCH --output={}/out/%A.%x.%a.out\\n\".format(pathToScript)) # Out file path and file names\n",
    "        out_file.write(\"#SBATCH --error={}/err/%A.%x.%a.err\\n\".format(pathToScript))  # Error file path and file names\n",
    "        out_file.write(\"#SBATCH --array=1-{}%50\\n\".format(len(allele_list)))          # Array job --> 50; Change as needed\n",
    "        out_file.write(\"#SBATCH --mem=25G\\n\")                                        #\n",
    "        out_file.write(\"#SBATCH -t 9-03:31:13\\n\\n\")                                  # Time-limit before cluster kills job\n",
    "    \n",
    "        out_file.write(\"alleles=({})\\n\".format(\" \".join(allele_list))) #Write the MHC-1/2 alleles\n",
    "        out_file.write(\"allele_string=${alleles[$SLURM_ARRAY_TASK_ID - 1]}\\n\\n\") #slurm array job for parallelization\n",
    "        \n",
    "        out_file.write(\"start_time=$SECONDS\\n\")\n",
    "        \n",
    "        out_file.write('NETMHCPAN={}\\n'.format(whichPan))\n",
    "        \n",
    "        out_file.write('INPUT_FILE={}\\n'.format(inputFiles))\n",
    "        out_file.write('OUTPUT_DIR={}\\n'.format(outDir))\n",
    "                \n",
    "        out_file.write(\"date\\n\")\n",
    "        out_file.write(\"hostname\\n\\n\")\n",
    "        \n",
    "        # Run netmhcpan\n",
    "        out_file.write('$NETMHCPAN -a $allele_string -inptype 1 -f $INPUT_FILE -xls -xlsfile $OUTPUT_DIR/$SLURM_ARRAY_TASK_ID.xlsoutput \\n\\n')\n",
    "        out_file.write(\"date\\n\")\n",
    "        out_file.write(\"elapsed=$(( SECONDS - start_time ))\\n\")\n",
    "        out_file.write('eval \"echo Total Script Run Time/Elapsed time: $(date -ud \"@$elapsed\" +')\n",
    "        out_file.write(\"'$((%s/3600/24)) days %H hr %M min %S sec'\" + ')\"')       \n",
    "        "
   ]
  },
  {
   "cell_type": "code",
   "execution_count": 30,
   "metadata": {},
   "outputs": [
    {
     "name": "stderr",
     "output_type": "stream",
     "text": [
      "Writing bash script to the following:/cellar/users/jtalwar/CleanedCode/MelMHC/Preprocessing/run_netmhcpan4_1.sh\n"
     ]
    }
   ],
   "source": [
    "CreateClusterScript(allele_list=forRunningInScript1, pathToScript = os.getcwd(), inputFiles=os.path.join(os.getcwd(), 'Mutations.peptides'), outDir = os.path.join(os.getcwd(),'OtherMHC1Files'), whichPan ='/cellar/users/andreabc/nrnb/software/netMHCpan-4.1/netMHCpan')"
   ]
  },
  {
   "cell_type": "markdown",
   "metadata": {},
   "source": [
    "## 5. Converting NetMHCPan Results to Best Rank Score Affinity Profile Matrices"
   ]
  },
  {
   "cell_type": "markdown",
   "metadata": {},
   "source": [
    "**Extracting Peptides (rows) and alleles (columns)**:"
   ]
  },
  {
   "cell_type": "code",
   "execution_count": 31,
   "metadata": {},
   "outputs": [],
   "source": [
    "'''\n",
    "INPUT(s) \n",
    " 1) theThing: List of paths to NetMHCPan output files \n",
    " 2) savePath: String corresponding to the path and file name want to write file (ex: /cellar/users/jtalwar/projects/melanoma/VEST_Results/ or os.path.join(os.getcwd(), \"Compiled/\"))\n",
    " 3) dos: boolean indicating whether results are MHC-II or MHC-I (they have different file formats) (default = False --> MHC-I)\n",
    "\n",
    "OUTPUT(s):\n",
    " None --> This function takes in the inputs and merges the results into a single dataframe and writes that dataframe to the savePath with the name PeptideHLADF.csv\n",
    "'''\n",
    "\n",
    "def BolinDoTheThing(theThing, savePath, dos = False):\n",
    "    assert os.path.exists(savePath)\n",
    "    \n",
    "    savePath = os.path.join(savePath, \"PeptideHLADF.csv\")\n",
    "    numHLAAlleleFiles = len([el for i in range(len(theThing)) for el in os.listdir(theThing[i]) if el.endswith(\".xlsoutput\")])\n",
    "    \n",
    "    logging.info(f\"What Thing? Oh I see - okay doing the thing... I'll be sure to put the results in {savePath}\\n\")\n",
    "    \n",
    "    mapEverything = defaultdict(lambda: defaultdict(float))\n",
    "    soItBegins = time.time()\n",
    "    howManyFilesProcessed = 0\n",
    "    \n",
    "    for directory in theThing:\n",
    "        for file in tqdm.tqdm(os.listdir(directory)):\n",
    "            if not file.endswith(\".xlsoutput\"): #occasionaly there can be an ipynb checkpoints folder/file here \n",
    "                continue \n",
    "\n",
    "            f = open(os.path.join(directory, file), 'r')\n",
    "            alleles = []\n",
    "            for line in f:\n",
    "                alleles = [el for el in line.split(\"\\t\") if el != \"\" and el != \"\\n\"]\n",
    "                break\n",
    "            f.close()\n",
    "\n",
    "            temp = pd.read_csv(os.path.join(directory, file), sep =\"\\t\", skiprows=1) \n",
    "\n",
    "            if not dos:\n",
    "                correspondingRanks = ['EL_Rank'] + ['EL_Rank.' + str(i) for i in range(1, len(alleles))] #['EL_Rank','EL_Rank.1','EL_Rank.2','EL_Rank.3','EL_Rank.4']# ranks are in the same order of the alleles --> list comp would make this generalizable...\n",
    "                \n",
    "            else:\n",
    "                correspondingRanks = ['Rank'] + ['Rank.' + str(i) for i in range(1, len(alleles))] #['Rank','Rank.1','Rank.2','Rank.3','Rank.4']\n",
    "            \n",
    "            happyTogether = dict(zip(correspondingRanks, alleles)) #(EL_)Rank. column to allele\n",
    "            \n",
    "            for k,v in happyTogether.items():\n",
    "                mapEverything[v] = dict(zip(temp.Peptide, temp[k]))\n",
    "            \n",
    "            '''\n",
    "            for i in temp.index:\n",
    "                for k,v in happyTogether.items(): #better way is to zip as a dict and then for each allele in an outer dict assign this dict to the allele\n",
    "                    mapEverything[v][temp.loc[i, \"Peptide\"]] = temp.loc[i, k] \n",
    "            '''\n",
    "            \n",
    "            howManyFilesProcessed += 1\n",
    "            if howManyFilesProcessed % 10 == 0:\n",
    "                if not dos:\n",
    "                    logging.info(\"Finished: {} of {} allele files\".format(howManyFilesProcessed, numHLAAlleleFiles))\n",
    "                else:\n",
    "                    logging.info(\"Finished: {} of {} allele files\".format(howManyFilesProcessed, numHLAAlleleFiles))\n",
    "\n",
    "    elapsed = time.time() - soItBegins\n",
    "    logging.info(\"Elapsed Time: {}\".format(datetime.timedelta(seconds = elapsed)))       \n",
    "        \n",
    "    logging.info('Converting to a DataFrame:')\n",
    "    \n",
    "    mappingDataFrame = pd.DataFrame(mapEverything)\n",
    "    logging.info('Saving to save path...\\n')\n",
    "    mappingDataFrame.to_csv(savePath)\n",
    "    logging.info('You did it kid... You did the thing!!!')"
   ]
  },
  {
   "cell_type": "markdown",
   "metadata": {},
   "source": [
    "Generate the Peptide-HLA composite dataframe:"
   ]
  },
  {
   "cell_type": "code",
   "execution_count": 32,
   "metadata": {},
   "outputs": [],
   "source": [
    "BolinDoTheThing(theThing = netMHCPanScoreFileDirectories, savePath = os.path.join(os.path.join(os.getcwd(), \"Compiled/PeptideHLADF.csv\")))"
   ]
  },
  {
   "cell_type": "markdown",
   "metadata": {},
   "source": [
    "Read in composite file(s) generated:"
   ]
  },
  {
   "cell_type": "code",
   "execution_count": 33,
   "metadata": {},
   "outputs": [
    {
     "data": {
      "text/html": [
       "<div>\n",
       "<style scoped>\n",
       "    .dataframe tbody tr th:only-of-type {\n",
       "        vertical-align: middle;\n",
       "    }\n",
       "\n",
       "    .dataframe tbody tr th {\n",
       "        vertical-align: top;\n",
       "    }\n",
       "\n",
       "    .dataframe thead th {\n",
       "        text-align: right;\n",
       "    }\n",
       "</style>\n",
       "<table border=\"1\" class=\"dataframe\">\n",
       "  <thead>\n",
       "    <tr style=\"text-align: right;\">\n",
       "      <th></th>\n",
       "      <th>Unnamed: 0</th>\n",
       "      <th>HLA-B41:02</th>\n",
       "      <th>HLA-B42:01</th>\n",
       "      <th>HLA-B44:02</th>\n",
       "      <th>HLA-C12:02</th>\n",
       "      <th>HLA-C12:03</th>\n",
       "      <th>HLA-C14:02</th>\n",
       "      <th>HLA-B67:01</th>\n",
       "      <th>HLA-B81:01</th>\n",
       "      <th>HLA-C01:02</th>\n",
       "      <th>...</th>\n",
       "      <th>HLA-B35:08</th>\n",
       "      <th>HLA-A30:04</th>\n",
       "      <th>HLA-A31:01</th>\n",
       "      <th>HLA-A32:01</th>\n",
       "      <th>HLA-A02:06</th>\n",
       "      <th>HLA-A02:17</th>\n",
       "      <th>HLA-A03:01</th>\n",
       "      <th>HLA-A26:01</th>\n",
       "      <th>HLA-A26:08</th>\n",
       "      <th>HLA-A29:01</th>\n",
       "    </tr>\n",
       "  </thead>\n",
       "  <tbody>\n",
       "    <tr>\n",
       "      <th>0</th>\n",
       "      <td>SRLHPGGHP</td>\n",
       "      <td>18.7637</td>\n",
       "      <td>55.2778</td>\n",
       "      <td>21.5238</td>\n",
       "      <td>51.4286</td>\n",
       "      <td>50.0</td>\n",
       "      <td>41.2500</td>\n",
       "      <td>35.4167</td>\n",
       "      <td>30.4545</td>\n",
       "      <td>72.5000</td>\n",
       "      <td>...</td>\n",
       "      <td>68.3333</td>\n",
       "      <td>41.6180</td>\n",
       "      <td>47.0000</td>\n",
       "      <td>64.0</td>\n",
       "      <td>59.8276</td>\n",
       "      <td>63.0</td>\n",
       "      <td>41.4000</td>\n",
       "      <td>51.8182</td>\n",
       "      <td>50.9091</td>\n",
       "      <td>54.0000</td>\n",
       "    </tr>\n",
       "    <tr>\n",
       "      <th>1</th>\n",
       "      <td>EDLLCYSKL</td>\n",
       "      <td>3.0468</td>\n",
       "      <td>24.3814</td>\n",
       "      <td>6.5789</td>\n",
       "      <td>56.0000</td>\n",
       "      <td>42.5</td>\n",
       "      <td>53.3333</td>\n",
       "      <td>22.3235</td>\n",
       "      <td>22.8966</td>\n",
       "      <td>45.0000</td>\n",
       "      <td>...</td>\n",
       "      <td>23.3704</td>\n",
       "      <td>38.0183</td>\n",
       "      <td>57.3333</td>\n",
       "      <td>47.0</td>\n",
       "      <td>39.8696</td>\n",
       "      <td>34.5</td>\n",
       "      <td>68.7500</td>\n",
       "      <td>21.0213</td>\n",
       "      <td>21.5185</td>\n",
       "      <td>38.7143</td>\n",
       "    </tr>\n",
       "    <tr>\n",
       "      <th>2</th>\n",
       "      <td>NPPRFSQS</td>\n",
       "      <td>58.0000</td>\n",
       "      <td>11.0802</td>\n",
       "      <td>58.7500</td>\n",
       "      <td>51.4286</td>\n",
       "      <td>45.0</td>\n",
       "      <td>37.6667</td>\n",
       "      <td>10.9328</td>\n",
       "      <td>26.8824</td>\n",
       "      <td>24.5926</td>\n",
       "      <td>...</td>\n",
       "      <td>18.1935</td>\n",
       "      <td>92.3810</td>\n",
       "      <td>83.7500</td>\n",
       "      <td>85.0</td>\n",
       "      <td>80.0000</td>\n",
       "      <td>80.0</td>\n",
       "      <td>80.0000</td>\n",
       "      <td>68.7500</td>\n",
       "      <td>71.0000</td>\n",
       "      <td>56.2500</td>\n",
       "    </tr>\n",
       "    <tr>\n",
       "      <th>3</th>\n",
       "      <td>ETTLWAWFQ</td>\n",
       "      <td>87.5000</td>\n",
       "      <td>70.0000</td>\n",
       "      <td>53.0000</td>\n",
       "      <td>61.6667</td>\n",
       "      <td>60.0</td>\n",
       "      <td>72.5000</td>\n",
       "      <td>71.6667</td>\n",
       "      <td>53.5714</td>\n",
       "      <td>70.0000</td>\n",
       "      <td>...</td>\n",
       "      <td>36.0000</td>\n",
       "      <td>54.5814</td>\n",
       "      <td>15.8690</td>\n",
       "      <td>44.4</td>\n",
       "      <td>61.7500</td>\n",
       "      <td>75.0</td>\n",
       "      <td>32.7273</td>\n",
       "      <td>6.4304</td>\n",
       "      <td>5.4643</td>\n",
       "      <td>30.2143</td>\n",
       "    </tr>\n",
       "    <tr>\n",
       "      <th>4</th>\n",
       "      <td>MRQKIAEKTS</td>\n",
       "      <td>45.8571</td>\n",
       "      <td>69.4444</td>\n",
       "      <td>57.5000</td>\n",
       "      <td>65.0000</td>\n",
       "      <td>67.5</td>\n",
       "      <td>72.5000</td>\n",
       "      <td>60.0000</td>\n",
       "      <td>65.0000</td>\n",
       "      <td>70.0000</td>\n",
       "      <td>...</td>\n",
       "      <td>65.0000</td>\n",
       "      <td>58.0719</td>\n",
       "      <td>76.0000</td>\n",
       "      <td>77.5</td>\n",
       "      <td>63.2500</td>\n",
       "      <td>75.0</td>\n",
       "      <td>71.6667</td>\n",
       "      <td>75.0000</td>\n",
       "      <td>87.5000</td>\n",
       "      <td>85.0000</td>\n",
       "    </tr>\n",
       "  </tbody>\n",
       "</table>\n",
       "<p>5 rows × 119 columns</p>\n",
       "</div>"
      ],
      "text/plain": [
       "   Unnamed: 0  HLA-B41:02  HLA-B42:01  HLA-B44:02  HLA-C12:02  HLA-C12:03  \\\n",
       "0   SRLHPGGHP     18.7637     55.2778     21.5238     51.4286        50.0   \n",
       "1   EDLLCYSKL      3.0468     24.3814      6.5789     56.0000        42.5   \n",
       "2    NPPRFSQS     58.0000     11.0802     58.7500     51.4286        45.0   \n",
       "3   ETTLWAWFQ     87.5000     70.0000     53.0000     61.6667        60.0   \n",
       "4  MRQKIAEKTS     45.8571     69.4444     57.5000     65.0000        67.5   \n",
       "\n",
       "   HLA-C14:02  HLA-B67:01  HLA-B81:01  HLA-C01:02  ...  HLA-B35:08  \\\n",
       "0     41.2500     35.4167     30.4545     72.5000  ...     68.3333   \n",
       "1     53.3333     22.3235     22.8966     45.0000  ...     23.3704   \n",
       "2     37.6667     10.9328     26.8824     24.5926  ...     18.1935   \n",
       "3     72.5000     71.6667     53.5714     70.0000  ...     36.0000   \n",
       "4     72.5000     60.0000     65.0000     70.0000  ...     65.0000   \n",
       "\n",
       "   HLA-A30:04  HLA-A31:01  HLA-A32:01  HLA-A02:06  HLA-A02:17  HLA-A03:01  \\\n",
       "0     41.6180     47.0000        64.0     59.8276        63.0     41.4000   \n",
       "1     38.0183     57.3333        47.0     39.8696        34.5     68.7500   \n",
       "2     92.3810     83.7500        85.0     80.0000        80.0     80.0000   \n",
       "3     54.5814     15.8690        44.4     61.7500        75.0     32.7273   \n",
       "4     58.0719     76.0000        77.5     63.2500        75.0     71.6667   \n",
       "\n",
       "   HLA-A26:01  HLA-A26:08  HLA-A29:01  \n",
       "0     51.8182     50.9091     54.0000  \n",
       "1     21.0213     21.5185     38.7143  \n",
       "2     68.7500     71.0000     56.2500  \n",
       "3      6.4304      5.4643     30.2143  \n",
       "4     75.0000     87.5000     85.0000  \n",
       "\n",
       "[5 rows x 119 columns]"
      ]
     },
     "execution_count": 33,
     "metadata": {},
     "output_type": "execute_result"
    }
   ],
   "source": [
    "peptideToHLAMapping = pd.read_csv(os.path.join(os.path.join(os.getcwd(), \"Compiled/PeptideHLADF.csv\")))\n",
    "peptideToHLAMapping.head()"
   ]
  },
  {
   "cell_type": "markdown",
   "metadata": {},
   "source": [
    "Converting from peptides to mutation level best rank scores:"
   ]
  },
  {
   "cell_type": "code",
   "execution_count": 34,
   "metadata": {},
   "outputs": [
    {
     "name": "stderr",
     "output_type": "stream",
     "text": [
      "All mutations with no mapped peptides in mhc1Peptides are invalid mutations: True\n"
     ]
    }
   ],
   "source": [
    "#SANITY CHECK:\n",
    "logging.info(\"All mutations with no mapped peptides in mhc1Peptides are invalid mutations: {}\".format(set([k for k,v in mhc1Peptides.items() if len(v) == 0]) == invalidMutations))"
   ]
  },
  {
   "cell_type": "code",
   "execution_count": 35,
   "metadata": {},
   "outputs": [],
   "source": [
    "'''\n",
    "INPUT(s):\n",
    " 1) compendium: Peptide to HLA (pandas dataframe)\n",
    " 2) websters: Dictionary mapping each mutation to its corresponding k-mers\n",
    " \n",
    "OUTPUT(s):\n",
    " 1) Best rank score affinity profile dataframe\n",
    "'''\n",
    "def GetBRScores(compendium, websters):\n",
    "    soYouWantToBeAPokemonMaster = defaultdict(lambda: defaultdict(float))\n",
    "    for mutation in tqdm.tqdm(websters):\n",
    "        if len(websters[mutation]) == 0: #These mutations could not be called due to VEST-transcript issues (e.g., Position of mutation > length of the mutation)\n",
    "            continue\n",
    "        subframe = compendium[compendium['Unnamed: 0'].isin(websters.get(mutation))]\n",
    "        for allele in compendium.columns[1:]: #skips the unnamed: 0 of peptides\n",
    "            soYouWantToBeAPokemonMaster['M_' + mutation][allele] = min(subframe[allele])\n",
    "            \n",
    "    return pd.DataFrame(soYouWantToBeAPokemonMaster)"
   ]
  },
  {
   "cell_type": "code",
   "execution_count": 40,
   "metadata": {},
   "outputs": [
    {
     "data": {
      "text/html": [
       "<div>\n",
       "<style scoped>\n",
       "    .dataframe tbody tr th:only-of-type {\n",
       "        vertical-align: middle;\n",
       "    }\n",
       "\n",
       "    .dataframe tbody tr th {\n",
       "        vertical-align: top;\n",
       "    }\n",
       "\n",
       "    .dataframe thead th {\n",
       "        text-align: right;\n",
       "    }\n",
       "</style>\n",
       "<table border=\"1\" class=\"dataframe\">\n",
       "  <thead>\n",
       "    <tr style=\"text-align: right;\">\n",
       "      <th></th>\n",
       "      <th>HLA-B41:02</th>\n",
       "      <th>HLA-B42:01</th>\n",
       "      <th>HLA-B44:02</th>\n",
       "      <th>HLA-C12:02</th>\n",
       "      <th>HLA-C12:03</th>\n",
       "      <th>HLA-C14:02</th>\n",
       "      <th>HLA-B67:01</th>\n",
       "      <th>HLA-B81:01</th>\n",
       "      <th>HLA-C01:02</th>\n",
       "      <th>HLA-B51:08</th>\n",
       "      <th>...</th>\n",
       "      <th>HLA-B35:08</th>\n",
       "      <th>HLA-A30:04</th>\n",
       "      <th>HLA-A31:01</th>\n",
       "      <th>HLA-A32:01</th>\n",
       "      <th>HLA-A02:06</th>\n",
       "      <th>HLA-A02:17</th>\n",
       "      <th>HLA-A03:01</th>\n",
       "      <th>HLA-A26:01</th>\n",
       "      <th>HLA-A26:08</th>\n",
       "      <th>HLA-A29:01</th>\n",
       "    </tr>\n",
       "  </thead>\n",
       "  <tbody>\n",
       "    <tr>\n",
       "      <th>M_M_CAMTA1_S287L</th>\n",
       "      <td>5.3307</td>\n",
       "      <td>0.9563</td>\n",
       "      <td>9.4911</td>\n",
       "      <td>0.7698</td>\n",
       "      <td>0.3099</td>\n",
       "      <td>2.3514</td>\n",
       "      <td>1.7232</td>\n",
       "      <td>1.2152</td>\n",
       "      <td>0.7327</td>\n",
       "      <td>3.2909</td>\n",
       "      <td>...</td>\n",
       "      <td>0.8195</td>\n",
       "      <td>6.2557</td>\n",
       "      <td>0.0885</td>\n",
       "      <td>5.9258</td>\n",
       "      <td>3.7998</td>\n",
       "      <td>2.7453</td>\n",
       "      <td>0.9787</td>\n",
       "      <td>4.4246</td>\n",
       "      <td>2.3806</td>\n",
       "      <td>4.5695</td>\n",
       "    </tr>\n",
       "    <tr>\n",
       "      <th>M_M_C8B_R121Q</th>\n",
       "      <td>8.8238</td>\n",
       "      <td>1.7444</td>\n",
       "      <td>10.5648</td>\n",
       "      <td>13.8580</td>\n",
       "      <td>21.7200</td>\n",
       "      <td>20.2034</td>\n",
       "      <td>0.9338</td>\n",
       "      <td>1.4433</td>\n",
       "      <td>11.7556</td>\n",
       "      <td>8.4536</td>\n",
       "      <td>...</td>\n",
       "      <td>6.7145</td>\n",
       "      <td>8.3721</td>\n",
       "      <td>18.1484</td>\n",
       "      <td>10.0267</td>\n",
       "      <td>1.4824</td>\n",
       "      <td>9.5160</td>\n",
       "      <td>22.5000</td>\n",
       "      <td>13.4078</td>\n",
       "      <td>13.3066</td>\n",
       "      <td>14.9706</td>\n",
       "    </tr>\n",
       "    <tr>\n",
       "      <th>M_M_ARHGAP29_E549K</th>\n",
       "      <td>5.1769</td>\n",
       "      <td>3.8730</td>\n",
       "      <td>1.5164</td>\n",
       "      <td>4.8405</td>\n",
       "      <td>3.5412</td>\n",
       "      <td>4.8571</td>\n",
       "      <td>6.2576</td>\n",
       "      <td>6.9432</td>\n",
       "      <td>1.6890</td>\n",
       "      <td>19.8138</td>\n",
       "      <td>...</td>\n",
       "      <td>17.9740</td>\n",
       "      <td>10.2382</td>\n",
       "      <td>0.6652</td>\n",
       "      <td>7.0347</td>\n",
       "      <td>17.8205</td>\n",
       "      <td>18.1778</td>\n",
       "      <td>2.1259</td>\n",
       "      <td>4.0422</td>\n",
       "      <td>4.4006</td>\n",
       "      <td>12.2249</td>\n",
       "    </tr>\n",
       "    <tr>\n",
       "      <th>M_M_LRRC39_R231Q</th>\n",
       "      <td>3.1753</td>\n",
       "      <td>7.4188</td>\n",
       "      <td>6.3424</td>\n",
       "      <td>3.4966</td>\n",
       "      <td>6.2062</td>\n",
       "      <td>4.8240</td>\n",
       "      <td>6.7726</td>\n",
       "      <td>3.9990</td>\n",
       "      <td>3.2382</td>\n",
       "      <td>2.4776</td>\n",
       "      <td>...</td>\n",
       "      <td>11.3592</td>\n",
       "      <td>6.8742</td>\n",
       "      <td>16.9696</td>\n",
       "      <td>1.9583</td>\n",
       "      <td>0.9093</td>\n",
       "      <td>0.3103</td>\n",
       "      <td>13.3913</td>\n",
       "      <td>15.3669</td>\n",
       "      <td>12.0200</td>\n",
       "      <td>8.5043</td>\n",
       "    </tr>\n",
       "    <tr>\n",
       "      <th>M_M_NTNG1_D31G</th>\n",
       "      <td>12.8264</td>\n",
       "      <td>0.3776</td>\n",
       "      <td>8.4378</td>\n",
       "      <td>0.8774</td>\n",
       "      <td>1.2729</td>\n",
       "      <td>1.3785</td>\n",
       "      <td>0.4073</td>\n",
       "      <td>0.1547</td>\n",
       "      <td>7.3177</td>\n",
       "      <td>0.8833</td>\n",
       "      <td>...</td>\n",
       "      <td>1.8807</td>\n",
       "      <td>1.7532</td>\n",
       "      <td>4.3461</td>\n",
       "      <td>8.3837</td>\n",
       "      <td>7.3821</td>\n",
       "      <td>1.5785</td>\n",
       "      <td>0.6838</td>\n",
       "      <td>7.0597</td>\n",
       "      <td>4.5759</td>\n",
       "      <td>0.8465</td>\n",
       "    </tr>\n",
       "  </tbody>\n",
       "</table>\n",
       "<p>5 rows × 118 columns</p>\n",
       "</div>"
      ],
      "text/plain": [
       "                    HLA-B41:02  HLA-B42:01  HLA-B44:02  HLA-C12:02  \\\n",
       "M_M_CAMTA1_S287L        5.3307      0.9563      9.4911      0.7698   \n",
       "M_M_C8B_R121Q           8.8238      1.7444     10.5648     13.8580   \n",
       "M_M_ARHGAP29_E549K      5.1769      3.8730      1.5164      4.8405   \n",
       "M_M_LRRC39_R231Q        3.1753      7.4188      6.3424      3.4966   \n",
       "M_M_NTNG1_D31G         12.8264      0.3776      8.4378      0.8774   \n",
       "\n",
       "                    HLA-C12:03  HLA-C14:02  HLA-B67:01  HLA-B81:01  \\\n",
       "M_M_CAMTA1_S287L        0.3099      2.3514      1.7232      1.2152   \n",
       "M_M_C8B_R121Q          21.7200     20.2034      0.9338      1.4433   \n",
       "M_M_ARHGAP29_E549K      3.5412      4.8571      6.2576      6.9432   \n",
       "M_M_LRRC39_R231Q        6.2062      4.8240      6.7726      3.9990   \n",
       "M_M_NTNG1_D31G          1.2729      1.3785      0.4073      0.1547   \n",
       "\n",
       "                    HLA-C01:02  HLA-B51:08  ...  HLA-B35:08  HLA-A30:04  \\\n",
       "M_M_CAMTA1_S287L        0.7327      3.2909  ...      0.8195      6.2557   \n",
       "M_M_C8B_R121Q          11.7556      8.4536  ...      6.7145      8.3721   \n",
       "M_M_ARHGAP29_E549K      1.6890     19.8138  ...     17.9740     10.2382   \n",
       "M_M_LRRC39_R231Q        3.2382      2.4776  ...     11.3592      6.8742   \n",
       "M_M_NTNG1_D31G          7.3177      0.8833  ...      1.8807      1.7532   \n",
       "\n",
       "                    HLA-A31:01  HLA-A32:01  HLA-A02:06  HLA-A02:17  \\\n",
       "M_M_CAMTA1_S287L        0.0885      5.9258      3.7998      2.7453   \n",
       "M_M_C8B_R121Q          18.1484     10.0267      1.4824      9.5160   \n",
       "M_M_ARHGAP29_E549K      0.6652      7.0347     17.8205     18.1778   \n",
       "M_M_LRRC39_R231Q       16.9696      1.9583      0.9093      0.3103   \n",
       "M_M_NTNG1_D31G          4.3461      8.3837      7.3821      1.5785   \n",
       "\n",
       "                    HLA-A03:01  HLA-A26:01  HLA-A26:08  HLA-A29:01  \n",
       "M_M_CAMTA1_S287L        0.9787      4.4246      2.3806      4.5695  \n",
       "M_M_C8B_R121Q          22.5000     13.4078     13.3066     14.9706  \n",
       "M_M_ARHGAP29_E549K      2.1259      4.0422      4.4006     12.2249  \n",
       "M_M_LRRC39_R231Q       13.3913     15.3669     12.0200      8.5043  \n",
       "M_M_NTNG1_D31G          0.6838      7.0597      4.5759      0.8465  \n",
       "\n",
       "[5 rows x 118 columns]"
      ]
     },
     "execution_count": 40,
     "metadata": {},
     "output_type": "execute_result"
    }
   ],
   "source": [
    "allMutsBR = GetBRScores(peptideToHLAMapping, mhc1Peptides).T\n",
    "#allMutsBR.to_csv(\"../Data/AllMutationsBRMHC1.tsv\", sep = \"\\t\") #Save all compiled mutation BR scores \n",
    "allMutsBR.head()"
   ]
  },
  {
   "cell_type": "code",
   "execution_count": 41,
   "metadata": {},
   "outputs": [],
   "source": [
    "#Doubled the \"M_\" prefix - remove that\n",
    "allMutsBR.index = [el[2:] for el in allMutsBR.index]  "
   ]
  },
  {
   "cell_type": "markdown",
   "metadata": {},
   "source": [
    "**Sanity Check**: Quality control - ensure best rank scores are consistent with 215 driver mutations"
   ]
  },
  {
   "cell_type": "code",
   "execution_count": 42,
   "metadata": {},
   "outputs": [
    {
     "data": {
      "text/html": [
       "<div>\n",
       "<style scoped>\n",
       "    .dataframe tbody tr th:only-of-type {\n",
       "        vertical-align: middle;\n",
       "    }\n",
       "\n",
       "    .dataframe tbody tr th {\n",
       "        vertical-align: top;\n",
       "    }\n",
       "\n",
       "    .dataframe thead th {\n",
       "        text-align: right;\n",
       "    }\n",
       "</style>\n",
       "<table border=\"1\" class=\"dataframe\">\n",
       "  <thead>\n",
       "    <tr style=\"text-align: right;\">\n",
       "      <th></th>\n",
       "      <th>HLA-A01:01</th>\n",
       "      <th>HLA-A01:02</th>\n",
       "      <th>HLA-A01:03</th>\n",
       "      <th>HLA-A02:01</th>\n",
       "      <th>HLA-A02:03</th>\n",
       "      <th>HLA-A02:05</th>\n",
       "      <th>HLA-A02:06</th>\n",
       "      <th>HLA-A02:17</th>\n",
       "      <th>HLA-A03:01</th>\n",
       "      <th>HLA-A03:02</th>\n",
       "      <th>...</th>\n",
       "      <th>HLA-C12:02</th>\n",
       "      <th>HLA-C12:03</th>\n",
       "      <th>HLA-C14:02</th>\n",
       "      <th>HLA-C15:02</th>\n",
       "      <th>HLA-C15:05</th>\n",
       "      <th>HLA-C16:01</th>\n",
       "      <th>HLA-C16:02</th>\n",
       "      <th>HLA-C16:04</th>\n",
       "      <th>HLA-C17:01</th>\n",
       "      <th>HLA-C18:01</th>\n",
       "    </tr>\n",
       "    <tr>\n",
       "      <th>mutations</th>\n",
       "      <th></th>\n",
       "      <th></th>\n",
       "      <th></th>\n",
       "      <th></th>\n",
       "      <th></th>\n",
       "      <th></th>\n",
       "      <th></th>\n",
       "      <th></th>\n",
       "      <th></th>\n",
       "      <th></th>\n",
       "      <th></th>\n",
       "      <th></th>\n",
       "      <th></th>\n",
       "      <th></th>\n",
       "      <th></th>\n",
       "      <th></th>\n",
       "      <th></th>\n",
       "      <th></th>\n",
       "      <th></th>\n",
       "      <th></th>\n",
       "      <th></th>\n",
       "    </tr>\n",
       "  </thead>\n",
       "  <tbody>\n",
       "    <tr>\n",
       "      <th>M_ABI1_Y37H</th>\n",
       "      <td>3.8008</td>\n",
       "      <td>4.6856</td>\n",
       "      <td>4.9177</td>\n",
       "      <td>8.0503</td>\n",
       "      <td>6.9839</td>\n",
       "      <td>2.5120</td>\n",
       "      <td>4.6197</td>\n",
       "      <td>9.3652</td>\n",
       "      <td>2.0282</td>\n",
       "      <td>1.8338</td>\n",
       "      <td>...</td>\n",
       "      <td>10.5354</td>\n",
       "      <td>4.7839</td>\n",
       "      <td>12.4548</td>\n",
       "      <td>5.6839</td>\n",
       "      <td>6.4017</td>\n",
       "      <td>3.3460</td>\n",
       "      <td>7.8427</td>\n",
       "      <td>3.8659</td>\n",
       "      <td>10.4156</td>\n",
       "      <td>8.3380</td>\n",
       "    </tr>\n",
       "    <tr>\n",
       "      <th>M_ADAM18_M143I</th>\n",
       "      <td>10.5601</td>\n",
       "      <td>5.0832</td>\n",
       "      <td>10.0261</td>\n",
       "      <td>2.3964</td>\n",
       "      <td>2.3015</td>\n",
       "      <td>1.1458</td>\n",
       "      <td>0.9416</td>\n",
       "      <td>1.4517</td>\n",
       "      <td>2.7471</td>\n",
       "      <td>2.4982</td>\n",
       "      <td>...</td>\n",
       "      <td>11.8173</td>\n",
       "      <td>7.6707</td>\n",
       "      <td>1.7467</td>\n",
       "      <td>4.4450</td>\n",
       "      <td>3.7725</td>\n",
       "      <td>11.7972</td>\n",
       "      <td>9.2221</td>\n",
       "      <td>11.6242</td>\n",
       "      <td>4.9811</td>\n",
       "      <td>0.4505</td>\n",
       "    </tr>\n",
       "    <tr>\n",
       "      <th>M_ADAM28_E340K</th>\n",
       "      <td>4.0003</td>\n",
       "      <td>3.9029</td>\n",
       "      <td>3.3626</td>\n",
       "      <td>9.2953</td>\n",
       "      <td>6.0302</td>\n",
       "      <td>2.9363</td>\n",
       "      <td>5.3336</td>\n",
       "      <td>6.9515</td>\n",
       "      <td>0.0083</td>\n",
       "      <td>0.0090</td>\n",
       "      <td>...</td>\n",
       "      <td>0.0836</td>\n",
       "      <td>0.1276</td>\n",
       "      <td>1.5563</td>\n",
       "      <td>1.0952</td>\n",
       "      <td>0.8731</td>\n",
       "      <td>0.0717</td>\n",
       "      <td>0.1126</td>\n",
       "      <td>0.0754</td>\n",
       "      <td>0.9658</td>\n",
       "      <td>2.5878</td>\n",
       "    </tr>\n",
       "    <tr>\n",
       "      <th>M_ADAM7_R225Q</th>\n",
       "      <td>12.7416</td>\n",
       "      <td>8.4973</td>\n",
       "      <td>11.0714</td>\n",
       "      <td>0.5214</td>\n",
       "      <td>0.9849</td>\n",
       "      <td>1.1599</td>\n",
       "      <td>0.4053</td>\n",
       "      <td>0.4698</td>\n",
       "      <td>3.2920</td>\n",
       "      <td>4.8739</td>\n",
       "      <td>...</td>\n",
       "      <td>0.6218</td>\n",
       "      <td>2.2604</td>\n",
       "      <td>3.9682</td>\n",
       "      <td>4.3695</td>\n",
       "      <td>6.6497</td>\n",
       "      <td>5.4039</td>\n",
       "      <td>4.7784</td>\n",
       "      <td>3.3590</td>\n",
       "      <td>3.2598</td>\n",
       "      <td>4.9425</td>\n",
       "    </tr>\n",
       "    <tr>\n",
       "      <th>M_ADCYAP1R1_R413Q</th>\n",
       "      <td>4.3820</td>\n",
       "      <td>2.8423</td>\n",
       "      <td>3.2814</td>\n",
       "      <td>2.7138</td>\n",
       "      <td>1.3210</td>\n",
       "      <td>1.3445</td>\n",
       "      <td>1.2895</td>\n",
       "      <td>2.1165</td>\n",
       "      <td>1.2018</td>\n",
       "      <td>1.2715</td>\n",
       "      <td>...</td>\n",
       "      <td>0.8915</td>\n",
       "      <td>1.3902</td>\n",
       "      <td>4.5561</td>\n",
       "      <td>1.7192</td>\n",
       "      <td>2.6334</td>\n",
       "      <td>2.0356</td>\n",
       "      <td>1.3861</td>\n",
       "      <td>1.1703</td>\n",
       "      <td>3.2527</td>\n",
       "      <td>2.5307</td>\n",
       "    </tr>\n",
       "  </tbody>\n",
       "</table>\n",
       "<p>5 rows × 118 columns</p>\n",
       "</div>"
      ],
      "text/plain": [
       "                   HLA-A01:01  HLA-A01:02  HLA-A01:03  HLA-A02:01  HLA-A02:03  \\\n",
       "mutations                                                                       \n",
       "M_ABI1_Y37H            3.8008      4.6856      4.9177      8.0503      6.9839   \n",
       "M_ADAM18_M143I        10.5601      5.0832     10.0261      2.3964      2.3015   \n",
       "M_ADAM28_E340K         4.0003      3.9029      3.3626      9.2953      6.0302   \n",
       "M_ADAM7_R225Q         12.7416      8.4973     11.0714      0.5214      0.9849   \n",
       "M_ADCYAP1R1_R413Q      4.3820      2.8423      3.2814      2.7138      1.3210   \n",
       "\n",
       "                   HLA-A02:05  HLA-A02:06  HLA-A02:17  HLA-A03:01  HLA-A03:02  \\\n",
       "mutations                                                                       \n",
       "M_ABI1_Y37H            2.5120      4.6197      9.3652      2.0282      1.8338   \n",
       "M_ADAM18_M143I         1.1458      0.9416      1.4517      2.7471      2.4982   \n",
       "M_ADAM28_E340K         2.9363      5.3336      6.9515      0.0083      0.0090   \n",
       "M_ADAM7_R225Q          1.1599      0.4053      0.4698      3.2920      4.8739   \n",
       "M_ADCYAP1R1_R413Q      1.3445      1.2895      2.1165      1.2018      1.2715   \n",
       "\n",
       "                   ...  HLA-C12:02  HLA-C12:03  HLA-C14:02  HLA-C15:02  \\\n",
       "mutations          ...                                                   \n",
       "M_ABI1_Y37H        ...     10.5354      4.7839     12.4548      5.6839   \n",
       "M_ADAM18_M143I     ...     11.8173      7.6707      1.7467      4.4450   \n",
       "M_ADAM28_E340K     ...      0.0836      0.1276      1.5563      1.0952   \n",
       "M_ADAM7_R225Q      ...      0.6218      2.2604      3.9682      4.3695   \n",
       "M_ADCYAP1R1_R413Q  ...      0.8915      1.3902      4.5561      1.7192   \n",
       "\n",
       "                   HLA-C15:05  HLA-C16:01  HLA-C16:02  HLA-C16:04  HLA-C17:01  \\\n",
       "mutations                                                                       \n",
       "M_ABI1_Y37H            6.4017      3.3460      7.8427      3.8659     10.4156   \n",
       "M_ADAM18_M143I         3.7725     11.7972      9.2221     11.6242      4.9811   \n",
       "M_ADAM28_E340K         0.8731      0.0717      0.1126      0.0754      0.9658   \n",
       "M_ADAM7_R225Q          6.6497      5.4039      4.7784      3.3590      3.2598   \n",
       "M_ADCYAP1R1_R413Q      2.6334      2.0356      1.3861      1.1703      3.2527   \n",
       "\n",
       "                   HLA-C18:01  \n",
       "mutations                      \n",
       "M_ABI1_Y37H            8.3380  \n",
       "M_ADAM18_M143I         0.4505  \n",
       "M_ADAM28_E340K         2.5878  \n",
       "M_ADAM7_R225Q          4.9425  \n",
       "M_ADCYAP1R1_R413Q      2.5307  \n",
       "\n",
       "[5 rows x 118 columns]"
      ]
     },
     "execution_count": 42,
     "metadata": {},
     "output_type": "execute_result"
    }
   ],
   "source": [
    "#Load in and filter driver mutation best rank scores\n",
    "driverAffinityProfiles = pd.read_csv(\"../Data/Candidate_Drivers_BR_MHC1.tsv\", sep = \"\\t\", index_col = 0)\n",
    "driverAffinityProfiles = driverAffinityProfiles.T[driverAffinityProfiles.columns.isin(allMutsBR.columns)].T\n",
    "driverAffinityProfiles.sort_index(inplace = True)\n",
    "driverAffinityProfiles.sort_index(inplace = True, axis = 1)\n",
    "driverAffinityProfiles.head()"
   ]
  },
  {
   "cell_type": "code",
   "execution_count": 43,
   "metadata": {},
   "outputs": [
    {
     "name": "stderr",
     "output_type": "stream",
     "text": [
      "/cellar/users/jtalwar/miniconda3/envs/Base/lib/python3.7/site-packages/pandas/core/frame.py:6402: SettingWithCopyWarning: \n",
      "A value is trying to be set on a copy of a slice from a DataFrame\n",
      "\n",
      "See the caveats in the documentation: https://pandas.pydata.org/pandas-docs/stable/user_guide/indexing.html#returning-a-view-versus-a-copy\n",
      "  key,\n"
     ]
    },
    {
     "data": {
      "text/html": [
       "<div>\n",
       "<style scoped>\n",
       "    .dataframe tbody tr th:only-of-type {\n",
       "        vertical-align: middle;\n",
       "    }\n",
       "\n",
       "    .dataframe tbody tr th {\n",
       "        vertical-align: top;\n",
       "    }\n",
       "\n",
       "    .dataframe thead th {\n",
       "        text-align: right;\n",
       "    }\n",
       "</style>\n",
       "<table border=\"1\" class=\"dataframe\">\n",
       "  <thead>\n",
       "    <tr style=\"text-align: right;\">\n",
       "      <th></th>\n",
       "      <th>HLA-A01:01</th>\n",
       "      <th>HLA-A01:02</th>\n",
       "      <th>HLA-A01:03</th>\n",
       "      <th>HLA-A02:01</th>\n",
       "      <th>HLA-A02:03</th>\n",
       "      <th>HLA-A02:05</th>\n",
       "      <th>HLA-A02:06</th>\n",
       "      <th>HLA-A02:17</th>\n",
       "      <th>HLA-A03:01</th>\n",
       "      <th>HLA-A03:02</th>\n",
       "      <th>...</th>\n",
       "      <th>HLA-C12:02</th>\n",
       "      <th>HLA-C12:03</th>\n",
       "      <th>HLA-C14:02</th>\n",
       "      <th>HLA-C15:02</th>\n",
       "      <th>HLA-C15:05</th>\n",
       "      <th>HLA-C16:01</th>\n",
       "      <th>HLA-C16:02</th>\n",
       "      <th>HLA-C16:04</th>\n",
       "      <th>HLA-C17:01</th>\n",
       "      <th>HLA-C18:01</th>\n",
       "    </tr>\n",
       "  </thead>\n",
       "  <tbody>\n",
       "    <tr>\n",
       "      <th>M_ABI1_Y37H</th>\n",
       "      <td>3.8008</td>\n",
       "      <td>4.6856</td>\n",
       "      <td>4.9177</td>\n",
       "      <td>8.0503</td>\n",
       "      <td>6.9839</td>\n",
       "      <td>2.5120</td>\n",
       "      <td>4.6197</td>\n",
       "      <td>9.3652</td>\n",
       "      <td>2.0282</td>\n",
       "      <td>1.8338</td>\n",
       "      <td>...</td>\n",
       "      <td>10.5354</td>\n",
       "      <td>4.7839</td>\n",
       "      <td>12.4548</td>\n",
       "      <td>5.6839</td>\n",
       "      <td>6.4017</td>\n",
       "      <td>3.3460</td>\n",
       "      <td>7.8427</td>\n",
       "      <td>3.8659</td>\n",
       "      <td>10.4156</td>\n",
       "      <td>8.3380</td>\n",
       "    </tr>\n",
       "    <tr>\n",
       "      <th>M_ADAM18_M143I</th>\n",
       "      <td>10.5601</td>\n",
       "      <td>5.0832</td>\n",
       "      <td>10.0261</td>\n",
       "      <td>2.3964</td>\n",
       "      <td>2.3015</td>\n",
       "      <td>1.1458</td>\n",
       "      <td>0.9416</td>\n",
       "      <td>1.4517</td>\n",
       "      <td>2.7471</td>\n",
       "      <td>2.4982</td>\n",
       "      <td>...</td>\n",
       "      <td>11.8173</td>\n",
       "      <td>7.6707</td>\n",
       "      <td>1.7467</td>\n",
       "      <td>4.4450</td>\n",
       "      <td>3.7725</td>\n",
       "      <td>11.7972</td>\n",
       "      <td>9.2221</td>\n",
       "      <td>11.6242</td>\n",
       "      <td>4.9811</td>\n",
       "      <td>0.4505</td>\n",
       "    </tr>\n",
       "    <tr>\n",
       "      <th>M_ADAM28_E340K</th>\n",
       "      <td>4.0003</td>\n",
       "      <td>3.9029</td>\n",
       "      <td>3.3626</td>\n",
       "      <td>9.2953</td>\n",
       "      <td>6.0302</td>\n",
       "      <td>2.9363</td>\n",
       "      <td>5.3336</td>\n",
       "      <td>6.9515</td>\n",
       "      <td>0.0083</td>\n",
       "      <td>0.0090</td>\n",
       "      <td>...</td>\n",
       "      <td>0.0836</td>\n",
       "      <td>0.1276</td>\n",
       "      <td>1.5563</td>\n",
       "      <td>1.0952</td>\n",
       "      <td>0.8731</td>\n",
       "      <td>0.0717</td>\n",
       "      <td>0.1126</td>\n",
       "      <td>0.0754</td>\n",
       "      <td>0.9658</td>\n",
       "      <td>2.5878</td>\n",
       "    </tr>\n",
       "    <tr>\n",
       "      <th>M_ADAM7_R225Q</th>\n",
       "      <td>12.7416</td>\n",
       "      <td>8.4973</td>\n",
       "      <td>11.0714</td>\n",
       "      <td>0.5214</td>\n",
       "      <td>0.9849</td>\n",
       "      <td>1.1599</td>\n",
       "      <td>0.4053</td>\n",
       "      <td>0.4698</td>\n",
       "      <td>3.2920</td>\n",
       "      <td>4.8739</td>\n",
       "      <td>...</td>\n",
       "      <td>0.6218</td>\n",
       "      <td>2.2604</td>\n",
       "      <td>3.9682</td>\n",
       "      <td>4.3695</td>\n",
       "      <td>6.6497</td>\n",
       "      <td>5.4039</td>\n",
       "      <td>4.7784</td>\n",
       "      <td>3.3590</td>\n",
       "      <td>3.2598</td>\n",
       "      <td>4.9425</td>\n",
       "    </tr>\n",
       "    <tr>\n",
       "      <th>M_ADCYAP1R1_R413Q</th>\n",
       "      <td>4.3820</td>\n",
       "      <td>2.8423</td>\n",
       "      <td>3.2814</td>\n",
       "      <td>2.7138</td>\n",
       "      <td>1.3210</td>\n",
       "      <td>1.3445</td>\n",
       "      <td>1.2895</td>\n",
       "      <td>2.1165</td>\n",
       "      <td>1.2018</td>\n",
       "      <td>1.2715</td>\n",
       "      <td>...</td>\n",
       "      <td>0.8915</td>\n",
       "      <td>1.3902</td>\n",
       "      <td>4.5561</td>\n",
       "      <td>1.7192</td>\n",
       "      <td>2.6334</td>\n",
       "      <td>2.0356</td>\n",
       "      <td>1.3861</td>\n",
       "      <td>1.1703</td>\n",
       "      <td>3.2527</td>\n",
       "      <td>2.5307</td>\n",
       "    </tr>\n",
       "  </tbody>\n",
       "</table>\n",
       "<p>5 rows × 118 columns</p>\n",
       "</div>"
      ],
      "text/plain": [
       "                   HLA-A01:01  HLA-A01:02  HLA-A01:03  HLA-A02:01  HLA-A02:03  \\\n",
       "M_ABI1_Y37H            3.8008      4.6856      4.9177      8.0503      6.9839   \n",
       "M_ADAM18_M143I        10.5601      5.0832     10.0261      2.3964      2.3015   \n",
       "M_ADAM28_E340K         4.0003      3.9029      3.3626      9.2953      6.0302   \n",
       "M_ADAM7_R225Q         12.7416      8.4973     11.0714      0.5214      0.9849   \n",
       "M_ADCYAP1R1_R413Q      4.3820      2.8423      3.2814      2.7138      1.3210   \n",
       "\n",
       "                   HLA-A02:05  HLA-A02:06  HLA-A02:17  HLA-A03:01  HLA-A03:02  \\\n",
       "M_ABI1_Y37H            2.5120      4.6197      9.3652      2.0282      1.8338   \n",
       "M_ADAM18_M143I         1.1458      0.9416      1.4517      2.7471      2.4982   \n",
       "M_ADAM28_E340K         2.9363      5.3336      6.9515      0.0083      0.0090   \n",
       "M_ADAM7_R225Q          1.1599      0.4053      0.4698      3.2920      4.8739   \n",
       "M_ADCYAP1R1_R413Q      1.3445      1.2895      2.1165      1.2018      1.2715   \n",
       "\n",
       "                   ...  HLA-C12:02  HLA-C12:03  HLA-C14:02  HLA-C15:02  \\\n",
       "M_ABI1_Y37H        ...     10.5354      4.7839     12.4548      5.6839   \n",
       "M_ADAM18_M143I     ...     11.8173      7.6707      1.7467      4.4450   \n",
       "M_ADAM28_E340K     ...      0.0836      0.1276      1.5563      1.0952   \n",
       "M_ADAM7_R225Q      ...      0.6218      2.2604      3.9682      4.3695   \n",
       "M_ADCYAP1R1_R413Q  ...      0.8915      1.3902      4.5561      1.7192   \n",
       "\n",
       "                   HLA-C15:05  HLA-C16:01  HLA-C16:02  HLA-C16:04  HLA-C17:01  \\\n",
       "M_ABI1_Y37H            6.4017      3.3460      7.8427      3.8659     10.4156   \n",
       "M_ADAM18_M143I         3.7725     11.7972      9.2221     11.6242      4.9811   \n",
       "M_ADAM28_E340K         0.8731      0.0717      0.1126      0.0754      0.9658   \n",
       "M_ADAM7_R225Q          6.6497      5.4039      4.7784      3.3590      3.2598   \n",
       "M_ADCYAP1R1_R413Q      2.6334      2.0356      1.3861      1.1703      3.2527   \n",
       "\n",
       "                   HLA-C18:01  \n",
       "M_ABI1_Y37H            8.3380  \n",
       "M_ADAM18_M143I         0.4505  \n",
       "M_ADAM28_E340K         2.5878  \n",
       "M_ADAM7_R225Q          4.9425  \n",
       "M_ADCYAP1R1_R413Q      2.5307  \n",
       "\n",
       "[5 rows x 118 columns]"
      ]
     },
     "execution_count": 43,
     "metadata": {},
     "output_type": "execute_result"
    }
   ],
   "source": [
    "driverAllMuts = allMutsBR[allMutsBR.index.isin(driverAffinityProfiles.index)]\n",
    "driverAllMuts.sort_index(inplace = True)\n",
    "driverAllMuts.sort_index(inplace = True, axis = 1)\n",
    "driverAllMuts.head()"
   ]
  },
  {
   "cell_type": "code",
   "execution_count": 44,
   "metadata": {},
   "outputs": [
    {
     "name": "stderr",
     "output_type": "stream",
     "text": [
      "Dimensions consistent? True\n",
      "Indexes consistent? True\n",
      "Columns consistent? True\n"
     ]
    }
   ],
   "source": [
    "logging.info(\"Dimensions consistent? {}\".format(driverAllMuts.shape == driverAffinityProfiles.shape))\n",
    "logging.info(\"Indexes consistent? {}\".format((driverAllMuts.index == driverAffinityProfiles.index).all()))\n",
    "logging.info(\"Columns consistent? {}\".format((driverAllMuts.columns == driverAffinityProfiles.columns).all()))"
   ]
  },
  {
   "cell_type": "code",
   "execution_count": 45,
   "metadata": {},
   "outputs": [
    {
     "name": "stderr",
     "output_type": "stream",
     "text": [
      "Mutation Best Rank Consistency? True\n"
     ]
    }
   ],
   "source": [
    "logging.info(\"Mutation Best Rank Consistency? {}\".format(driverAllMuts.round(11).equals(driverAffinityProfiles.round(11)))) #Consistent to 11 decimal places"
   ]
  },
  {
   "cell_type": "markdown",
   "metadata": {},
   "source": [
    "## 6. Computing and Storing Strong and Weak Binding Neoantigen Burdens for Individuals \n",
    "\n",
    " - Strong: PHBR < 0.5\n",
    " - Weak: PHBR < 2\n",
    " \n",
    "**Define method for calculating PHBR**:"
   ]
  },
  {
   "cell_type": "code",
   "execution_count": 46,
   "metadata": {},
   "outputs": [],
   "source": [
    "'''\n",
    "INPUT(s):\n",
    " 1) affinityProfile: A pandas dataframe of mutation (rows) and HLA-alleles (columns; Class I alleles) with best rank scores\n",
    " 2) mutation: Str (or any valid index instance) corresponding to a particular row/mutation in affinityProfiles (if it was capable of being computed: i.e., it was a valid mutation)\n",
    " 3) alleles: List of an individuals 6 MHC-I/HLA alleles \n",
    " \n",
    "OUTPUT(s):\n",
    " 1) phbr: An individuals PHBR score for the given mutation (float)\n",
    " 2) mutationValid: Whether the given mutation existed in affinityProfiles (bool). If using the full mutation BR affinityProfiles, this corresponds \n",
    "    to whether a mutation was valid/capable of having BR scores computed. \n",
    "    \n",
    "About: Method for calculating PHBR-I scores\n",
    "'''\n",
    "def CalcPHBR(affinityProfile, mutation, alleles):\n",
    "    assert len(alleles) == 6\n",
    "\n",
    "    mutationValid = mutation in affinityProfile.index\n",
    "    \n",
    "    if not mutationValid:\n",
    "        return None, mutationValid\n",
    "    \n",
    "    inverseBestRankScore = 0\n",
    "    for allele in alleles:\n",
    "        inverseBestRankScore += 1/affinityProfile.loc[mutation, allele]\n",
    "    \n",
    "    phbr = 6/inverseBestRankScore\n",
    "    \n",
    "    return phbr, mutationValid"
   ]
  },
  {
   "cell_type": "markdown",
   "metadata": {},
   "source": [
    "**Compute neoantigen burdens:**"
   ]
  },
  {
   "cell_type": "code",
   "execution_count": 47,
   "metadata": {},
   "outputs": [
    {
     "name": "stderr",
     "output_type": "stream",
     "text": [
      "100%|██████████| 464/464 [00:11<00:00, 41.41it/s]\n"
     ]
    }
   ],
   "source": [
    "neoantigenBurden = defaultdict(lambda: defaultdict(int)) #Keys TCGA-_ _ _ _:{StrongBinding_PHBR-I_0.5 WeakBinding_PHBR-I_2 TotalMutations ValidMutations InvalidMutations}\n",
    "strongBindThresh = 0.5\n",
    "weakBindThresh = 2\n",
    "\n",
    "for k,v in tqdm.tqdm(patientsToMutations.items()):\n",
    "    if k not in tcgaSummary.index: #Get for filtered set (>= 20 years of age of diagnosis, not MSI etc.)\n",
    "        continue\n",
    "        \n",
    "    patientAlleles = list(tcgaSummary.loc[k, \"A1\":\"C2\"])\n",
    "    neoantigenBurden[k][\"TotalMutations\"] = len(v) #patient specific number of mutations in both DNA and RNA\n",
    "    \n",
    "    for mutation in v:\n",
    "        phbr, valMut = CalcPHBR(affinityProfile = allMutsBR, mutation = mutation, alleles = patientAlleles) \n",
    "        \n",
    "        if not valMut:\n",
    "            neoantigenBurden[k][\"InvalidMutations\"] += int(not valMut)\n",
    "            continue\n",
    "            \n",
    "        neoantigenBurden[k][\"ValidMutations\"] += int(valMut)\n",
    "        neoantigenBurden[k][\"StrongBinding_PHBR-I_0.5\"] += int(phbr < strongBindThresh)\n",
    "        neoantigenBurden[k][\"WeakBinding_PHBR-I_2\"] += int(phbr < weakBindThresh)\n",
    "        \n",
    "    if \"InvalidMutations\" not in neoantigenBurden[k]:\n",
    "        neoantigenBurden[k][\"InvalidMutations\"] = 0 #Handles issue of NaNs/None when convert to DF"
   ]
  },
  {
   "cell_type": "markdown",
   "metadata": {},
   "source": [
    "**Compute ability to present BRAF V600E at weak and strong binding thresholds:**"
   ]
  },
  {
   "cell_type": "code",
   "execution_count": 48,
   "metadata": {},
   "outputs": [],
   "source": [
    "for k,v in patientsToMutations.items():\n",
    "    if k not in tcgaSummary.index: #Get for filtered set (>= 20 years of age of diagnosis, not MSI etc.)\n",
    "        continue \n",
    "        \n",
    "    patientAlleles = list(tcgaSummary.loc[k, \"A1\":\"C2\"])\n",
    "    phbr, valMut = CalcPHBR(affinityProfile = allMutsBR, mutation = \"M_BRAF_V600E\", alleles = patientAlleles) \n",
    "    \n",
    "    assert valMut\n",
    "    \n",
    "    neoantigenBurden[k][\"WeakV600EPresentation\"] = int(phbr < weakBindThresh) \n",
    "    neoantigenBurden[k][\"StrongV600EPresentation\"] = int(phbr < strongBindThresh)"
   ]
  },
  {
   "cell_type": "markdown",
   "metadata": {},
   "source": [
    "**Save Results:**"
   ]
  },
  {
   "cell_type": "code",
   "execution_count": 50,
   "metadata": {},
   "outputs": [],
   "source": [
    "pd.DataFrame(neoantigenBurden).T[[\"StrongBinding_PHBR-I_0.5\", \"WeakBinding_PHBR-I_2\", \"InvalidMutations\", \"ValidMutations\", \"TotalMutations\", \"StrongV600EPresentation\", \"WeakV600EPresentation\"]].to_csv(\"../GenotypeData/NeoantigenBurdens_SKCM_TCGA.tsv\", sep = \"\\t\")"
   ]
  }
 ],
 "metadata": {
  "kernelspec": {
   "display_name": "Python 3",
   "language": "python",
   "name": "python3"
  },
  "language_info": {
   "codemirror_mode": {
    "name": "ipython",
    "version": 3
   },
   "file_extension": ".py",
   "mimetype": "text/x-python",
   "name": "python",
   "nbconvert_exporter": "python",
   "pygments_lexer": "ipython3",
   "version": "3.7.3"
  }
 },
 "nbformat": 4,
 "nbformat_minor": 4
}
